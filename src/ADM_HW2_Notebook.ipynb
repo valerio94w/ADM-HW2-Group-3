{
 "cells": [
  {
   "cell_type": "code",
   "execution_count": 8,
   "metadata": {
    "collapsed": true
   },
   "outputs": [],
   "source": [
    "import pandas as pd\n",
    "import matplotlib.pyplot as plt\n",
    "import datetime\n",
    "import numpy as np\n",
    "import seaborn as sns\n",
    "import pandas as pd\n",
    "from pandas import DataFrame, read_csv"
   ]
  },
  {
   "cell_type": "code",
   "execution_count": 9,
   "metadata": {
    "collapsed": true
   },
   "outputs": [],
   "source": [
    "Location = r\"csv\\yellow_tripdata_2018-01.csv\"   #here is where i save january data"
   ]
  },
  {
   "cell_type": "code",
   "execution_count": 10,
   "metadata": {
    "collapsed": true
   },
   "outputs": [],
   "source": [
    "nytaxi_january =pd.read_csv(Location, usecols=[1,7])"
   ]
  },
  {
   "cell_type": "code",
   "execution_count": null,
   "metadata": {
    "collapsed": true
   },
   "outputs": [],
   "source": []
  },
  {
   "cell_type": "code",
   "execution_count": 11,
   "metadata": {},
   "outputs": [
    {
     "data": {
      "text/html": [
       "<div>\n",
       "<style>\n",
       "    .dataframe thead tr:only-child th {\n",
       "        text-align: right;\n",
       "    }\n",
       "\n",
       "    .dataframe thead th {\n",
       "        text-align: left;\n",
       "    }\n",
       "\n",
       "    .dataframe tbody tr th {\n",
       "        vertical-align: top;\n",
       "    }\n",
       "</style>\n",
       "<table border=\"1\" class=\"dataframe\">\n",
       "  <thead>\n",
       "    <tr style=\"text-align: right;\">\n",
       "      <th></th>\n",
       "      <th>tpep_pickup_datetime</th>\n",
       "      <th>PULocationID</th>\n",
       "    </tr>\n",
       "  </thead>\n",
       "  <tbody>\n",
       "    <tr>\n",
       "      <th>0</th>\n",
       "      <td>2018-01-01 11:22:49</td>\n",
       "      <td>7</td>\n",
       "    </tr>\n",
       "    <tr>\n",
       "      <th>1</th>\n",
       "      <td>2018-01-01 11:53:13</td>\n",
       "      <td>261</td>\n",
       "    </tr>\n",
       "    <tr>\n",
       "      <th>2</th>\n",
       "      <td>2018-01-01 11:02:02</td>\n",
       "      <td>237</td>\n",
       "    </tr>\n",
       "  </tbody>\n",
       "</table>\n",
       "</div>"
      ],
      "text/plain": [
       "  tpep_pickup_datetime  PULocationID\n",
       "0  2018-01-01 11:22:49             7\n",
       "1  2018-01-01 11:53:13           261\n",
       "2  2018-01-01 11:02:02           237"
      ]
     },
     "execution_count": 11,
     "metadata": {},
     "output_type": "execute_result"
    }
   ],
   "source": [
    "nytaxi_january[:3] "
   ]
  },
  {
   "cell_type": "code",
   "execution_count": 12,
   "metadata": {
    "collapsed": true
   },
   "outputs": [],
   "source": [
    "Location_taxi_zone =r\"csv\\taxi _zone_lookup.csv\" "
   ]
  },
  {
   "cell_type": "code",
   "execution_count": 13,
   "metadata": {
    "collapsed": true
   },
   "outputs": [],
   "source": [
    "nyBorough =pd.read_csv(Location_taxi_zone, usecols=[0,1])"
   ]
  },
  {
   "cell_type": "code",
   "execution_count": 14,
   "metadata": {
    "collapsed": true
   },
   "outputs": [],
   "source": [
    "taxi_and_Borough_january=nytaxi_january.join(nyBorough.set_index('LocationID'), on='PULocationID')"
   ]
  },
  {
   "cell_type": "code",
   "execution_count": 15,
   "metadata": {},
   "outputs": [
    {
     "data": {
      "text/html": [
       "<div>\n",
       "<style>\n",
       "    .dataframe thead tr:only-child th {\n",
       "        text-align: right;\n",
       "    }\n",
       "\n",
       "    .dataframe thead th {\n",
       "        text-align: left;\n",
       "    }\n",
       "\n",
       "    .dataframe tbody tr th {\n",
       "        vertical-align: top;\n",
       "    }\n",
       "</style>\n",
       "<table border=\"1\" class=\"dataframe\">\n",
       "  <thead>\n",
       "    <tr style=\"text-align: right;\">\n",
       "      <th></th>\n",
       "      <th>tpep_pickup_datetime</th>\n",
       "      <th>PULocationID</th>\n",
       "      <th>Borough</th>\n",
       "    </tr>\n",
       "  </thead>\n",
       "  <tbody>\n",
       "    <tr>\n",
       "      <th>0</th>\n",
       "      <td>2018-01-01 11:22:49</td>\n",
       "      <td>7</td>\n",
       "      <td>Queens</td>\n",
       "    </tr>\n",
       "    <tr>\n",
       "      <th>1</th>\n",
       "      <td>2018-01-01 11:53:13</td>\n",
       "      <td>261</td>\n",
       "      <td>Manhattan</td>\n",
       "    </tr>\n",
       "    <tr>\n",
       "      <th>2</th>\n",
       "      <td>2018-01-01 11:02:02</td>\n",
       "      <td>237</td>\n",
       "      <td>Manhattan</td>\n",
       "    </tr>\n",
       "  </tbody>\n",
       "</table>\n",
       "</div>"
      ],
      "text/plain": [
       "  tpep_pickup_datetime  PULocationID    Borough\n",
       "0  2018-01-01 11:22:49             7     Queens\n",
       "1  2018-01-01 11:53:13           261  Manhattan\n",
       "2  2018-01-01 11:02:02           237  Manhattan"
      ]
     },
     "execution_count": 15,
     "metadata": {},
     "output_type": "execute_result"
    }
   ],
   "source": [
    "taxi_and_Borough_january[:3]"
   ]
  },
  {
   "cell_type": "code",
   "execution_count": 16,
   "metadata": {
    "collapsed": true
   },
   "outputs": [],
   "source": [
    "Borough_grouped_january = taxi_and_Borough_january.groupby('Borough')   #groups data by borough"
   ]
  },
  {
   "cell_type": "code",
   "execution_count": 17,
   "metadata": {},
   "outputs": [
    {
     "data": {
      "text/plain": [
       "Manhattan        88081\n",
       "Queens            8353\n",
       "Unknown           2376\n",
       "Brooklyn          1095\n",
       "Bronx               70\n",
       "EWR                 24\n",
       "Staten Island        1\n",
       "Name: Borough, dtype: int64"
      ]
     },
     "execution_count": 17,
     "metadata": {},
     "output_type": "execute_result"
    }
   ],
   "source": [
    "taxi_and_Borough_january['Borough'].value_counts()"
   ]
  },
  {
   "cell_type": "code",
   "execution_count": 18,
   "metadata": {
    "collapsed": true
   },
   "outputs": [],
   "source": [
    "taxi_and_Borough_january=taxi_and_Borough_january[taxi_and_Borough_january.Borough != 'Unknown']"
   ]
  },
  {
   "cell_type": "code",
   "execution_count": 19,
   "metadata": {
    "collapsed": true
   },
   "outputs": [],
   "source": [
    "january_average =taxi_and_Borough_january['Borough'].value_counts()/31"
   ]
  },
  {
   "cell_type": "code",
   "execution_count": 20,
   "metadata": {},
   "outputs": [
    {
     "data": {
      "text/plain": [
       "Manhattan        2841.322581\n",
       "Queens            269.451613\n",
       "Brooklyn           35.322581\n",
       "Bronx               2.258065\n",
       "EWR                 0.774194\n",
       "Staten Island       0.032258\n",
       "Name: Borough, dtype: float64"
      ]
     },
     "execution_count": 20,
     "metadata": {},
     "output_type": "execute_result"
    }
   ],
   "source": [
    "january_average"
   ]
  },
  {
   "cell_type": "code",
   "execution_count": 21,
   "metadata": {},
   "outputs": [
    {
     "data": {
      "text/plain": [
       "Manhattan        2841.32\n",
       "Queens            269.45\n",
       "Brooklyn           35.32\n",
       "Bronx               2.26\n",
       "EWR                 0.77\n",
       "Staten Island       0.03\n",
       "Name: Borough, dtype: float64"
      ]
     },
     "execution_count": 21,
     "metadata": {},
     "output_type": "execute_result"
    }
   ],
   "source": [
    "round(january_average,2)"
   ]
  },
  {
   "cell_type": "code",
   "execution_count": 22,
   "metadata": {
    "collapsed": true
   },
   "outputs": [],
   "source": [
    "january_average=round(january_average,2)"
   ]
  },
  {
   "cell_type": "code",
   "execution_count": 23,
   "metadata": {
    "collapsed": true
   },
   "outputs": [],
   "source": [
    "january_average=pd.DataFrame(january_average)"
   ]
  },
  {
   "cell_type": "code",
   "execution_count": 24,
   "metadata": {},
   "outputs": [
    {
     "data": {
      "text/html": [
       "<div>\n",
       "<style>\n",
       "    .dataframe thead tr:only-child th {\n",
       "        text-align: right;\n",
       "    }\n",
       "\n",
       "    .dataframe thead th {\n",
       "        text-align: left;\n",
       "    }\n",
       "\n",
       "    .dataframe tbody tr th {\n",
       "        vertical-align: top;\n",
       "    }\n",
       "</style>\n",
       "<table border=\"1\" class=\"dataframe\">\n",
       "  <thead>\n",
       "    <tr style=\"text-align: right;\">\n",
       "      <th></th>\n",
       "      <th>Borough</th>\n",
       "    </tr>\n",
       "  </thead>\n",
       "  <tbody>\n",
       "    <tr>\n",
       "      <th>Manhattan</th>\n",
       "      <td>2841.32</td>\n",
       "    </tr>\n",
       "    <tr>\n",
       "      <th>Queens</th>\n",
       "      <td>269.45</td>\n",
       "    </tr>\n",
       "    <tr>\n",
       "      <th>Brooklyn</th>\n",
       "      <td>35.32</td>\n",
       "    </tr>\n",
       "  </tbody>\n",
       "</table>\n",
       "</div>"
      ],
      "text/plain": [
       "           Borough\n",
       "Manhattan  2841.32\n",
       "Queens      269.45\n",
       "Brooklyn     35.32"
      ]
     },
     "execution_count": 24,
     "metadata": {},
     "output_type": "execute_result"
    }
   ],
   "source": [
    "january_average[:3]"
   ]
  },
  {
   "cell_type": "code",
   "execution_count": 25,
   "metadata": {
    "collapsed": true
   },
   "outputs": [],
   "source": [
    "january_average.columns=['January']"
   ]
  },
  {
   "cell_type": "code",
   "execution_count": 26,
   "metadata": {
    "collapsed": true
   },
   "outputs": [],
   "source": [
    "Location_february =r\"csv\\yellow_tripdata_2018-02.csv\""
   ]
  },
  {
   "cell_type": "code",
   "execution_count": 27,
   "metadata": {
    "collapsed": true
   },
   "outputs": [],
   "source": [
    "ny_taxi_february =pd.read_csv(Location_february, usecols=[1,7])"
   ]
  },
  {
   "cell_type": "code",
   "execution_count": 28,
   "metadata": {
    "collapsed": true
   },
   "outputs": [],
   "source": [
    "taxi_and_Borough_february=ny_taxi_february.join(nyBorough.set_index('LocationID'), on='PULocationID')"
   ]
  },
  {
   "cell_type": "code",
   "execution_count": 29,
   "metadata": {
    "collapsed": true
   },
   "outputs": [],
   "source": [
    "Borough_grouped_february = taxi_and_Borough_february.groupby('Borough')"
   ]
  },
  {
   "cell_type": "code",
   "execution_count": 30,
   "metadata": {},
   "outputs": [
    {
     "data": {
      "text/plain": [
       "Manhattan        85861\n",
       "Queens           10677\n",
       "Unknown           2051\n",
       "Brooklyn          1244\n",
       "Bronx              154\n",
       "EWR                  9\n",
       "Staten Island        4\n",
       "Name: Borough, dtype: int64"
      ]
     },
     "execution_count": 30,
     "metadata": {},
     "output_type": "execute_result"
    }
   ],
   "source": [
    "taxi_and_Borough_february['Borough'].value_counts()"
   ]
  },
  {
   "cell_type": "code",
   "execution_count": 31,
   "metadata": {
    "collapsed": true
   },
   "outputs": [],
   "source": [
    "taxi_and_Borough_february=taxi_and_Borough_february[taxi_and_Borough_february.Borough != 'Unknown']"
   ]
  },
  {
   "cell_type": "code",
   "execution_count": 32,
   "metadata": {
    "collapsed": true
   },
   "outputs": [],
   "source": [
    "february_average = taxi_and_Borough_february['Borough'].value_counts()/31"
   ]
  },
  {
   "cell_type": "code",
   "execution_count": 33,
   "metadata": {
    "collapsed": true
   },
   "outputs": [],
   "source": [
    "february_average = round(february_average,2) "
   ]
  },
  {
   "cell_type": "code",
   "execution_count": 34,
   "metadata": {},
   "outputs": [
    {
     "data": {
      "text/plain": [
       "Manhattan        2769.71\n",
       "Queens            344.42\n",
       "Brooklyn           40.13\n",
       "Bronx               4.97\n",
       "EWR                 0.29\n",
       "Staten Island       0.13\n",
       "Name: Borough, dtype: float64"
      ]
     },
     "execution_count": 34,
     "metadata": {},
     "output_type": "execute_result"
    }
   ],
   "source": [
    "february_average"
   ]
  },
  {
   "cell_type": "code",
   "execution_count": 35,
   "metadata": {
    "collapsed": true
   },
   "outputs": [],
   "source": [
    "Location_3=\"csv\\yellow_tripdata_2018-03.csv\""
   ]
  },
  {
   "cell_type": "code",
   "execution_count": 36,
   "metadata": {
    "collapsed": true
   },
   "outputs": [],
   "source": [
    "nytaxi_march =pd.read_csv(Location_3, usecols=[1,7])"
   ]
  },
  {
   "cell_type": "code",
   "execution_count": 37,
   "metadata": {
    "collapsed": true
   },
   "outputs": [],
   "source": [
    "taxi_and_Borough_march=nytaxi_march.join(nyBorough.set_index('LocationID'), on='PULocationID')"
   ]
  },
  {
   "cell_type": "code",
   "execution_count": 38,
   "metadata": {
    "collapsed": true
   },
   "outputs": [],
   "source": [
    "Borough_grouped_march = taxi_and_Borough_march.groupby('Borough').count()"
   ]
  },
  {
   "cell_type": "code",
   "execution_count": 39,
   "metadata": {
    "collapsed": true
   },
   "outputs": [],
   "source": [
    "taxi_and_Borough_march=taxi_and_Borough_march[taxi_and_Borough_march.Borough != 'Unknown']"
   ]
  },
  {
   "cell_type": "code",
   "execution_count": 40,
   "metadata": {
    "collapsed": true
   },
   "outputs": [],
   "source": [
    "march_average = taxi_and_Borough_march['Borough'].value_counts()/31"
   ]
  },
  {
   "cell_type": "code",
   "execution_count": 41,
   "metadata": {
    "collapsed": true
   },
   "outputs": [],
   "source": [
    "march_average=round(march_average,2) "
   ]
  },
  {
   "cell_type": "code",
   "execution_count": 42,
   "metadata": {},
   "outputs": [
    {
     "data": {
      "text/plain": [
       "Manhattan    2894.35\n",
       "Queens        239.87\n",
       "Brooklyn       19.65\n",
       "Bronx           2.77\n",
       "EWR             0.32\n",
       "Name: Borough, dtype: float64"
      ]
     },
     "execution_count": 42,
     "metadata": {},
     "output_type": "execute_result"
    }
   ],
   "source": [
    "march_average"
   ]
  },
  {
   "cell_type": "code",
   "execution_count": 43,
   "metadata": {
    "collapsed": true
   },
   "outputs": [],
   "source": [
    "february_average=pd.DataFrame(february_average)\n",
    "february_average.columns=['February']"
   ]
  },
  {
   "cell_type": "code",
   "execution_count": 44,
   "metadata": {
    "collapsed": true
   },
   "outputs": [],
   "source": [
    "march_average=pd.DataFrame(march_average)\n",
    "march_average.columns=['March']"
   ]
  },
  {
   "cell_type": "code",
   "execution_count": 45,
   "metadata": {
    "collapsed": true
   },
   "outputs": [],
   "source": [
    "first_2=january_average.join(february_average)"
   ]
  },
  {
   "cell_type": "code",
   "execution_count": 46,
   "metadata": {},
   "outputs": [
    {
     "data": {
      "text/html": [
       "<div>\n",
       "<style>\n",
       "    .dataframe thead tr:only-child th {\n",
       "        text-align: right;\n",
       "    }\n",
       "\n",
       "    .dataframe thead th {\n",
       "        text-align: left;\n",
       "    }\n",
       "\n",
       "    .dataframe tbody tr th {\n",
       "        vertical-align: top;\n",
       "    }\n",
       "</style>\n",
       "<table border=\"1\" class=\"dataframe\">\n",
       "  <thead>\n",
       "    <tr style=\"text-align: right;\">\n",
       "      <th></th>\n",
       "      <th>January</th>\n",
       "      <th>February</th>\n",
       "      <th>March</th>\n",
       "    </tr>\n",
       "  </thead>\n",
       "  <tbody>\n",
       "    <tr>\n",
       "      <th>Manhattan</th>\n",
       "      <td>2841.32</td>\n",
       "      <td>2769.71</td>\n",
       "      <td>2894.35</td>\n",
       "    </tr>\n",
       "    <tr>\n",
       "      <th>Queens</th>\n",
       "      <td>269.45</td>\n",
       "      <td>344.42</td>\n",
       "      <td>239.87</td>\n",
       "    </tr>\n",
       "    <tr>\n",
       "      <th>Brooklyn</th>\n",
       "      <td>35.32</td>\n",
       "      <td>40.13</td>\n",
       "      <td>19.65</td>\n",
       "    </tr>\n",
       "    <tr>\n",
       "      <th>Bronx</th>\n",
       "      <td>2.26</td>\n",
       "      <td>4.97</td>\n",
       "      <td>2.77</td>\n",
       "    </tr>\n",
       "    <tr>\n",
       "      <th>EWR</th>\n",
       "      <td>0.77</td>\n",
       "      <td>0.29</td>\n",
       "      <td>0.32</td>\n",
       "    </tr>\n",
       "    <tr>\n",
       "      <th>Staten Island</th>\n",
       "      <td>0.03</td>\n",
       "      <td>0.13</td>\n",
       "      <td>NaN</td>\n",
       "    </tr>\n",
       "  </tbody>\n",
       "</table>\n",
       "</div>"
      ],
      "text/plain": [
       "               January  February    March\n",
       "Manhattan      2841.32   2769.71  2894.35\n",
       "Queens          269.45    344.42   239.87\n",
       "Brooklyn         35.32     40.13    19.65\n",
       "Bronx             2.26      4.97     2.77\n",
       "EWR               0.77      0.29     0.32\n",
       "Staten Island     0.03      0.13      NaN"
      ]
     },
     "execution_count": 46,
     "metadata": {},
     "output_type": "execute_result"
    }
   ],
   "source": [
    "first_3 = first_2.join(march_average)\n",
    "first_3"
   ]
  },
  {
   "cell_type": "code",
   "execution_count": 47,
   "metadata": {
    "collapsed": true
   },
   "outputs": [],
   "source": [
    "Location_4=\"csv\\yellow_tripdata_2018-04.csv\""
   ]
  },
  {
   "cell_type": "code",
   "execution_count": 48,
   "metadata": {
    "collapsed": true
   },
   "outputs": [],
   "source": [
    "nytaxi_april=pd.read_csv(Location_4, usecols=[1,7])"
   ]
  },
  {
   "cell_type": "code",
   "execution_count": 49,
   "metadata": {
    "collapsed": true
   },
   "outputs": [],
   "source": [
    "taxi_and_Borough_april=nytaxi_april.join(nyBorough.set_index('LocationID'), on='PULocationID')"
   ]
  },
  {
   "cell_type": "code",
   "execution_count": 50,
   "metadata": {
    "collapsed": true
   },
   "outputs": [],
   "source": [
    "Borough_grouped_april = taxi_and_Borough_april.groupby('Borough').count()\n",
    "taxi_and_Borough_april=taxi_and_Borough_april[taxi_and_Borough_april.Borough != 'Unknown']"
   ]
  },
  {
   "cell_type": "code",
   "execution_count": 51,
   "metadata": {
    "collapsed": true
   },
   "outputs": [],
   "source": [
    "april_average = taxi_and_Borough_april['Borough'].value_counts()/31"
   ]
  },
  {
   "cell_type": "code",
   "execution_count": 52,
   "metadata": {
    "collapsed": true
   },
   "outputs": [],
   "source": [
    "april_average=round(april_average,2)"
   ]
  },
  {
   "cell_type": "code",
   "execution_count": 53,
   "metadata": {
    "collapsed": true
   },
   "outputs": [],
   "source": [
    "april_average\n",
    "april=pd.DataFrame(april_average)\n"
   ]
  },
  {
   "cell_type": "code",
   "execution_count": 54,
   "metadata": {},
   "outputs": [
    {
     "data": {
      "text/html": [
       "<div>\n",
       "<style>\n",
       "    .dataframe thead tr:only-child th {\n",
       "        text-align: right;\n",
       "    }\n",
       "\n",
       "    .dataframe thead th {\n",
       "        text-align: left;\n",
       "    }\n",
       "\n",
       "    .dataframe tbody tr th {\n",
       "        vertical-align: top;\n",
       "    }\n",
       "</style>\n",
       "<table border=\"1\" class=\"dataframe\">\n",
       "  <thead>\n",
       "    <tr style=\"text-align: right;\">\n",
       "      <th></th>\n",
       "      <th>January</th>\n",
       "      <th>February</th>\n",
       "      <th>March</th>\n",
       "      <th>Borough</th>\n",
       "    </tr>\n",
       "  </thead>\n",
       "  <tbody>\n",
       "    <tr>\n",
       "      <th>Manhattan</th>\n",
       "      <td>2841.32</td>\n",
       "      <td>2769.71</td>\n",
       "      <td>2894.35</td>\n",
       "      <td>2799.90</td>\n",
       "    </tr>\n",
       "    <tr>\n",
       "      <th>Queens</th>\n",
       "      <td>269.45</td>\n",
       "      <td>344.42</td>\n",
       "      <td>239.87</td>\n",
       "      <td>315.97</td>\n",
       "    </tr>\n",
       "    <tr>\n",
       "      <th>Brooklyn</th>\n",
       "      <td>35.32</td>\n",
       "      <td>40.13</td>\n",
       "      <td>19.65</td>\n",
       "      <td>36.03</td>\n",
       "    </tr>\n",
       "    <tr>\n",
       "      <th>Bronx</th>\n",
       "      <td>2.26</td>\n",
       "      <td>4.97</td>\n",
       "      <td>2.77</td>\n",
       "      <td>2.55</td>\n",
       "    </tr>\n",
       "    <tr>\n",
       "      <th>EWR</th>\n",
       "      <td>0.77</td>\n",
       "      <td>0.29</td>\n",
       "      <td>0.32</td>\n",
       "      <td>0.23</td>\n",
       "    </tr>\n",
       "    <tr>\n",
       "      <th>Staten Island</th>\n",
       "      <td>0.03</td>\n",
       "      <td>0.13</td>\n",
       "      <td>NaN</td>\n",
       "      <td>NaN</td>\n",
       "    </tr>\n",
       "  </tbody>\n",
       "</table>\n",
       "</div>"
      ],
      "text/plain": [
       "               January  February    March  Borough\n",
       "Manhattan      2841.32   2769.71  2894.35  2799.90\n",
       "Queens          269.45    344.42   239.87   315.97\n",
       "Brooklyn         35.32     40.13    19.65    36.03\n",
       "Bronx             2.26      4.97     2.77     2.55\n",
       "EWR               0.77      0.29     0.32     0.23\n",
       "Staten Island     0.03      0.13      NaN      NaN"
      ]
     },
     "execution_count": 54,
     "metadata": {},
     "output_type": "execute_result"
    }
   ],
   "source": [
    "april_average.columns=['April']\n",
    "\n",
    "first_4=first_3.join(april_average)\n",
    "first_4"
   ]
  },
  {
   "cell_type": "code",
   "execution_count": 55,
   "metadata": {
    "collapsed": true
   },
   "outputs": [],
   "source": [
    "Location_5=\"csv\\yellow_tripdata_2018-05.csv\""
   ]
  },
  {
   "cell_type": "code",
   "execution_count": 56,
   "metadata": {
    "collapsed": true
   },
   "outputs": [],
   "source": [
    "nytaxi_may =pd.read_csv(Location_5, usecols=[1,7])"
   ]
  },
  {
   "cell_type": "code",
   "execution_count": 57,
   "metadata": {
    "collapsed": true
   },
   "outputs": [],
   "source": [
    "taxi_and_Borough_may=nytaxi_may.join(nyBorough.set_index('LocationID'), on='PULocationID')"
   ]
  },
  {
   "cell_type": "code",
   "execution_count": 58,
   "metadata": {
    "collapsed": true
   },
   "outputs": [],
   "source": [
    "Borough_grouped_may = taxi_and_Borough_may.groupby('Borough')"
   ]
  },
  {
   "cell_type": "code",
   "execution_count": 59,
   "metadata": {
    "collapsed": true
   },
   "outputs": [],
   "source": [
    "taxi_and_Borough_may=taxi_and_Borough_may[taxi_and_Borough_may.Borough != 'Unknown']"
   ]
  },
  {
   "cell_type": "code",
   "execution_count": 60,
   "metadata": {
    "collapsed": true
   },
   "outputs": [],
   "source": [
    "may_average = taxi_and_Borough_may['Borough'].value_counts()/31"
   ]
  },
  {
   "cell_type": "code",
   "execution_count": 61,
   "metadata": {
    "collapsed": true
   },
   "outputs": [],
   "source": [
    "may_average=round(may_average,2)"
   ]
  },
  {
   "cell_type": "code",
   "execution_count": 62,
   "metadata": {},
   "outputs": [
    {
     "data": {
      "text/plain": [
       "Manhattan    2948.68\n",
       "Queens        179.13\n",
       "Brooklyn       27.00\n",
       "Bronx           3.00\n",
       "EWR             0.16\n",
       "Name: Borough, dtype: float64"
      ]
     },
     "execution_count": 62,
     "metadata": {},
     "output_type": "execute_result"
    }
   ],
   "source": [
    "may_average\n"
   ]
  },
  {
   "cell_type": "code",
   "execution_count": 63,
   "metadata": {
    "collapsed": true
   },
   "outputs": [],
   "source": [
    "may_average=pd.DataFrame(may_average)"
   ]
  },
  {
   "cell_type": "code",
   "execution_count": 64,
   "metadata": {
    "collapsed": true
   },
   "outputs": [],
   "source": [
    "may_average.columns=['May']\n",
    "\n",
    "first_5 = first_4.join(may_average)"
   ]
  },
  {
   "cell_type": "code",
   "execution_count": 65,
   "metadata": {
    "collapsed": true
   },
   "outputs": [],
   "source": [
    "Location_6=\"csv\\yellow_tripdata_2018-06.csv\"\n",
    "Location_4=\"csv\\yellow_tripdata_2018-04.csv\""
   ]
  },
  {
   "cell_type": "code",
   "execution_count": 66,
   "metadata": {
    "collapsed": true
   },
   "outputs": [],
   "source": [
    "nytaxi_july=pd.read_csv(Location_6, usecols=[1,7])"
   ]
  },
  {
   "cell_type": "code",
   "execution_count": 67,
   "metadata": {
    "collapsed": true
   },
   "outputs": [],
   "source": [
    "taxi_and_Borough_july=nytaxi_july.join(nyBorough.set_index('LocationID'), on='PULocationID')"
   ]
  },
  {
   "cell_type": "code",
   "execution_count": 68,
   "metadata": {},
   "outputs": [
    {
     "data": {
      "text/html": [
       "<div>\n",
       "<style>\n",
       "    .dataframe thead tr:only-child th {\n",
       "        text-align: right;\n",
       "    }\n",
       "\n",
       "    .dataframe thead th {\n",
       "        text-align: left;\n",
       "    }\n",
       "\n",
       "    .dataframe tbody tr th {\n",
       "        vertical-align: top;\n",
       "    }\n",
       "</style>\n",
       "<table border=\"1\" class=\"dataframe\">\n",
       "  <thead>\n",
       "    <tr style=\"text-align: right;\">\n",
       "      <th></th>\n",
       "      <th>tpep_pickup_datetime</th>\n",
       "      <th>PULocationID</th>\n",
       "      <th>Borough</th>\n",
       "    </tr>\n",
       "  </thead>\n",
       "  <tbody>\n",
       "    <tr>\n",
       "      <th>0</th>\n",
       "      <td>2018-01-03 14:35:49</td>\n",
       "      <td>161</td>\n",
       "      <td>Manhattan</td>\n",
       "    </tr>\n",
       "    <tr>\n",
       "      <th>1</th>\n",
       "      <td>2018-01-03 14:11:37</td>\n",
       "      <td>161</td>\n",
       "      <td>Manhattan</td>\n",
       "    </tr>\n",
       "    <tr>\n",
       "      <th>2</th>\n",
       "      <td>2018-01-03 14:36:19</td>\n",
       "      <td>239</td>\n",
       "      <td>Manhattan</td>\n",
       "    </tr>\n",
       "  </tbody>\n",
       "</table>\n",
       "</div>"
      ],
      "text/plain": [
       "  tpep_pickup_datetime  PULocationID    Borough\n",
       "0  2018-01-03 14:35:49           161  Manhattan\n",
       "1  2018-01-03 14:11:37           161  Manhattan\n",
       "2  2018-01-03 14:36:19           239  Manhattan"
      ]
     },
     "execution_count": 68,
     "metadata": {},
     "output_type": "execute_result"
    }
   ],
   "source": [
    "taxi_and_Borough_july[:3]"
   ]
  },
  {
   "cell_type": "code",
   "execution_count": 69,
   "metadata": {
    "collapsed": true
   },
   "outputs": [],
   "source": [
    "Borough_grouped_july = taxi_and_Borough_july.groupby('Borough')"
   ]
  },
  {
   "cell_type": "code",
   "execution_count": 70,
   "metadata": {
    "collapsed": true
   },
   "outputs": [],
   "source": [
    "taxi_and_Borough_july=taxi_and_Borough_july[taxi_and_Borough_july.Borough != 'Unknown']"
   ]
  },
  {
   "cell_type": "code",
   "execution_count": 71,
   "metadata": {
    "collapsed": true
   },
   "outputs": [],
   "source": [
    "july_average = taxi_and_Borough_july['Borough'].value_counts()/31"
   ]
  },
  {
   "cell_type": "code",
   "execution_count": 72,
   "metadata": {
    "collapsed": true
   },
   "outputs": [],
   "source": [
    "july_average=round(july_average,2)"
   ]
  },
  {
   "cell_type": "code",
   "execution_count": 73,
   "metadata": {},
   "outputs": [
    {
     "data": {
      "text/plain": [
       "Manhattan    2906.19\n",
       "Queens        213.74\n",
       "Brooklyn       31.35\n",
       "Bronx           1.55\n",
       "EWR             0.45\n",
       "Name: Borough, dtype: float64"
      ]
     },
     "execution_count": 73,
     "metadata": {},
     "output_type": "execute_result"
    }
   ],
   "source": [
    "july_average"
   ]
  },
  {
   "cell_type": "code",
   "execution_count": 74,
   "metadata": {
    "collapsed": true
   },
   "outputs": [],
   "source": [
    "july_average=pd.DataFrame(july_average)"
   ]
  },
  {
   "cell_type": "code",
   "execution_count": 75,
   "metadata": {},
   "outputs": [
    {
     "name": "stdout",
     "output_type": "stream",
     "text": [
      "<class 'pandas.core.frame.DataFrame'>\n"
     ]
    }
   ],
   "source": [
    "print(type(july_average))"
   ]
  },
  {
   "cell_type": "code",
   "execution_count": 76,
   "metadata": {},
   "outputs": [
    {
     "data": {
      "text/html": [
       "<div>\n",
       "<style>\n",
       "    .dataframe thead tr:only-child th {\n",
       "        text-align: right;\n",
       "    }\n",
       "\n",
       "    .dataframe thead th {\n",
       "        text-align: left;\n",
       "    }\n",
       "\n",
       "    .dataframe tbody tr th {\n",
       "        vertical-align: top;\n",
       "    }\n",
       "</style>\n",
       "<table border=\"1\" class=\"dataframe\">\n",
       "  <thead>\n",
       "    <tr style=\"text-align: right;\">\n",
       "      <th></th>\n",
       "      <th>Borough</th>\n",
       "    </tr>\n",
       "  </thead>\n",
       "  <tbody>\n",
       "    <tr>\n",
       "      <th>Manhattan</th>\n",
       "      <td>2906.19</td>\n",
       "    </tr>\n",
       "    <tr>\n",
       "      <th>Queens</th>\n",
       "      <td>213.74</td>\n",
       "    </tr>\n",
       "    <tr>\n",
       "      <th>Brooklyn</th>\n",
       "      <td>31.35</td>\n",
       "    </tr>\n",
       "  </tbody>\n",
       "</table>\n",
       "</div>"
      ],
      "text/plain": [
       "           Borough\n",
       "Manhattan  2906.19\n",
       "Queens      213.74\n",
       "Brooklyn     31.35"
      ]
     },
     "execution_count": 76,
     "metadata": {},
     "output_type": "execute_result"
    }
   ],
   "source": [
    "july_average[:3]"
   ]
  },
  {
   "cell_type": "code",
   "execution_count": 77,
   "metadata": {
    "collapsed": true
   },
   "outputs": [],
   "source": [
    "july_average.columns=['July']"
   ]
  },
  {
   "cell_type": "code",
   "execution_count": 78,
   "metadata": {
    "collapsed": true,
    "scrolled": false
   },
   "outputs": [],
   "source": [
    "# In[6july_average.hist()\n",
    "monthly_average=pd.concat([january_average,february_average,march_average,april_average,may_average,july_average], axis=1)\n",
    "# need to integrate sort function here due to pandas' update, concat added sort argument in pandas 0.23.\n"
   ]
  },
  {
   "cell_type": "code",
   "execution_count": 79,
   "metadata": {},
   "outputs": [
    {
     "data": {
      "text/html": [
       "<div>\n",
       "<style>\n",
       "    .dataframe thead tr:only-child th {\n",
       "        text-align: right;\n",
       "    }\n",
       "\n",
       "    .dataframe thead th {\n",
       "        text-align: left;\n",
       "    }\n",
       "\n",
       "    .dataframe tbody tr th {\n",
       "        vertical-align: top;\n",
       "    }\n",
       "</style>\n",
       "<table border=\"1\" class=\"dataframe\">\n",
       "  <thead>\n",
       "    <tr style=\"text-align: right;\">\n",
       "      <th></th>\n",
       "      <th>January</th>\n",
       "      <th>February</th>\n",
       "      <th>March</th>\n",
       "      <th>Borough</th>\n",
       "      <th>May</th>\n",
       "      <th>July</th>\n",
       "    </tr>\n",
       "  </thead>\n",
       "  <tbody>\n",
       "    <tr>\n",
       "      <th>Bronx</th>\n",
       "      <td>2.26</td>\n",
       "      <td>4.97</td>\n",
       "      <td>2.77</td>\n",
       "      <td>2.55</td>\n",
       "      <td>3.00</td>\n",
       "      <td>1.55</td>\n",
       "    </tr>\n",
       "    <tr>\n",
       "      <th>Brooklyn</th>\n",
       "      <td>35.32</td>\n",
       "      <td>40.13</td>\n",
       "      <td>19.65</td>\n",
       "      <td>36.03</td>\n",
       "      <td>27.00</td>\n",
       "      <td>31.35</td>\n",
       "    </tr>\n",
       "    <tr>\n",
       "      <th>EWR</th>\n",
       "      <td>0.77</td>\n",
       "      <td>0.29</td>\n",
       "      <td>0.32</td>\n",
       "      <td>0.23</td>\n",
       "      <td>0.16</td>\n",
       "      <td>0.45</td>\n",
       "    </tr>\n",
       "    <tr>\n",
       "      <th>Manhattan</th>\n",
       "      <td>2841.32</td>\n",
       "      <td>2769.71</td>\n",
       "      <td>2894.35</td>\n",
       "      <td>2799.90</td>\n",
       "      <td>2948.68</td>\n",
       "      <td>2906.19</td>\n",
       "    </tr>\n",
       "    <tr>\n",
       "      <th>Queens</th>\n",
       "      <td>269.45</td>\n",
       "      <td>344.42</td>\n",
       "      <td>239.87</td>\n",
       "      <td>315.97</td>\n",
       "      <td>179.13</td>\n",
       "      <td>213.74</td>\n",
       "    </tr>\n",
       "    <tr>\n",
       "      <th>Staten Island</th>\n",
       "      <td>0.03</td>\n",
       "      <td>0.13</td>\n",
       "      <td>NaN</td>\n",
       "      <td>NaN</td>\n",
       "      <td>NaN</td>\n",
       "      <td>NaN</td>\n",
       "    </tr>\n",
       "  </tbody>\n",
       "</table>\n",
       "</div>"
      ],
      "text/plain": [
       "               January  February    March  Borough      May     July\n",
       "Bronx             2.26      4.97     2.77     2.55     3.00     1.55\n",
       "Brooklyn         35.32     40.13    19.65    36.03    27.00    31.35\n",
       "EWR               0.77      0.29     0.32     0.23     0.16     0.45\n",
       "Manhattan      2841.32   2769.71  2894.35  2799.90  2948.68  2906.19\n",
       "Queens          269.45    344.42   239.87   315.97   179.13   213.74\n",
       "Staten Island     0.03      0.13      NaN      NaN      NaN      NaN"
      ]
     },
     "execution_count": 79,
     "metadata": {},
     "output_type": "execute_result"
    }
   ],
   "source": [
    "monthly_average"
   ]
  },
  {
   "cell_type": "code",
   "execution_count": 80,
   "metadata": {},
   "outputs": [
    {
     "data": {
      "text/plain": [
       "<matplotlib.axes._subplots.AxesSubplot at 0x2a969f05b70>"
      ]
     },
     "execution_count": 80,
     "metadata": {},
     "output_type": "execute_result"
    }
   ],
   "source": [
    "monthly_average.plot.bar(stacked=True)"
   ]
  },
  {
   "cell_type": "code",
   "execution_count": 81,
   "metadata": {
    "collapsed": true
   },
   "outputs": [],
   "source": [
    "monthly_average= monthly_average.T   #i use this command to traspose dataframe "
   ]
  },
  {
   "cell_type": "code",
   "execution_count": 82,
   "metadata": {},
   "outputs": [
    {
     "data": {
      "text/html": [
       "<div>\n",
       "<style>\n",
       "    .dataframe thead tr:only-child th {\n",
       "        text-align: right;\n",
       "    }\n",
       "\n",
       "    .dataframe thead th {\n",
       "        text-align: left;\n",
       "    }\n",
       "\n",
       "    .dataframe tbody tr th {\n",
       "        vertical-align: top;\n",
       "    }\n",
       "</style>\n",
       "<table border=\"1\" class=\"dataframe\">\n",
       "  <thead>\n",
       "    <tr style=\"text-align: right;\">\n",
       "      <th></th>\n",
       "      <th>Bronx</th>\n",
       "      <th>Brooklyn</th>\n",
       "      <th>EWR</th>\n",
       "      <th>Manhattan</th>\n",
       "      <th>Queens</th>\n",
       "      <th>Staten Island</th>\n",
       "    </tr>\n",
       "  </thead>\n",
       "  <tbody>\n",
       "    <tr>\n",
       "      <th>January</th>\n",
       "      <td>2.26</td>\n",
       "      <td>35.32</td>\n",
       "      <td>0.77</td>\n",
       "      <td>2841.32</td>\n",
       "      <td>269.45</td>\n",
       "      <td>0.03</td>\n",
       "    </tr>\n",
       "    <tr>\n",
       "      <th>February</th>\n",
       "      <td>4.97</td>\n",
       "      <td>40.13</td>\n",
       "      <td>0.29</td>\n",
       "      <td>2769.71</td>\n",
       "      <td>344.42</td>\n",
       "      <td>0.13</td>\n",
       "    </tr>\n",
       "    <tr>\n",
       "      <th>March</th>\n",
       "      <td>2.77</td>\n",
       "      <td>19.65</td>\n",
       "      <td>0.32</td>\n",
       "      <td>2894.35</td>\n",
       "      <td>239.87</td>\n",
       "      <td>NaN</td>\n",
       "    </tr>\n",
       "    <tr>\n",
       "      <th>Borough</th>\n",
       "      <td>2.55</td>\n",
       "      <td>36.03</td>\n",
       "      <td>0.23</td>\n",
       "      <td>2799.90</td>\n",
       "      <td>315.97</td>\n",
       "      <td>NaN</td>\n",
       "    </tr>\n",
       "    <tr>\n",
       "      <th>May</th>\n",
       "      <td>3.00</td>\n",
       "      <td>27.00</td>\n",
       "      <td>0.16</td>\n",
       "      <td>2948.68</td>\n",
       "      <td>179.13</td>\n",
       "      <td>NaN</td>\n",
       "    </tr>\n",
       "    <tr>\n",
       "      <th>July</th>\n",
       "      <td>1.55</td>\n",
       "      <td>31.35</td>\n",
       "      <td>0.45</td>\n",
       "      <td>2906.19</td>\n",
       "      <td>213.74</td>\n",
       "      <td>NaN</td>\n",
       "    </tr>\n",
       "  </tbody>\n",
       "</table>\n",
       "</div>"
      ],
      "text/plain": [
       "          Bronx  Brooklyn   EWR  Manhattan  Queens  Staten Island\n",
       "January    2.26     35.32  0.77    2841.32  269.45           0.03\n",
       "February   4.97     40.13  0.29    2769.71  344.42           0.13\n",
       "March      2.77     19.65  0.32    2894.35  239.87            NaN\n",
       "Borough    2.55     36.03  0.23    2799.90  315.97            NaN\n",
       "May        3.00     27.00  0.16    2948.68  179.13            NaN\n",
       "July       1.55     31.35  0.45    2906.19  213.74            NaN"
      ]
     },
     "execution_count": 82,
     "metadata": {},
     "output_type": "execute_result"
    }
   ],
   "source": [
    "monthly_average"
   ]
  },
  {
   "cell_type": "code",
   "execution_count": 83,
   "metadata": {},
   "outputs": [
    {
     "data": {
      "text/plain": [
       "<matplotlib.axes._subplots.AxesSubplot at 0x2a96c59f9e8>"
      ]
     },
     "execution_count": 83,
     "metadata": {},
     "output_type": "execute_result"
    }
   ],
   "source": [
    "monthly_average.plot.bar(stacked=True)"
   ]
  },
  {
   "cell_type": "code",
   "execution_count": 84,
   "metadata": {},
   "outputs": [
    {
     "ename": "NameError",
     "evalue": "name 'monthly_average_trasposed' is not defined",
     "output_type": "error",
     "traceback": [
      "\u001b[1;31m---------------------------------------------------------------------------\u001b[0m",
      "\u001b[1;31mNameError\u001b[0m                                 Traceback (most recent call last)",
      "\u001b[1;32m<ipython-input-84-21bfd69e697c>\u001b[0m in \u001b[0;36m<module>\u001b[1;34m()\u001b[0m\n\u001b[1;32m----> 1\u001b[1;33m \u001b[0mmonthly_average_trasposed\u001b[0m\u001b[1;33m.\u001b[0m\u001b[0mplot\u001b[0m\u001b[1;33m.\u001b[0m\u001b[0mbar\u001b[0m\u001b[1;33m(\u001b[0m\u001b[0msubplots\u001b[0m\u001b[1;33m=\u001b[0m\u001b[1;32mTrue\u001b[0m\u001b[1;33m,\u001b[0m \u001b[0mfigsize\u001b[0m\u001b[1;33m=\u001b[0m\u001b[1;33m(\u001b[0m\u001b[1;36m8\u001b[0m\u001b[1;33m,\u001b[0m\u001b[1;36m15\u001b[0m\u001b[1;33m)\u001b[0m\u001b[1;33m,\u001b[0m \u001b[0msharex\u001b[0m\u001b[1;33m=\u001b[0m\u001b[1;32mFalse\u001b[0m\u001b[1;33m,\u001b[0m \u001b[0mtitle\u001b[0m\u001b[1;33m=\u001b[0m\u001b[1;34m'use of taxis'\u001b[0m\u001b[1;33m)\u001b[0m\u001b[1;33m\u001b[0m\u001b[0m\n\u001b[0m",
      "\u001b[1;31mNameError\u001b[0m: name 'monthly_average_trasposed' is not defined"
     ]
    }
   ],
   "source": [
    "monthly_average_trasposed.plot.bar(subplots=True, figsize=(8,15), sharex=False, title='use of taxis')"
   ]
  },
  {
   "cell_type": "code",
   "execution_count": null,
   "metadata": {
    "collapsed": true
   },
   "outputs": [],
   "source": []
  },
  {
   "cell_type": "markdown",
   "metadata": {},
   "source": [
    "<h1>RQ2</h1>"
   ]
  },
  {
   "cell_type": "code",
   "execution_count": 85,
   "metadata": {
    "collapsed": true
   },
   "outputs": [],
   "source": [
    "nytaxi =pd.read_csv(Location, usecols=[1,3,7])"
   ]
  },
  {
   "cell_type": "code",
   "execution_count": 86,
   "metadata": {},
   "outputs": [
    {
     "data": {
      "text/html": [
       "<div>\n",
       "<style>\n",
       "    .dataframe thead tr:only-child th {\n",
       "        text-align: right;\n",
       "    }\n",
       "\n",
       "    .dataframe thead th {\n",
       "        text-align: left;\n",
       "    }\n",
       "\n",
       "    .dataframe tbody tr th {\n",
       "        vertical-align: top;\n",
       "    }\n",
       "</style>\n",
       "<table border=\"1\" class=\"dataframe\">\n",
       "  <thead>\n",
       "    <tr style=\"text-align: right;\">\n",
       "      <th></th>\n",
       "      <th>tpep_pickup_datetime</th>\n",
       "      <th>passenger_count</th>\n",
       "      <th>PULocationID</th>\n",
       "    </tr>\n",
       "  </thead>\n",
       "  <tbody>\n",
       "    <tr>\n",
       "      <th>0</th>\n",
       "      <td>2018-01-01 11:22:49</td>\n",
       "      <td>2</td>\n",
       "      <td>7</td>\n",
       "    </tr>\n",
       "    <tr>\n",
       "      <th>1</th>\n",
       "      <td>2018-01-01 11:53:13</td>\n",
       "      <td>2</td>\n",
       "      <td>261</td>\n",
       "    </tr>\n",
       "    <tr>\n",
       "      <th>2</th>\n",
       "      <td>2018-01-01 11:02:02</td>\n",
       "      <td>2</td>\n",
       "      <td>237</td>\n",
       "    </tr>\n",
       "  </tbody>\n",
       "</table>\n",
       "</div>"
      ],
      "text/plain": [
       "  tpep_pickup_datetime  passenger_count  PULocationID\n",
       "0  2018-01-01 11:22:49                2             7\n",
       "1  2018-01-01 11:53:13                2           261\n",
       "2  2018-01-01 11:02:02                2           237"
      ]
     },
     "execution_count": 86,
     "metadata": {},
     "output_type": "execute_result"
    }
   ],
   "source": [
    "nytaxi[:3]"
   ]
  },
  {
   "cell_type": "code",
   "execution_count": 87,
   "metadata": {
    "collapsed": true
   },
   "outputs": [],
   "source": [
    "nyBorough =pd.read_csv(Location_taxi_zone, usecols=[0,1])"
   ]
  },
  {
   "cell_type": "code",
   "execution_count": 88,
   "metadata": {},
   "outputs": [
    {
     "data": {
      "text/html": [
       "<div>\n",
       "<style>\n",
       "    .dataframe thead tr:only-child th {\n",
       "        text-align: right;\n",
       "    }\n",
       "\n",
       "    .dataframe thead th {\n",
       "        text-align: left;\n",
       "    }\n",
       "\n",
       "    .dataframe tbody tr th {\n",
       "        vertical-align: top;\n",
       "    }\n",
       "</style>\n",
       "<table border=\"1\" class=\"dataframe\">\n",
       "  <thead>\n",
       "    <tr style=\"text-align: right;\">\n",
       "      <th></th>\n",
       "      <th>LocationID</th>\n",
       "      <th>Borough</th>\n",
       "    </tr>\n",
       "  </thead>\n",
       "  <tbody>\n",
       "    <tr>\n",
       "      <th>0</th>\n",
       "      <td>1</td>\n",
       "      <td>EWR</td>\n",
       "    </tr>\n",
       "    <tr>\n",
       "      <th>1</th>\n",
       "      <td>2</td>\n",
       "      <td>Queens</td>\n",
       "    </tr>\n",
       "    <tr>\n",
       "      <th>2</th>\n",
       "      <td>3</td>\n",
       "      <td>Bronx</td>\n",
       "    </tr>\n",
       "  </tbody>\n",
       "</table>\n",
       "</div>"
      ],
      "text/plain": [
       "   LocationID Borough\n",
       "0           1     EWR\n",
       "1           2  Queens\n",
       "2           3   Bronx"
      ]
     },
     "execution_count": 88,
     "metadata": {},
     "output_type": "execute_result"
    }
   ],
   "source": [
    "nyBorough[:3]"
   ]
  },
  {
   "cell_type": "code",
   "execution_count": 89,
   "metadata": {
    "collapsed": true
   },
   "outputs": [],
   "source": [
    "taxi_and_Borough=nytaxi.join(nyBorough.set_index('LocationID'), on='PULocationID')    #  join two datasets"
   ]
  },
  {
   "cell_type": "code",
   "execution_count": 90,
   "metadata": {
    "collapsed": true
   },
   "outputs": [],
   "source": [
    "taxi_and_Borough.tpep_pickup_datetime = pd.to_datetime(taxi_and_Borough.tpep_pickup_datetime)\n",
    "# modify type of tpep_pickup_datetime to DateTime"
   ]
  },
  {
   "cell_type": "code",
   "execution_count": 91,
   "metadata": {
    "collapsed": true
   },
   "outputs": [],
   "source": [
    "taxi_and_Borough = taxi_and_Borough[(taxi_and_Borough['tpep_pickup_datetime'].dt.year == 2018) & (taxi_and_Borough['tpep_pickup_datetime'].dt.month == 1)]\n",
    "# remove trips started before 2018 and after Jann 2018"
   ]
  },
  {
   "cell_type": "code",
   "execution_count": 92,
   "metadata": {},
   "outputs": [
    {
     "data": {
      "text/html": [
       "<div>\n",
       "<style>\n",
       "    .dataframe thead tr:only-child th {\n",
       "        text-align: right;\n",
       "    }\n",
       "\n",
       "    .dataframe thead th {\n",
       "        text-align: left;\n",
       "    }\n",
       "\n",
       "    .dataframe tbody tr th {\n",
       "        vertical-align: top;\n",
       "    }\n",
       "</style>\n",
       "<table border=\"1\" class=\"dataframe\">\n",
       "  <thead>\n",
       "    <tr style=\"text-align: right;\">\n",
       "      <th></th>\n",
       "      <th>tpep_pickup_datetime</th>\n",
       "      <th>passenger_count</th>\n",
       "      <th>PULocationID</th>\n",
       "      <th>Borough</th>\n",
       "    </tr>\n",
       "  </thead>\n",
       "  <tbody>\n",
       "    <tr>\n",
       "      <th>0</th>\n",
       "      <td>2018-01-01 11:22:49</td>\n",
       "      <td>2</td>\n",
       "      <td>7</td>\n",
       "      <td>Queens</td>\n",
       "    </tr>\n",
       "    <tr>\n",
       "      <th>1</th>\n",
       "      <td>2018-01-01 11:53:13</td>\n",
       "      <td>2</td>\n",
       "      <td>261</td>\n",
       "      <td>Manhattan</td>\n",
       "    </tr>\n",
       "    <tr>\n",
       "      <th>2</th>\n",
       "      <td>2018-01-01 11:02:02</td>\n",
       "      <td>2</td>\n",
       "      <td>237</td>\n",
       "      <td>Manhattan</td>\n",
       "    </tr>\n",
       "  </tbody>\n",
       "</table>\n",
       "</div>"
      ],
      "text/plain": [
       "  tpep_pickup_datetime  passenger_count  PULocationID    Borough\n",
       "0  2018-01-01 11:22:49                2             7     Queens\n",
       "1  2018-01-01 11:53:13                2           261  Manhattan\n",
       "2  2018-01-01 11:02:02                2           237  Manhattan"
      ]
     },
     "execution_count": 92,
     "metadata": {},
     "output_type": "execute_result"
    }
   ],
   "source": [
    "taxi_and_Borough[:3]"
   ]
  },
  {
   "cell_type": "code",
   "execution_count": 93,
   "metadata": {
    "collapsed": true
   },
   "outputs": [],
   "source": [
    "df_grouped = taxi_and_Borough.groupby([taxi_and_Borough.tpep_pickup_datetime.dt.hour,'Borough'])['passenger_count'].count()\n",
    "# group by hour of the day and borough, and count trips\n",
    "df_grouped = df_grouped.unstack()\n"
   ]
  },
  {
   "cell_type": "code",
   "execution_count": 94,
   "metadata": {},
   "outputs": [
    {
     "data": {
      "text/html": [
       "<div>\n",
       "<style>\n",
       "    .dataframe thead tr:only-child th {\n",
       "        text-align: right;\n",
       "    }\n",
       "\n",
       "    .dataframe thead th {\n",
       "        text-align: left;\n",
       "    }\n",
       "\n",
       "    .dataframe tbody tr th {\n",
       "        vertical-align: top;\n",
       "    }\n",
       "</style>\n",
       "<table border=\"1\" class=\"dataframe\">\n",
       "  <thead>\n",
       "    <tr style=\"text-align: right;\">\n",
       "      <th>Borough</th>\n",
       "      <th>Bronx</th>\n",
       "      <th>Brooklyn</th>\n",
       "      <th>EWR</th>\n",
       "      <th>Manhattan</th>\n",
       "      <th>Queens</th>\n",
       "      <th>Staten Island</th>\n",
       "      <th>Unknown</th>\n",
       "    </tr>\n",
       "    <tr>\n",
       "      <th>tpep_pickup_datetime</th>\n",
       "      <th></th>\n",
       "      <th></th>\n",
       "      <th></th>\n",
       "      <th></th>\n",
       "      <th></th>\n",
       "      <th></th>\n",
       "      <th></th>\n",
       "    </tr>\n",
       "  </thead>\n",
       "  <tbody>\n",
       "    <tr>\n",
       "      <th>2</th>\n",
       "      <td>NaN</td>\n",
       "      <td>NaN</td>\n",
       "      <td>NaN</td>\n",
       "      <td>1.0</td>\n",
       "      <td>1.0</td>\n",
       "      <td>NaN</td>\n",
       "      <td>NaN</td>\n",
       "    </tr>\n",
       "    <tr>\n",
       "      <th>3</th>\n",
       "      <td>2.0</td>\n",
       "      <td>NaN</td>\n",
       "      <td>NaN</td>\n",
       "      <td>NaN</td>\n",
       "      <td>1.0</td>\n",
       "      <td>NaN</td>\n",
       "      <td>NaN</td>\n",
       "    </tr>\n",
       "    <tr>\n",
       "      <th>6</th>\n",
       "      <td>NaN</td>\n",
       "      <td>NaN</td>\n",
       "      <td>NaN</td>\n",
       "      <td>2.0</td>\n",
       "      <td>NaN</td>\n",
       "      <td>NaN</td>\n",
       "      <td>NaN</td>\n",
       "    </tr>\n",
       "  </tbody>\n",
       "</table>\n",
       "</div>"
      ],
      "text/plain": [
       "Borough               Bronx  Brooklyn  EWR  Manhattan  Queens  Staten Island  \\\n",
       "tpep_pickup_datetime                                                           \n",
       "2                       NaN       NaN  NaN        1.0     1.0            NaN   \n",
       "3                       2.0       NaN  NaN        NaN     1.0            NaN   \n",
       "6                       NaN       NaN  NaN        2.0     NaN            NaN   \n",
       "\n",
       "Borough               Unknown  \n",
       "tpep_pickup_datetime           \n",
       "2                         NaN  \n",
       "3                         NaN  \n",
       "6                         NaN  "
      ]
     },
     "execution_count": 94,
     "metadata": {},
     "output_type": "execute_result"
    }
   ],
   "source": [
    "df_grouped[:3]\n"
   ]
  },
  {
   "cell_type": "code",
   "execution_count": 95,
   "metadata": {
    "collapsed": true
   },
   "outputs": [],
   "source": [
    "df_grouped = df_grouped.drop('Unknown', axis=1)"
   ]
  },
  {
   "cell_type": "code",
   "execution_count": 96,
   "metadata": {
    "collapsed": true
   },
   "outputs": [],
   "source": [
    "df_grouped.plot.bar(stacked=True);"
   ]
  },
  {
   "cell_type": "code",
   "execution_count": 97,
   "metadata": {},
   "outputs": [
    {
     "data": {
      "text/plain": [
       "array([<matplotlib.axes._subplots.AxesSubplot object at 0x000002A96CF38B00>,\n",
       "       <matplotlib.axes._subplots.AxesSubplot object at 0x000002A96CF0C470>,\n",
       "       <matplotlib.axes._subplots.AxesSubplot object at 0x000002A96D163CF8>,\n",
       "       <matplotlib.axes._subplots.AxesSubplot object at 0x000002A96D1BD940>,\n",
       "       <matplotlib.axes._subplots.AxesSubplot object at 0x000002A96D229EB8>,\n",
       "       <matplotlib.axes._subplots.AxesSubplot object at 0x000002A96D229EF0>], dtype=object)"
      ]
     },
     "execution_count": 97,
     "metadata": {},
     "output_type": "execute_result"
    }
   ],
   "source": [
    "df_grouped.plot(subplots=True,figsize=(5,4))"
   ]
  },
  {
   "cell_type": "code",
   "execution_count": null,
   "metadata": {
    "collapsed": true
   },
   "outputs": [],
   "source": []
  },
  {
   "cell_type": "markdown",
   "metadata": {},
   "source": [
    "<h1>RQ3</h1>"
   ]
  },
  {
   "cell_type": "code",
   "execution_count": 98,
   "metadata": {
    "collapsed": true
   },
   "outputs": [],
   "source": [
    "nytaxi =pd.read_csv(Location, usecols=[1,2,3,4,7,8,9,10]) "
   ]
  },
  {
   "cell_type": "code",
   "execution_count": 99,
   "metadata": {},
   "outputs": [
    {
     "data": {
      "text/html": [
       "<div>\n",
       "<style>\n",
       "    .dataframe thead tr:only-child th {\n",
       "        text-align: right;\n",
       "    }\n",
       "\n",
       "    .dataframe thead th {\n",
       "        text-align: left;\n",
       "    }\n",
       "\n",
       "    .dataframe tbody tr th {\n",
       "        vertical-align: top;\n",
       "    }\n",
       "</style>\n",
       "<table border=\"1\" class=\"dataframe\">\n",
       "  <thead>\n",
       "    <tr style=\"text-align: right;\">\n",
       "      <th></th>\n",
       "      <th>tpep_pickup_datetime</th>\n",
       "      <th>tpep_dropoff_datetime</th>\n",
       "      <th>passenger_count</th>\n",
       "      <th>trip_distance</th>\n",
       "      <th>PULocationID</th>\n",
       "      <th>DOLocationID</th>\n",
       "      <th>payment_type</th>\n",
       "      <th>fare_amount</th>\n",
       "    </tr>\n",
       "  </thead>\n",
       "  <tbody>\n",
       "    <tr>\n",
       "      <th>0</th>\n",
       "      <td>2018-01-01 11:22:49</td>\n",
       "      <td>2018-01-01 11:44:52</td>\n",
       "      <td>2</td>\n",
       "      <td>9.0</td>\n",
       "      <td>7</td>\n",
       "      <td>88</td>\n",
       "      <td>2</td>\n",
       "      <td>28.0</td>\n",
       "    </tr>\n",
       "    <tr>\n",
       "      <th>1</th>\n",
       "      <td>2018-01-01 11:53:13</td>\n",
       "      <td>2018-01-01 12:03:26</td>\n",
       "      <td>2</td>\n",
       "      <td>2.9</td>\n",
       "      <td>261</td>\n",
       "      <td>164</td>\n",
       "      <td>2</td>\n",
       "      <td>11.0</td>\n",
       "    </tr>\n",
       "    <tr>\n",
       "      <th>2</th>\n",
       "      <td>2018-01-01 11:02:02</td>\n",
       "      <td>2018-01-01 11:06:12</td>\n",
       "      <td>2</td>\n",
       "      <td>0.5</td>\n",
       "      <td>237</td>\n",
       "      <td>163</td>\n",
       "      <td>1</td>\n",
       "      <td>5.0</td>\n",
       "    </tr>\n",
       "    <tr>\n",
       "      <th>3</th>\n",
       "      <td>2018-01-01 11:13:44</td>\n",
       "      <td>2018-01-01 11:23:48</td>\n",
       "      <td>2</td>\n",
       "      <td>1.5</td>\n",
       "      <td>163</td>\n",
       "      <td>246</td>\n",
       "      <td>2</td>\n",
       "      <td>8.5</td>\n",
       "    </tr>\n",
       "    <tr>\n",
       "      <th>4</th>\n",
       "      <td>2018-01-01 11:33:51</td>\n",
       "      <td>2018-01-01 11:44:12</td>\n",
       "      <td>4</td>\n",
       "      <td>2.8</td>\n",
       "      <td>48</td>\n",
       "      <td>249</td>\n",
       "      <td>2</td>\n",
       "      <td>10.5</td>\n",
       "    </tr>\n",
       "    <tr>\n",
       "      <th>5</th>\n",
       "      <td>2018-01-01 11:55:10</td>\n",
       "      <td>2018-01-01 12:18:05</td>\n",
       "      <td>2</td>\n",
       "      <td>10.3</td>\n",
       "      <td>68</td>\n",
       "      <td>138</td>\n",
       "      <td>1</td>\n",
       "      <td>30.5</td>\n",
       "    </tr>\n",
       "    <tr>\n",
       "      <th>6</th>\n",
       "      <td>2018-01-01 11:11:01</td>\n",
       "      <td>2018-01-01 11:14:58</td>\n",
       "      <td>1</td>\n",
       "      <td>0.7</td>\n",
       "      <td>238</td>\n",
       "      <td>239</td>\n",
       "      <td>1</td>\n",
       "      <td>5.0</td>\n",
       "    </tr>\n",
       "    <tr>\n",
       "      <th>7</th>\n",
       "      <td>2018-01-01 11:20:54</td>\n",
       "      <td>2018-01-01 11:26:46</td>\n",
       "      <td>1</td>\n",
       "      <td>1.5</td>\n",
       "      <td>48</td>\n",
       "      <td>68</td>\n",
       "      <td>1</td>\n",
       "      <td>7.0</td>\n",
       "    </tr>\n",
       "    <tr>\n",
       "      <th>8</th>\n",
       "      <td>2018-01-01 11:43:55</td>\n",
       "      <td>2018-01-01 11:48:45</td>\n",
       "      <td>1</td>\n",
       "      <td>1.1</td>\n",
       "      <td>68</td>\n",
       "      <td>230</td>\n",
       "      <td>1</td>\n",
       "      <td>6.0</td>\n",
       "    </tr>\n",
       "    <tr>\n",
       "      <th>9</th>\n",
       "      <td>2018-01-01 11:51:13</td>\n",
       "      <td>2018-01-01 11:54:52</td>\n",
       "      <td>1</td>\n",
       "      <td>0.7</td>\n",
       "      <td>161</td>\n",
       "      <td>163</td>\n",
       "      <td>1</td>\n",
       "      <td>4.5</td>\n",
       "    </tr>\n",
       "  </tbody>\n",
       "</table>\n",
       "</div>"
      ],
      "text/plain": [
       "  tpep_pickup_datetime tpep_dropoff_datetime  passenger_count  trip_distance  \\\n",
       "0  2018-01-01 11:22:49   2018-01-01 11:44:52                2            9.0   \n",
       "1  2018-01-01 11:53:13   2018-01-01 12:03:26                2            2.9   \n",
       "2  2018-01-01 11:02:02   2018-01-01 11:06:12                2            0.5   \n",
       "3  2018-01-01 11:13:44   2018-01-01 11:23:48                2            1.5   \n",
       "4  2018-01-01 11:33:51   2018-01-01 11:44:12                4            2.8   \n",
       "5  2018-01-01 11:55:10   2018-01-01 12:18:05                2           10.3   \n",
       "6  2018-01-01 11:11:01   2018-01-01 11:14:58                1            0.7   \n",
       "7  2018-01-01 11:20:54   2018-01-01 11:26:46                1            1.5   \n",
       "8  2018-01-01 11:43:55   2018-01-01 11:48:45                1            1.1   \n",
       "9  2018-01-01 11:51:13   2018-01-01 11:54:52                1            0.7   \n",
       "\n",
       "   PULocationID  DOLocationID  payment_type  fare_amount  \n",
       "0             7            88             2         28.0  \n",
       "1           261           164             2         11.0  \n",
       "2           237           163             1          5.0  \n",
       "3           163           246             2          8.5  \n",
       "4            48           249             2         10.5  \n",
       "5            68           138             1         30.5  \n",
       "6           238           239             1          5.0  \n",
       "7            48            68             1          7.0  \n",
       "8            68           230             1          6.0  \n",
       "9           161           163             1          4.5  "
      ]
     },
     "execution_count": 99,
     "metadata": {},
     "output_type": "execute_result"
    }
   ],
   "source": [
    "nytaxi[:10]"
   ]
  },
  {
   "cell_type": "code",
   "execution_count": 100,
   "metadata": {
    "collapsed": true
   },
   "outputs": [],
   "source": [
    "nyBorough =pd.read_csv(Location_taxi_zone, usecols=[0,1,2,3]) "
   ]
  },
  {
   "cell_type": "code",
   "execution_count": 101,
   "metadata": {},
   "outputs": [
    {
     "data": {
      "text/html": [
       "<div>\n",
       "<style>\n",
       "    .dataframe thead tr:only-child th {\n",
       "        text-align: right;\n",
       "    }\n",
       "\n",
       "    .dataframe thead th {\n",
       "        text-align: left;\n",
       "    }\n",
       "\n",
       "    .dataframe tbody tr th {\n",
       "        vertical-align: top;\n",
       "    }\n",
       "</style>\n",
       "<table border=\"1\" class=\"dataframe\">\n",
       "  <thead>\n",
       "    <tr style=\"text-align: right;\">\n",
       "      <th></th>\n",
       "      <th>LocationID</th>\n",
       "      <th>Borough</th>\n",
       "      <th>Zone</th>\n",
       "      <th>service_zone</th>\n",
       "    </tr>\n",
       "  </thead>\n",
       "  <tbody>\n",
       "    <tr>\n",
       "      <th>0</th>\n",
       "      <td>1</td>\n",
       "      <td>EWR</td>\n",
       "      <td>Newark Airport</td>\n",
       "      <td>EWR</td>\n",
       "    </tr>\n",
       "    <tr>\n",
       "      <th>1</th>\n",
       "      <td>2</td>\n",
       "      <td>Queens</td>\n",
       "      <td>Jamaica Bay</td>\n",
       "      <td>Boro Zone</td>\n",
       "    </tr>\n",
       "    <tr>\n",
       "      <th>2</th>\n",
       "      <td>3</td>\n",
       "      <td>Bronx</td>\n",
       "      <td>Allerton/Pelham Gardens</td>\n",
       "      <td>Boro Zone</td>\n",
       "    </tr>\n",
       "    <tr>\n",
       "      <th>3</th>\n",
       "      <td>4</td>\n",
       "      <td>Manhattan</td>\n",
       "      <td>Alphabet City</td>\n",
       "      <td>Yellow Zone</td>\n",
       "    </tr>\n",
       "    <tr>\n",
       "      <th>4</th>\n",
       "      <td>5</td>\n",
       "      <td>Staten Island</td>\n",
       "      <td>Arden Heights</td>\n",
       "      <td>Boro Zone</td>\n",
       "    </tr>\n",
       "    <tr>\n",
       "      <th>5</th>\n",
       "      <td>6</td>\n",
       "      <td>Staten Island</td>\n",
       "      <td>Arrochar/Fort Wadsworth</td>\n",
       "      <td>Boro Zone</td>\n",
       "    </tr>\n",
       "    <tr>\n",
       "      <th>6</th>\n",
       "      <td>7</td>\n",
       "      <td>Queens</td>\n",
       "      <td>Astoria</td>\n",
       "      <td>Boro Zone</td>\n",
       "    </tr>\n",
       "    <tr>\n",
       "      <th>7</th>\n",
       "      <td>8</td>\n",
       "      <td>Queens</td>\n",
       "      <td>Astoria Park</td>\n",
       "      <td>Boro Zone</td>\n",
       "    </tr>\n",
       "    <tr>\n",
       "      <th>8</th>\n",
       "      <td>9</td>\n",
       "      <td>Queens</td>\n",
       "      <td>Auburndale</td>\n",
       "      <td>Boro Zone</td>\n",
       "    </tr>\n",
       "    <tr>\n",
       "      <th>9</th>\n",
       "      <td>10</td>\n",
       "      <td>Queens</td>\n",
       "      <td>Baisley Park</td>\n",
       "      <td>Boro Zone</td>\n",
       "    </tr>\n",
       "  </tbody>\n",
       "</table>\n",
       "</div>"
      ],
      "text/plain": [
       "   LocationID        Borough                     Zone service_zone\n",
       "0           1            EWR           Newark Airport          EWR\n",
       "1           2         Queens              Jamaica Bay    Boro Zone\n",
       "2           3          Bronx  Allerton/Pelham Gardens    Boro Zone\n",
       "3           4      Manhattan            Alphabet City  Yellow Zone\n",
       "4           5  Staten Island            Arden Heights    Boro Zone\n",
       "5           6  Staten Island  Arrochar/Fort Wadsworth    Boro Zone\n",
       "6           7         Queens                  Astoria    Boro Zone\n",
       "7           8         Queens             Astoria Park    Boro Zone\n",
       "8           9         Queens               Auburndale    Boro Zone\n",
       "9          10         Queens             Baisley Park    Boro Zone"
      ]
     },
     "execution_count": 101,
     "metadata": {},
     "output_type": "execute_result"
    }
   ],
   "source": [
    "nyBorough[:10]"
   ]
  },
  {
   "cell_type": "code",
   "execution_count": 102,
   "metadata": {
    "collapsed": true
   },
   "outputs": [],
   "source": [
    "mergedata = pd.merge(nytaxi, nyBorough, left_on = \"PULocationID\", right_on = \"LocationID\").drop(\"LocationID\", axis = 1) \n",
    "#Merge the two csv files and store the data into new df(DataFrame)"
   ]
  },
  {
   "cell_type": "code",
   "execution_count": 103,
   "metadata": {},
   "outputs": [
    {
     "data": {
      "text/html": [
       "<div>\n",
       "<style>\n",
       "    .dataframe thead tr:only-child th {\n",
       "        text-align: right;\n",
       "    }\n",
       "\n",
       "    .dataframe thead th {\n",
       "        text-align: left;\n",
       "    }\n",
       "\n",
       "    .dataframe tbody tr th {\n",
       "        vertical-align: top;\n",
       "    }\n",
       "</style>\n",
       "<table border=\"1\" class=\"dataframe\">\n",
       "  <thead>\n",
       "    <tr style=\"text-align: right;\">\n",
       "      <th></th>\n",
       "      <th>tpep_pickup_datetime</th>\n",
       "      <th>tpep_dropoff_datetime</th>\n",
       "      <th>passenger_count</th>\n",
       "      <th>trip_distance</th>\n",
       "      <th>PULocationID</th>\n",
       "      <th>DOLocationID</th>\n",
       "      <th>payment_type</th>\n",
       "      <th>fare_amount</th>\n",
       "      <th>Borough</th>\n",
       "      <th>Zone</th>\n",
       "      <th>service_zone</th>\n",
       "    </tr>\n",
       "  </thead>\n",
       "  <tbody>\n",
       "    <tr>\n",
       "      <th>0</th>\n",
       "      <td>2018-01-01 11:22:49</td>\n",
       "      <td>2018-01-01 11:44:52</td>\n",
       "      <td>2</td>\n",
       "      <td>9.00</td>\n",
       "      <td>7</td>\n",
       "      <td>88</td>\n",
       "      <td>2</td>\n",
       "      <td>28.0</td>\n",
       "      <td>Queens</td>\n",
       "      <td>Astoria</td>\n",
       "      <td>Boro Zone</td>\n",
       "    </tr>\n",
       "    <tr>\n",
       "      <th>1</th>\n",
       "      <td>2018-01-01 11:46:24</td>\n",
       "      <td>2018-01-01 11:48:48</td>\n",
       "      <td>1</td>\n",
       "      <td>0.48</td>\n",
       "      <td>7</td>\n",
       "      <td>7</td>\n",
       "      <td>1</td>\n",
       "      <td>4.0</td>\n",
       "      <td>Queens</td>\n",
       "      <td>Astoria</td>\n",
       "      <td>Boro Zone</td>\n",
       "    </tr>\n",
       "    <tr>\n",
       "      <th>2</th>\n",
       "      <td>2018-01-01 11:49:24</td>\n",
       "      <td>2018-01-01 11:51:26</td>\n",
       "      <td>1</td>\n",
       "      <td>0.50</td>\n",
       "      <td>7</td>\n",
       "      <td>7</td>\n",
       "      <td>2</td>\n",
       "      <td>4.0</td>\n",
       "      <td>Queens</td>\n",
       "      <td>Astoria</td>\n",
       "      <td>Boro Zone</td>\n",
       "    </tr>\n",
       "    <tr>\n",
       "      <th>3</th>\n",
       "      <td>2018-01-01 11:33:28</td>\n",
       "      <td>2018-01-01 12:00:05</td>\n",
       "      <td>2</td>\n",
       "      <td>7.10</td>\n",
       "      <td>7</td>\n",
       "      <td>158</td>\n",
       "      <td>1</td>\n",
       "      <td>25.0</td>\n",
       "      <td>Queens</td>\n",
       "      <td>Astoria</td>\n",
       "      <td>Boro Zone</td>\n",
       "    </tr>\n",
       "    <tr>\n",
       "      <th>4</th>\n",
       "      <td>2018-01-01 11:51:21</td>\n",
       "      <td>2018-01-01 11:56:57</td>\n",
       "      <td>1</td>\n",
       "      <td>1.20</td>\n",
       "      <td>7</td>\n",
       "      <td>226</td>\n",
       "      <td>2</td>\n",
       "      <td>6.5</td>\n",
       "      <td>Queens</td>\n",
       "      <td>Astoria</td>\n",
       "      <td>Boro Zone</td>\n",
       "    </tr>\n",
       "    <tr>\n",
       "      <th>5</th>\n",
       "      <td>2018-01-01 11:05:43</td>\n",
       "      <td>2018-01-01 11:23:04</td>\n",
       "      <td>1</td>\n",
       "      <td>7.80</td>\n",
       "      <td>7</td>\n",
       "      <td>56</td>\n",
       "      <td>2</td>\n",
       "      <td>23.5</td>\n",
       "      <td>Queens</td>\n",
       "      <td>Astoria</td>\n",
       "      <td>Boro Zone</td>\n",
       "    </tr>\n",
       "    <tr>\n",
       "      <th>6</th>\n",
       "      <td>2018-01-01 11:16:28</td>\n",
       "      <td>2018-01-01 11:30:04</td>\n",
       "      <td>2</td>\n",
       "      <td>3.20</td>\n",
       "      <td>7</td>\n",
       "      <td>129</td>\n",
       "      <td>2</td>\n",
       "      <td>11.5</td>\n",
       "      <td>Queens</td>\n",
       "      <td>Astoria</td>\n",
       "      <td>Boro Zone</td>\n",
       "    </tr>\n",
       "    <tr>\n",
       "      <th>7</th>\n",
       "      <td>2018-01-01 11:25:02</td>\n",
       "      <td>2018-01-01 11:38:34</td>\n",
       "      <td>1</td>\n",
       "      <td>4.14</td>\n",
       "      <td>7</td>\n",
       "      <td>142</td>\n",
       "      <td>1</td>\n",
       "      <td>14.5</td>\n",
       "      <td>Queens</td>\n",
       "      <td>Astoria</td>\n",
       "      <td>Boro Zone</td>\n",
       "    </tr>\n",
       "    <tr>\n",
       "      <th>8</th>\n",
       "      <td>2018-01-01 11:58:17</td>\n",
       "      <td>2018-01-01 12:03:11</td>\n",
       "      <td>2</td>\n",
       "      <td>1.00</td>\n",
       "      <td>7</td>\n",
       "      <td>7</td>\n",
       "      <td>1</td>\n",
       "      <td>6.0</td>\n",
       "      <td>Queens</td>\n",
       "      <td>Astoria</td>\n",
       "      <td>Boro Zone</td>\n",
       "    </tr>\n",
       "    <tr>\n",
       "      <th>9</th>\n",
       "      <td>2018-01-01 11:55:58</td>\n",
       "      <td>2018-01-01 12:22:53</td>\n",
       "      <td>1</td>\n",
       "      <td>6.99</td>\n",
       "      <td>7</td>\n",
       "      <td>17</td>\n",
       "      <td>1</td>\n",
       "      <td>25.0</td>\n",
       "      <td>Queens</td>\n",
       "      <td>Astoria</td>\n",
       "      <td>Boro Zone</td>\n",
       "    </tr>\n",
       "    <tr>\n",
       "      <th>10</th>\n",
       "      <td>2018-01-01 11:40:18</td>\n",
       "      <td>2018-01-01 11:45:33</td>\n",
       "      <td>5</td>\n",
       "      <td>1.09</td>\n",
       "      <td>7</td>\n",
       "      <td>223</td>\n",
       "      <td>2</td>\n",
       "      <td>6.0</td>\n",
       "      <td>Queens</td>\n",
       "      <td>Astoria</td>\n",
       "      <td>Boro Zone</td>\n",
       "    </tr>\n",
       "    <tr>\n",
       "      <th>11</th>\n",
       "      <td>2018-01-01 11:35:08</td>\n",
       "      <td>2018-01-01 11:40:33</td>\n",
       "      <td>1</td>\n",
       "      <td>0.60</td>\n",
       "      <td>7</td>\n",
       "      <td>226</td>\n",
       "      <td>2</td>\n",
       "      <td>5.5</td>\n",
       "      <td>Queens</td>\n",
       "      <td>Astoria</td>\n",
       "      <td>Boro Zone</td>\n",
       "    </tr>\n",
       "    <tr>\n",
       "      <th>12</th>\n",
       "      <td>2018-01-01 11:49:50</td>\n",
       "      <td>2018-01-01 12:03:10</td>\n",
       "      <td>1</td>\n",
       "      <td>5.30</td>\n",
       "      <td>7</td>\n",
       "      <td>198</td>\n",
       "      <td>2</td>\n",
       "      <td>17.0</td>\n",
       "      <td>Queens</td>\n",
       "      <td>Astoria</td>\n",
       "      <td>Boro Zone</td>\n",
       "    </tr>\n",
       "    <tr>\n",
       "      <th>13</th>\n",
       "      <td>2018-01-01 11:16:43</td>\n",
       "      <td>2018-01-01 11:21:27</td>\n",
       "      <td>1</td>\n",
       "      <td>0.95</td>\n",
       "      <td>7</td>\n",
       "      <td>7</td>\n",
       "      <td>2</td>\n",
       "      <td>5.5</td>\n",
       "      <td>Queens</td>\n",
       "      <td>Astoria</td>\n",
       "      <td>Boro Zone</td>\n",
       "    </tr>\n",
       "    <tr>\n",
       "      <th>14</th>\n",
       "      <td>2018-01-01 11:13:10</td>\n",
       "      <td>2018-01-01 11:27:38</td>\n",
       "      <td>1</td>\n",
       "      <td>4.50</td>\n",
       "      <td>7</td>\n",
       "      <td>263</td>\n",
       "      <td>2</td>\n",
       "      <td>16.0</td>\n",
       "      <td>Queens</td>\n",
       "      <td>Astoria</td>\n",
       "      <td>Boro Zone</td>\n",
       "    </tr>\n",
       "    <tr>\n",
       "      <th>15</th>\n",
       "      <td>2018-01-01 11:01:14</td>\n",
       "      <td>2018-01-01 11:04:50</td>\n",
       "      <td>1</td>\n",
       "      <td>0.97</td>\n",
       "      <td>7</td>\n",
       "      <td>193</td>\n",
       "      <td>1</td>\n",
       "      <td>5.5</td>\n",
       "      <td>Queens</td>\n",
       "      <td>Astoria</td>\n",
       "      <td>Boro Zone</td>\n",
       "    </tr>\n",
       "    <tr>\n",
       "      <th>16</th>\n",
       "      <td>2018-01-01 11:34:52</td>\n",
       "      <td>2018-01-01 11:50:41</td>\n",
       "      <td>2</td>\n",
       "      <td>4.44</td>\n",
       "      <td>7</td>\n",
       "      <td>161</td>\n",
       "      <td>2</td>\n",
       "      <td>16.0</td>\n",
       "      <td>Queens</td>\n",
       "      <td>Astoria</td>\n",
       "      <td>Boro Zone</td>\n",
       "    </tr>\n",
       "    <tr>\n",
       "      <th>17</th>\n",
       "      <td>2018-01-01 11:42:32</td>\n",
       "      <td>2018-01-01 11:58:42</td>\n",
       "      <td>1</td>\n",
       "      <td>7.10</td>\n",
       "      <td>7</td>\n",
       "      <td>140</td>\n",
       "      <td>1</td>\n",
       "      <td>22.0</td>\n",
       "      <td>Queens</td>\n",
       "      <td>Astoria</td>\n",
       "      <td>Boro Zone</td>\n",
       "    </tr>\n",
       "    <tr>\n",
       "      <th>18</th>\n",
       "      <td>2018-01-01 11:49:21</td>\n",
       "      <td>2018-01-01 11:52:32</td>\n",
       "      <td>1</td>\n",
       "      <td>0.80</td>\n",
       "      <td>7</td>\n",
       "      <td>7</td>\n",
       "      <td>1</td>\n",
       "      <td>4.5</td>\n",
       "      <td>Queens</td>\n",
       "      <td>Astoria</td>\n",
       "      <td>Boro Zone</td>\n",
       "    </tr>\n",
       "    <tr>\n",
       "      <th>19</th>\n",
       "      <td>2018-01-01 11:44:34</td>\n",
       "      <td>2018-01-01 11:53:23</td>\n",
       "      <td>1</td>\n",
       "      <td>1.90</td>\n",
       "      <td>7</td>\n",
       "      <td>260</td>\n",
       "      <td>1</td>\n",
       "      <td>9.0</td>\n",
       "      <td>Queens</td>\n",
       "      <td>Astoria</td>\n",
       "      <td>Boro Zone</td>\n",
       "    </tr>\n",
       "    <tr>\n",
       "      <th>20</th>\n",
       "      <td>2018-01-01 12:48:48</td>\n",
       "      <td>2018-01-01 12:53:18</td>\n",
       "      <td>1</td>\n",
       "      <td>0.90</td>\n",
       "      <td>7</td>\n",
       "      <td>193</td>\n",
       "      <td>2</td>\n",
       "      <td>5.5</td>\n",
       "      <td>Queens</td>\n",
       "      <td>Astoria</td>\n",
       "      <td>Boro Zone</td>\n",
       "    </tr>\n",
       "    <tr>\n",
       "      <th>21</th>\n",
       "      <td>2018-01-01 12:30:37</td>\n",
       "      <td>2018-01-01 12:38:47</td>\n",
       "      <td>1</td>\n",
       "      <td>1.40</td>\n",
       "      <td>7</td>\n",
       "      <td>179</td>\n",
       "      <td>2</td>\n",
       "      <td>7.5</td>\n",
       "      <td>Queens</td>\n",
       "      <td>Astoria</td>\n",
       "      <td>Boro Zone</td>\n",
       "    </tr>\n",
       "    <tr>\n",
       "      <th>22</th>\n",
       "      <td>2018-01-01 12:18:23</td>\n",
       "      <td>2018-01-01 12:37:40</td>\n",
       "      <td>1</td>\n",
       "      <td>6.05</td>\n",
       "      <td>7</td>\n",
       "      <td>114</td>\n",
       "      <td>1</td>\n",
       "      <td>19.5</td>\n",
       "      <td>Queens</td>\n",
       "      <td>Astoria</td>\n",
       "      <td>Boro Zone</td>\n",
       "    </tr>\n",
       "    <tr>\n",
       "      <th>23</th>\n",
       "      <td>2018-01-01 12:58:08</td>\n",
       "      <td>2018-01-01 13:16:35</td>\n",
       "      <td>1</td>\n",
       "      <td>4.50</td>\n",
       "      <td>7</td>\n",
       "      <td>82</td>\n",
       "      <td>2</td>\n",
       "      <td>17.0</td>\n",
       "      <td>Queens</td>\n",
       "      <td>Astoria</td>\n",
       "      <td>Boro Zone</td>\n",
       "    </tr>\n",
       "    <tr>\n",
       "      <th>24</th>\n",
       "      <td>2018-01-01 12:04:14</td>\n",
       "      <td>2018-01-01 12:10:50</td>\n",
       "      <td>2</td>\n",
       "      <td>1.40</td>\n",
       "      <td>7</td>\n",
       "      <td>146</td>\n",
       "      <td>2</td>\n",
       "      <td>7.0</td>\n",
       "      <td>Queens</td>\n",
       "      <td>Astoria</td>\n",
       "      <td>Boro Zone</td>\n",
       "    </tr>\n",
       "    <tr>\n",
       "      <th>25</th>\n",
       "      <td>2018-01-01 12:08:40</td>\n",
       "      <td>2018-01-01 12:22:01</td>\n",
       "      <td>1</td>\n",
       "      <td>2.63</td>\n",
       "      <td>7</td>\n",
       "      <td>260</td>\n",
       "      <td>1</td>\n",
       "      <td>11.5</td>\n",
       "      <td>Queens</td>\n",
       "      <td>Astoria</td>\n",
       "      <td>Boro Zone</td>\n",
       "    </tr>\n",
       "    <tr>\n",
       "      <th>26</th>\n",
       "      <td>2018-01-01 12:31:03</td>\n",
       "      <td>2018-01-01 13:01:20</td>\n",
       "      <td>1</td>\n",
       "      <td>9.50</td>\n",
       "      <td>7</td>\n",
       "      <td>61</td>\n",
       "      <td>1</td>\n",
       "      <td>31.0</td>\n",
       "      <td>Queens</td>\n",
       "      <td>Astoria</td>\n",
       "      <td>Boro Zone</td>\n",
       "    </tr>\n",
       "    <tr>\n",
       "      <th>27</th>\n",
       "      <td>2018-01-01 12:44:42</td>\n",
       "      <td>2018-01-01 12:53:26</td>\n",
       "      <td>1</td>\n",
       "      <td>3.20</td>\n",
       "      <td>7</td>\n",
       "      <td>140</td>\n",
       "      <td>1</td>\n",
       "      <td>11.0</td>\n",
       "      <td>Queens</td>\n",
       "      <td>Astoria</td>\n",
       "      <td>Boro Zone</td>\n",
       "    </tr>\n",
       "    <tr>\n",
       "      <th>28</th>\n",
       "      <td>2018-01-01 12:24:00</td>\n",
       "      <td>2018-01-01 12:36:45</td>\n",
       "      <td>1</td>\n",
       "      <td>4.26</td>\n",
       "      <td>7</td>\n",
       "      <td>129</td>\n",
       "      <td>2</td>\n",
       "      <td>14.5</td>\n",
       "      <td>Queens</td>\n",
       "      <td>Astoria</td>\n",
       "      <td>Boro Zone</td>\n",
       "    </tr>\n",
       "    <tr>\n",
       "      <th>29</th>\n",
       "      <td>2018-01-01 12:28:34</td>\n",
       "      <td>2018-01-01 12:31:18</td>\n",
       "      <td>1</td>\n",
       "      <td>0.70</td>\n",
       "      <td>7</td>\n",
       "      <td>7</td>\n",
       "      <td>2</td>\n",
       "      <td>4.5</td>\n",
       "      <td>Queens</td>\n",
       "      <td>Astoria</td>\n",
       "      <td>Boro Zone</td>\n",
       "    </tr>\n",
       "    <tr>\n",
       "      <th>...</th>\n",
       "      <td>...</td>\n",
       "      <td>...</td>\n",
       "      <td>...</td>\n",
       "      <td>...</td>\n",
       "      <td>...</td>\n",
       "      <td>...</td>\n",
       "      <td>...</td>\n",
       "      <td>...</td>\n",
       "      <td>...</td>\n",
       "      <td>...</td>\n",
       "      <td>...</td>\n",
       "    </tr>\n",
       "    <tr>\n",
       "      <th>99970</th>\n",
       "      <td>2018-01-01 17:26:36</td>\n",
       "      <td>2018-01-01 17:26:57</td>\n",
       "      <td>1</td>\n",
       "      <td>0.02</td>\n",
       "      <td>133</td>\n",
       "      <td>89</td>\n",
       "      <td>2</td>\n",
       "      <td>2.5</td>\n",
       "      <td>Brooklyn</td>\n",
       "      <td>Kensington</td>\n",
       "      <td>Boro Zone</td>\n",
       "    </tr>\n",
       "    <tr>\n",
       "      <th>99971</th>\n",
       "      <td>2018-01-01 16:16:12</td>\n",
       "      <td>2018-01-01 16:41:09</td>\n",
       "      <td>1</td>\n",
       "      <td>5.98</td>\n",
       "      <td>135</td>\n",
       "      <td>157</td>\n",
       "      <td>2</td>\n",
       "      <td>21.0</td>\n",
       "      <td>Queens</td>\n",
       "      <td>Kew Gardens Hills</td>\n",
       "      <td>Boro Zone</td>\n",
       "    </tr>\n",
       "    <tr>\n",
       "      <th>99972</th>\n",
       "      <td>2018-01-01 18:15:59</td>\n",
       "      <td>2018-01-01 18:18:04</td>\n",
       "      <td>2</td>\n",
       "      <td>0.60</td>\n",
       "      <td>135</td>\n",
       "      <td>93</td>\n",
       "      <td>2</td>\n",
       "      <td>4.5</td>\n",
       "      <td>Queens</td>\n",
       "      <td>Kew Gardens Hills</td>\n",
       "      <td>Boro Zone</td>\n",
       "    </tr>\n",
       "    <tr>\n",
       "      <th>99973</th>\n",
       "      <td>2018-01-01 16:58:08</td>\n",
       "      <td>2018-01-01 17:39:41</td>\n",
       "      <td>2</td>\n",
       "      <td>17.32</td>\n",
       "      <td>201</td>\n",
       "      <td>129</td>\n",
       "      <td>1</td>\n",
       "      <td>51.0</td>\n",
       "      <td>Queens</td>\n",
       "      <td>Rockaway Park</td>\n",
       "      <td>Boro Zone</td>\n",
       "    </tr>\n",
       "    <tr>\n",
       "      <th>99974</th>\n",
       "      <td>2018-01-01 16:07:35</td>\n",
       "      <td>2018-01-01 16:38:04</td>\n",
       "      <td>1</td>\n",
       "      <td>15.60</td>\n",
       "      <td>101</td>\n",
       "      <td>179</td>\n",
       "      <td>2</td>\n",
       "      <td>44.0</td>\n",
       "      <td>Queens</td>\n",
       "      <td>Glen Oaks</td>\n",
       "      <td>Boro Zone</td>\n",
       "    </tr>\n",
       "    <tr>\n",
       "      <th>99975</th>\n",
       "      <td>2018-01-01 16:41:59</td>\n",
       "      <td>2018-01-01 16:46:14</td>\n",
       "      <td>1</td>\n",
       "      <td>0.70</td>\n",
       "      <td>182</td>\n",
       "      <td>250</td>\n",
       "      <td>2</td>\n",
       "      <td>5.0</td>\n",
       "      <td>Bronx</td>\n",
       "      <td>Parkchester</td>\n",
       "      <td>Boro Zone</td>\n",
       "    </tr>\n",
       "    <tr>\n",
       "      <th>99976</th>\n",
       "      <td>2018-01-01 17:13:05</td>\n",
       "      <td>2018-01-01 17:16:38</td>\n",
       "      <td>1</td>\n",
       "      <td>0.50</td>\n",
       "      <td>182</td>\n",
       "      <td>182</td>\n",
       "      <td>2</td>\n",
       "      <td>4.5</td>\n",
       "      <td>Bronx</td>\n",
       "      <td>Parkchester</td>\n",
       "      <td>Boro Zone</td>\n",
       "    </tr>\n",
       "    <tr>\n",
       "      <th>99977</th>\n",
       "      <td>2018-01-01 17:18:01</td>\n",
       "      <td>2018-01-01 17:27:05</td>\n",
       "      <td>1</td>\n",
       "      <td>1.60</td>\n",
       "      <td>182</td>\n",
       "      <td>242</td>\n",
       "      <td>1</td>\n",
       "      <td>8.5</td>\n",
       "      <td>Bronx</td>\n",
       "      <td>Parkchester</td>\n",
       "      <td>Boro Zone</td>\n",
       "    </tr>\n",
       "    <tr>\n",
       "      <th>99978</th>\n",
       "      <td>2018-01-01 17:27:43</td>\n",
       "      <td>2018-01-01 17:32:26</td>\n",
       "      <td>1</td>\n",
       "      <td>1.17</td>\n",
       "      <td>258</td>\n",
       "      <td>197</td>\n",
       "      <td>1</td>\n",
       "      <td>5.5</td>\n",
       "      <td>Queens</td>\n",
       "      <td>Woodhaven</td>\n",
       "      <td>Boro Zone</td>\n",
       "    </tr>\n",
       "    <tr>\n",
       "      <th>99979</th>\n",
       "      <td>2018-01-01 17:52:46</td>\n",
       "      <td>2018-01-01 19:09:14</td>\n",
       "      <td>1</td>\n",
       "      <td>22.70</td>\n",
       "      <td>8</td>\n",
       "      <td>132</td>\n",
       "      <td>2</td>\n",
       "      <td>52.0</td>\n",
       "      <td>Queens</td>\n",
       "      <td>Astoria Park</td>\n",
       "      <td>Boro Zone</td>\n",
       "    </tr>\n",
       "    <tr>\n",
       "      <th>99980</th>\n",
       "      <td>2018-01-01 17:53:54</td>\n",
       "      <td>2018-01-01 18:14:30</td>\n",
       "      <td>2</td>\n",
       "      <td>9.29</td>\n",
       "      <td>67</td>\n",
       "      <td>211</td>\n",
       "      <td>2</td>\n",
       "      <td>27.0</td>\n",
       "      <td>Brooklyn</td>\n",
       "      <td>Dyker Heights</td>\n",
       "      <td>Boro Zone</td>\n",
       "    </tr>\n",
       "    <tr>\n",
       "      <th>99981</th>\n",
       "      <td>2018-01-01 17:58:34</td>\n",
       "      <td>2018-01-01 18:31:19</td>\n",
       "      <td>1</td>\n",
       "      <td>13.60</td>\n",
       "      <td>67</td>\n",
       "      <td>100</td>\n",
       "      <td>2</td>\n",
       "      <td>40.0</td>\n",
       "      <td>Brooklyn</td>\n",
       "      <td>Dyker Heights</td>\n",
       "      <td>Boro Zone</td>\n",
       "    </tr>\n",
       "    <tr>\n",
       "      <th>99982</th>\n",
       "      <td>2018-01-01 17:24:12</td>\n",
       "      <td>2018-01-01 17:59:22</td>\n",
       "      <td>1</td>\n",
       "      <td>16.75</td>\n",
       "      <td>67</td>\n",
       "      <td>161</td>\n",
       "      <td>2</td>\n",
       "      <td>46.5</td>\n",
       "      <td>Brooklyn</td>\n",
       "      <td>Dyker Heights</td>\n",
       "      <td>Boro Zone</td>\n",
       "    </tr>\n",
       "    <tr>\n",
       "      <th>99983</th>\n",
       "      <td>2018-01-01 17:24:32</td>\n",
       "      <td>2018-01-01 18:01:08</td>\n",
       "      <td>1</td>\n",
       "      <td>13.15</td>\n",
       "      <td>136</td>\n",
       "      <td>265</td>\n",
       "      <td>2</td>\n",
       "      <td>40.5</td>\n",
       "      <td>Bronx</td>\n",
       "      <td>Kingsbridge Heights</td>\n",
       "      <td>Boro Zone</td>\n",
       "    </tr>\n",
       "    <tr>\n",
       "      <th>99984</th>\n",
       "      <td>2018-01-01 17:52:43</td>\n",
       "      <td>2018-01-01 18:05:22</td>\n",
       "      <td>1</td>\n",
       "      <td>3.82</td>\n",
       "      <td>94</td>\n",
       "      <td>248</td>\n",
       "      <td>2</td>\n",
       "      <td>13.5</td>\n",
       "      <td>Bronx</td>\n",
       "      <td>Fordham South</td>\n",
       "      <td>Boro Zone</td>\n",
       "    </tr>\n",
       "    <tr>\n",
       "      <th>99985</th>\n",
       "      <td>2018-01-01 17:54:04</td>\n",
       "      <td>2018-01-01 18:10:00</td>\n",
       "      <td>1</td>\n",
       "      <td>6.12</td>\n",
       "      <td>171</td>\n",
       "      <td>28</td>\n",
       "      <td>1</td>\n",
       "      <td>20.0</td>\n",
       "      <td>Queens</td>\n",
       "      <td>Murray Hill-Queens</td>\n",
       "      <td>Boro Zone</td>\n",
       "    </tr>\n",
       "    <tr>\n",
       "      <th>99986</th>\n",
       "      <td>2018-01-01 17:02:37</td>\n",
       "      <td>2018-01-01 17:06:17</td>\n",
       "      <td>2</td>\n",
       "      <td>0.89</td>\n",
       "      <td>153</td>\n",
       "      <td>127</td>\n",
       "      <td>2</td>\n",
       "      <td>5.0</td>\n",
       "      <td>Manhattan</td>\n",
       "      <td>Marble Hill</td>\n",
       "      <td>Boro Zone</td>\n",
       "    </tr>\n",
       "    <tr>\n",
       "      <th>99987</th>\n",
       "      <td>2018-01-01 17:31:54</td>\n",
       "      <td>2018-01-01 17:47:15</td>\n",
       "      <td>1</td>\n",
       "      <td>6.42</td>\n",
       "      <td>252</td>\n",
       "      <td>51</td>\n",
       "      <td>1</td>\n",
       "      <td>19.5</td>\n",
       "      <td>Queens</td>\n",
       "      <td>Whitestone</td>\n",
       "      <td>Boro Zone</td>\n",
       "    </tr>\n",
       "    <tr>\n",
       "      <th>99988</th>\n",
       "      <td>2018-01-01 17:18:24</td>\n",
       "      <td>2018-01-01 17:18:34</td>\n",
       "      <td>1</td>\n",
       "      <td>0.00</td>\n",
       "      <td>156</td>\n",
       "      <td>156</td>\n",
       "      <td>2</td>\n",
       "      <td>2.5</td>\n",
       "      <td>Staten Island</td>\n",
       "      <td>Mariners Harbor</td>\n",
       "      <td>Boro Zone</td>\n",
       "    </tr>\n",
       "    <tr>\n",
       "      <th>99989</th>\n",
       "      <td>2018-01-01 17:15:56</td>\n",
       "      <td>2018-01-01 17:22:03</td>\n",
       "      <td>4</td>\n",
       "      <td>1.56</td>\n",
       "      <td>242</td>\n",
       "      <td>213</td>\n",
       "      <td>2</td>\n",
       "      <td>6.5</td>\n",
       "      <td>Bronx</td>\n",
       "      <td>Van Nest/Morris Park</td>\n",
       "      <td>Boro Zone</td>\n",
       "    </tr>\n",
       "    <tr>\n",
       "      <th>99990</th>\n",
       "      <td>2018-01-01 17:27:59</td>\n",
       "      <td>2018-01-01 17:42:04</td>\n",
       "      <td>2</td>\n",
       "      <td>1.80</td>\n",
       "      <td>147</td>\n",
       "      <td>69</td>\n",
       "      <td>2</td>\n",
       "      <td>10.5</td>\n",
       "      <td>Bronx</td>\n",
       "      <td>Longwood</td>\n",
       "      <td>Boro Zone</td>\n",
       "    </tr>\n",
       "    <tr>\n",
       "      <th>99991</th>\n",
       "      <td>2018-01-01 17:08:19</td>\n",
       "      <td>2018-01-01 17:17:57</td>\n",
       "      <td>1</td>\n",
       "      <td>2.74</td>\n",
       "      <td>131</td>\n",
       "      <td>197</td>\n",
       "      <td>2</td>\n",
       "      <td>10.5</td>\n",
       "      <td>Queens</td>\n",
       "      <td>Jamaica Estates</td>\n",
       "      <td>Boro Zone</td>\n",
       "    </tr>\n",
       "    <tr>\n",
       "      <th>99992</th>\n",
       "      <td>2018-01-01 18:14:13</td>\n",
       "      <td>2018-01-01 18:21:36</td>\n",
       "      <td>1</td>\n",
       "      <td>1.80</td>\n",
       "      <td>155</td>\n",
       "      <td>91</td>\n",
       "      <td>2</td>\n",
       "      <td>8.0</td>\n",
       "      <td>Brooklyn</td>\n",
       "      <td>Marine Park/Mill Basin</td>\n",
       "      <td>Boro Zone</td>\n",
       "    </tr>\n",
       "    <tr>\n",
       "      <th>99993</th>\n",
       "      <td>2018-01-01 18:24:39</td>\n",
       "      <td>2018-01-01 18:49:57</td>\n",
       "      <td>2</td>\n",
       "      <td>5.10</td>\n",
       "      <td>91</td>\n",
       "      <td>49</td>\n",
       "      <td>3</td>\n",
       "      <td>20.5</td>\n",
       "      <td>Brooklyn</td>\n",
       "      <td>Flatlands</td>\n",
       "      <td>Boro Zone</td>\n",
       "    </tr>\n",
       "    <tr>\n",
       "      <th>99994</th>\n",
       "      <td>2018-01-01 18:12:30</td>\n",
       "      <td>2018-01-01 18:12:35</td>\n",
       "      <td>1</td>\n",
       "      <td>0.00</td>\n",
       "      <td>16</td>\n",
       "      <td>16</td>\n",
       "      <td>2</td>\n",
       "      <td>2.5</td>\n",
       "      <td>Queens</td>\n",
       "      <td>Bayside</td>\n",
       "      <td>Boro Zone</td>\n",
       "    </tr>\n",
       "    <tr>\n",
       "      <th>99995</th>\n",
       "      <td>2018-01-01 18:47:15</td>\n",
       "      <td>2018-01-01 18:51:49</td>\n",
       "      <td>1</td>\n",
       "      <td>1.10</td>\n",
       "      <td>29</td>\n",
       "      <td>150</td>\n",
       "      <td>1</td>\n",
       "      <td>6.0</td>\n",
       "      <td>Brooklyn</td>\n",
       "      <td>Brighton Beach</td>\n",
       "      <td>Boro Zone</td>\n",
       "    </tr>\n",
       "    <tr>\n",
       "      <th>99996</th>\n",
       "      <td>2018-01-01 18:25:17</td>\n",
       "      <td>2018-01-01 18:42:07</td>\n",
       "      <td>1</td>\n",
       "      <td>8.95</td>\n",
       "      <td>11</td>\n",
       "      <td>33</td>\n",
       "      <td>1</td>\n",
       "      <td>26.0</td>\n",
       "      <td>Brooklyn</td>\n",
       "      <td>Bath Beach</td>\n",
       "      <td>Boro Zone</td>\n",
       "    </tr>\n",
       "    <tr>\n",
       "      <th>99997</th>\n",
       "      <td>2018-01-01 19:44:25</td>\n",
       "      <td>2018-01-01 19:49:07</td>\n",
       "      <td>1</td>\n",
       "      <td>0.80</td>\n",
       "      <td>235</td>\n",
       "      <td>247</td>\n",
       "      <td>2</td>\n",
       "      <td>5.5</td>\n",
       "      <td>Bronx</td>\n",
       "      <td>University Heights/Morris Heights</td>\n",
       "      <td>Boro Zone</td>\n",
       "    </tr>\n",
       "    <tr>\n",
       "      <th>99998</th>\n",
       "      <td>2018-01-01 19:41:17</td>\n",
       "      <td>2018-01-01 20:09:11</td>\n",
       "      <td>1</td>\n",
       "      <td>11.58</td>\n",
       "      <td>180</td>\n",
       "      <td>234</td>\n",
       "      <td>1</td>\n",
       "      <td>52.0</td>\n",
       "      <td>Queens</td>\n",
       "      <td>Ozone Park</td>\n",
       "      <td>Boro Zone</td>\n",
       "    </tr>\n",
       "    <tr>\n",
       "      <th>99999</th>\n",
       "      <td>2018-01-01 19:28:18</td>\n",
       "      <td>2018-01-01 19:51:47</td>\n",
       "      <td>2</td>\n",
       "      <td>10.68</td>\n",
       "      <td>35</td>\n",
       "      <td>70</td>\n",
       "      <td>1</td>\n",
       "      <td>32.0</td>\n",
       "      <td>Brooklyn</td>\n",
       "      <td>Brownsville</td>\n",
       "      <td>Boro Zone</td>\n",
       "    </tr>\n",
       "  </tbody>\n",
       "</table>\n",
       "<p>100000 rows × 11 columns</p>\n",
       "</div>"
      ],
      "text/plain": [
       "      tpep_pickup_datetime tpep_dropoff_datetime  passenger_count  \\\n",
       "0      2018-01-01 11:22:49   2018-01-01 11:44:52                2   \n",
       "1      2018-01-01 11:46:24   2018-01-01 11:48:48                1   \n",
       "2      2018-01-01 11:49:24   2018-01-01 11:51:26                1   \n",
       "3      2018-01-01 11:33:28   2018-01-01 12:00:05                2   \n",
       "4      2018-01-01 11:51:21   2018-01-01 11:56:57                1   \n",
       "5      2018-01-01 11:05:43   2018-01-01 11:23:04                1   \n",
       "6      2018-01-01 11:16:28   2018-01-01 11:30:04                2   \n",
       "7      2018-01-01 11:25:02   2018-01-01 11:38:34                1   \n",
       "8      2018-01-01 11:58:17   2018-01-01 12:03:11                2   \n",
       "9      2018-01-01 11:55:58   2018-01-01 12:22:53                1   \n",
       "10     2018-01-01 11:40:18   2018-01-01 11:45:33                5   \n",
       "11     2018-01-01 11:35:08   2018-01-01 11:40:33                1   \n",
       "12     2018-01-01 11:49:50   2018-01-01 12:03:10                1   \n",
       "13     2018-01-01 11:16:43   2018-01-01 11:21:27                1   \n",
       "14     2018-01-01 11:13:10   2018-01-01 11:27:38                1   \n",
       "15     2018-01-01 11:01:14   2018-01-01 11:04:50                1   \n",
       "16     2018-01-01 11:34:52   2018-01-01 11:50:41                2   \n",
       "17     2018-01-01 11:42:32   2018-01-01 11:58:42                1   \n",
       "18     2018-01-01 11:49:21   2018-01-01 11:52:32                1   \n",
       "19     2018-01-01 11:44:34   2018-01-01 11:53:23                1   \n",
       "20     2018-01-01 12:48:48   2018-01-01 12:53:18                1   \n",
       "21     2018-01-01 12:30:37   2018-01-01 12:38:47                1   \n",
       "22     2018-01-01 12:18:23   2018-01-01 12:37:40                1   \n",
       "23     2018-01-01 12:58:08   2018-01-01 13:16:35                1   \n",
       "24     2018-01-01 12:04:14   2018-01-01 12:10:50                2   \n",
       "25     2018-01-01 12:08:40   2018-01-01 12:22:01                1   \n",
       "26     2018-01-01 12:31:03   2018-01-01 13:01:20                1   \n",
       "27     2018-01-01 12:44:42   2018-01-01 12:53:26                1   \n",
       "28     2018-01-01 12:24:00   2018-01-01 12:36:45                1   \n",
       "29     2018-01-01 12:28:34   2018-01-01 12:31:18                1   \n",
       "...                    ...                   ...              ...   \n",
       "99970  2018-01-01 17:26:36   2018-01-01 17:26:57                1   \n",
       "99971  2018-01-01 16:16:12   2018-01-01 16:41:09                1   \n",
       "99972  2018-01-01 18:15:59   2018-01-01 18:18:04                2   \n",
       "99973  2018-01-01 16:58:08   2018-01-01 17:39:41                2   \n",
       "99974  2018-01-01 16:07:35   2018-01-01 16:38:04                1   \n",
       "99975  2018-01-01 16:41:59   2018-01-01 16:46:14                1   \n",
       "99976  2018-01-01 17:13:05   2018-01-01 17:16:38                1   \n",
       "99977  2018-01-01 17:18:01   2018-01-01 17:27:05                1   \n",
       "99978  2018-01-01 17:27:43   2018-01-01 17:32:26                1   \n",
       "99979  2018-01-01 17:52:46   2018-01-01 19:09:14                1   \n",
       "99980  2018-01-01 17:53:54   2018-01-01 18:14:30                2   \n",
       "99981  2018-01-01 17:58:34   2018-01-01 18:31:19                1   \n",
       "99982  2018-01-01 17:24:12   2018-01-01 17:59:22                1   \n",
       "99983  2018-01-01 17:24:32   2018-01-01 18:01:08                1   \n",
       "99984  2018-01-01 17:52:43   2018-01-01 18:05:22                1   \n",
       "99985  2018-01-01 17:54:04   2018-01-01 18:10:00                1   \n",
       "99986  2018-01-01 17:02:37   2018-01-01 17:06:17                2   \n",
       "99987  2018-01-01 17:31:54   2018-01-01 17:47:15                1   \n",
       "99988  2018-01-01 17:18:24   2018-01-01 17:18:34                1   \n",
       "99989  2018-01-01 17:15:56   2018-01-01 17:22:03                4   \n",
       "99990  2018-01-01 17:27:59   2018-01-01 17:42:04                2   \n",
       "99991  2018-01-01 17:08:19   2018-01-01 17:17:57                1   \n",
       "99992  2018-01-01 18:14:13   2018-01-01 18:21:36                1   \n",
       "99993  2018-01-01 18:24:39   2018-01-01 18:49:57                2   \n",
       "99994  2018-01-01 18:12:30   2018-01-01 18:12:35                1   \n",
       "99995  2018-01-01 18:47:15   2018-01-01 18:51:49                1   \n",
       "99996  2018-01-01 18:25:17   2018-01-01 18:42:07                1   \n",
       "99997  2018-01-01 19:44:25   2018-01-01 19:49:07                1   \n",
       "99998  2018-01-01 19:41:17   2018-01-01 20:09:11                1   \n",
       "99999  2018-01-01 19:28:18   2018-01-01 19:51:47                2   \n",
       "\n",
       "       trip_distance  PULocationID  DOLocationID  payment_type  fare_amount  \\\n",
       "0               9.00             7            88             2         28.0   \n",
       "1               0.48             7             7             1          4.0   \n",
       "2               0.50             7             7             2          4.0   \n",
       "3               7.10             7           158             1         25.0   \n",
       "4               1.20             7           226             2          6.5   \n",
       "5               7.80             7            56             2         23.5   \n",
       "6               3.20             7           129             2         11.5   \n",
       "7               4.14             7           142             1         14.5   \n",
       "8               1.00             7             7             1          6.0   \n",
       "9               6.99             7            17             1         25.0   \n",
       "10              1.09             7           223             2          6.0   \n",
       "11              0.60             7           226             2          5.5   \n",
       "12              5.30             7           198             2         17.0   \n",
       "13              0.95             7             7             2          5.5   \n",
       "14              4.50             7           263             2         16.0   \n",
       "15              0.97             7           193             1          5.5   \n",
       "16              4.44             7           161             2         16.0   \n",
       "17              7.10             7           140             1         22.0   \n",
       "18              0.80             7             7             1          4.5   \n",
       "19              1.90             7           260             1          9.0   \n",
       "20              0.90             7           193             2          5.5   \n",
       "21              1.40             7           179             2          7.5   \n",
       "22              6.05             7           114             1         19.5   \n",
       "23              4.50             7            82             2         17.0   \n",
       "24              1.40             7           146             2          7.0   \n",
       "25              2.63             7           260             1         11.5   \n",
       "26              9.50             7            61             1         31.0   \n",
       "27              3.20             7           140             1         11.0   \n",
       "28              4.26             7           129             2         14.5   \n",
       "29              0.70             7             7             2          4.5   \n",
       "...              ...           ...           ...           ...          ...   \n",
       "99970           0.02           133            89             2          2.5   \n",
       "99971           5.98           135           157             2         21.0   \n",
       "99972           0.60           135            93             2          4.5   \n",
       "99973          17.32           201           129             1         51.0   \n",
       "99974          15.60           101           179             2         44.0   \n",
       "99975           0.70           182           250             2          5.0   \n",
       "99976           0.50           182           182             2          4.5   \n",
       "99977           1.60           182           242             1          8.5   \n",
       "99978           1.17           258           197             1          5.5   \n",
       "99979          22.70             8           132             2         52.0   \n",
       "99980           9.29            67           211             2         27.0   \n",
       "99981          13.60            67           100             2         40.0   \n",
       "99982          16.75            67           161             2         46.5   \n",
       "99983          13.15           136           265             2         40.5   \n",
       "99984           3.82            94           248             2         13.5   \n",
       "99985           6.12           171            28             1         20.0   \n",
       "99986           0.89           153           127             2          5.0   \n",
       "99987           6.42           252            51             1         19.5   \n",
       "99988           0.00           156           156             2          2.5   \n",
       "99989           1.56           242           213             2          6.5   \n",
       "99990           1.80           147            69             2         10.5   \n",
       "99991           2.74           131           197             2         10.5   \n",
       "99992           1.80           155            91             2          8.0   \n",
       "99993           5.10            91            49             3         20.5   \n",
       "99994           0.00            16            16             2          2.5   \n",
       "99995           1.10            29           150             1          6.0   \n",
       "99996           8.95            11            33             1         26.0   \n",
       "99997           0.80           235           247             2          5.5   \n",
       "99998          11.58           180           234             1         52.0   \n",
       "99999          10.68            35            70             1         32.0   \n",
       "\n",
       "             Borough                               Zone service_zone  \n",
       "0             Queens                            Astoria    Boro Zone  \n",
       "1             Queens                            Astoria    Boro Zone  \n",
       "2             Queens                            Astoria    Boro Zone  \n",
       "3             Queens                            Astoria    Boro Zone  \n",
       "4             Queens                            Astoria    Boro Zone  \n",
       "5             Queens                            Astoria    Boro Zone  \n",
       "6             Queens                            Astoria    Boro Zone  \n",
       "7             Queens                            Astoria    Boro Zone  \n",
       "8             Queens                            Astoria    Boro Zone  \n",
       "9             Queens                            Astoria    Boro Zone  \n",
       "10            Queens                            Astoria    Boro Zone  \n",
       "11            Queens                            Astoria    Boro Zone  \n",
       "12            Queens                            Astoria    Boro Zone  \n",
       "13            Queens                            Astoria    Boro Zone  \n",
       "14            Queens                            Astoria    Boro Zone  \n",
       "15            Queens                            Astoria    Boro Zone  \n",
       "16            Queens                            Astoria    Boro Zone  \n",
       "17            Queens                            Astoria    Boro Zone  \n",
       "18            Queens                            Astoria    Boro Zone  \n",
       "19            Queens                            Astoria    Boro Zone  \n",
       "20            Queens                            Astoria    Boro Zone  \n",
       "21            Queens                            Astoria    Boro Zone  \n",
       "22            Queens                            Astoria    Boro Zone  \n",
       "23            Queens                            Astoria    Boro Zone  \n",
       "24            Queens                            Astoria    Boro Zone  \n",
       "25            Queens                            Astoria    Boro Zone  \n",
       "26            Queens                            Astoria    Boro Zone  \n",
       "27            Queens                            Astoria    Boro Zone  \n",
       "28            Queens                            Astoria    Boro Zone  \n",
       "29            Queens                            Astoria    Boro Zone  \n",
       "...              ...                                ...          ...  \n",
       "99970       Brooklyn                         Kensington    Boro Zone  \n",
       "99971         Queens                  Kew Gardens Hills    Boro Zone  \n",
       "99972         Queens                  Kew Gardens Hills    Boro Zone  \n",
       "99973         Queens                      Rockaway Park    Boro Zone  \n",
       "99974         Queens                          Glen Oaks    Boro Zone  \n",
       "99975          Bronx                        Parkchester    Boro Zone  \n",
       "99976          Bronx                        Parkchester    Boro Zone  \n",
       "99977          Bronx                        Parkchester    Boro Zone  \n",
       "99978         Queens                          Woodhaven    Boro Zone  \n",
       "99979         Queens                       Astoria Park    Boro Zone  \n",
       "99980       Brooklyn                      Dyker Heights    Boro Zone  \n",
       "99981       Brooklyn                      Dyker Heights    Boro Zone  \n",
       "99982       Brooklyn                      Dyker Heights    Boro Zone  \n",
       "99983          Bronx                Kingsbridge Heights    Boro Zone  \n",
       "99984          Bronx                      Fordham South    Boro Zone  \n",
       "99985         Queens                 Murray Hill-Queens    Boro Zone  \n",
       "99986      Manhattan                        Marble Hill    Boro Zone  \n",
       "99987         Queens                         Whitestone    Boro Zone  \n",
       "99988  Staten Island                    Mariners Harbor    Boro Zone  \n",
       "99989          Bronx               Van Nest/Morris Park    Boro Zone  \n",
       "99990          Bronx                           Longwood    Boro Zone  \n",
       "99991         Queens                    Jamaica Estates    Boro Zone  \n",
       "99992       Brooklyn             Marine Park/Mill Basin    Boro Zone  \n",
       "99993       Brooklyn                          Flatlands    Boro Zone  \n",
       "99994         Queens                            Bayside    Boro Zone  \n",
       "99995       Brooklyn                     Brighton Beach    Boro Zone  \n",
       "99996       Brooklyn                         Bath Beach    Boro Zone  \n",
       "99997          Bronx  University Heights/Morris Heights    Boro Zone  \n",
       "99998         Queens                         Ozone Park    Boro Zone  \n",
       "99999       Brooklyn                        Brownsville    Boro Zone  \n",
       "\n",
       "[100000 rows x 11 columns]"
      ]
     },
     "execution_count": 103,
     "metadata": {},
     "output_type": "execute_result"
    }
   ],
   "source": [
    "mergedata"
   ]
  },
  {
   "cell_type": "code",
   "execution_count": 104,
   "metadata": {},
   "outputs": [
    {
     "data": {
      "text/plain": [
       "1    64792\n",
       "2    18148\n",
       "3     5451\n",
       "5     4938\n",
       "4     3095\n",
       "6     3081\n",
       "0      495\n",
       "Name: passenger_count, dtype: int64"
      ]
     },
     "execution_count": 104,
     "metadata": {},
     "output_type": "execute_result"
    }
   ],
   "source": [
    "mergedata['passenger_count'].value_counts()"
   ]
  },
  {
   "cell_type": "code",
   "execution_count": 105,
   "metadata": {},
   "outputs": [
    {
     "data": {
      "text/plain": [
       "count    100000.000000\n",
       "mean          1.729970\n",
       "std           1.307865\n",
       "min           0.000000\n",
       "25%           1.000000\n",
       "50%           1.000000\n",
       "75%           2.000000\n",
       "max           6.000000\n",
       "Name: passenger_count, dtype: float64"
      ]
     },
     "execution_count": 105,
     "metadata": {},
     "output_type": "execute_result"
    }
   ],
   "source": [
    "mergedata['passenger_count'].describe()"
   ]
  },
  {
   "cell_type": "code",
   "execution_count": 106,
   "metadata": {},
   "outputs": [
    {
     "data": {
      "image/png": "[encoded data removed]",
      "text/plain": [
       "<matplotlib.figure.Figure at 0x2a969f053c8>"
      ]
     },
     "metadata": {},
     "output_type": "display_data"
    },
    {
     "data": {
      "image/png": "[encoded data removed]",
      "text/plain": [
       "<matplotlib.figure.Figure at 0x2a969f05198>"
      ]
     },
     "metadata": {},
     "output_type": "display_data"
    },
    {
     "data": {
      "image/png": "[encoded data removed]",
      "text/plain": [
       "<matplotlib.figure.Figure at 0x2a96c91da20>"
      ]
     },
     "metadata": {},
     "output_type": "display_data"
    },
    {
     "data": {
      "image/png": "[encoded data removed]",
      "text/plain": [
       "<matplotlib.figure.Figure at 0x2a96cf2fe10>"
      ]
     },
     "metadata": {},
     "output_type": "display_data"
    },
    {
     "data": {
      "image/png": "[encoded data removed]",
      "text/plain": [
       "<matplotlib.figure.Figure at 0x2a96de76908>"
      ]
     },
     "metadata": {},
     "output_type": "display_data"
    }
   ],
   "source": [
    "plt.figure(figsize = (6,4))\n",
    "sns.countplot(mergedata['passenger_count'])\n",
    "plt.xlabel(\"People\")\n",
    "plt.show()"
   ]
  },
  {
   "cell_type": "code",
   "execution_count": 107,
   "metadata": {
    "collapsed": true
   },
   "outputs": [],
   "source": [
    "mergedata['tpep_pickup_datetime'] = pd.to_datetime(mergedata['tpep_pickup_datetime'])\n",
    "mergedata['tpep_dropoff_datetime'] = pd.to_datetime(mergedata['tpep_dropoff_datetime'])\n",
    "\n",
    "mergedata['weekday'] = mergedata['tpep_pickup_datetime'].dt.weekday_name\n",
    "mergedata['month'] = mergedata['tpep_pickup_datetime'].dt.month\n",
    "mergedata['weekday_num'] = mergedata['tpep_pickup_datetime'].dt.weekday\n",
    "mergedata['pickup_hour'] = mergedata['tpep_pickup_datetime'].dt.hour\n",
    "mergedata['day'] = mergedata['tpep_pickup_datetime'].dt.date"
   ]
  },
  {
   "cell_type": "code",
   "execution_count": 108,
   "metadata": {},
   "outputs": [
    {
     "data": {
      "image/png": "[encoded data removed]",
      "text/plain": [
       "<matplotlib.figure.Figure at 0x2a96c664748>"
      ]
     },
     "metadata": {},
     "output_type": "display_data"
    }
   ],
   "source": [
    "plt.figure(figsize = (20,3))\n",
    "sns.countplot(mergedata.weekday_num)\n",
    "plt.show()"
   ]
  },
  {
   "cell_type": "code",
   "execution_count": 109,
   "metadata": {
    "collapsed": true
   },
   "outputs": [],
   "source": [
    "mergedata['trip_duration'] = (mergedata.tpep_dropoff_datetime - mergedata.tpep_pickup_datetime).dt.total_seconds()"
   ]
  },
  {
   "cell_type": "code",
   "execution_count": 110,
   "metadata": {},
   "outputs": [
    {
     "data": {
      "text/html": [
       "<div>\n",
       "<style>\n",
       "    .dataframe thead tr:only-child th {\n",
       "        text-align: right;\n",
       "    }\n",
       "\n",
       "    .dataframe thead th {\n",
       "        text-align: left;\n",
       "    }\n",
       "\n",
       "    .dataframe tbody tr th {\n",
       "        vertical-align: top;\n",
       "    }\n",
       "</style>\n",
       "<table border=\"1\" class=\"dataframe\">\n",
       "  <thead>\n",
       "    <tr style=\"text-align: right;\">\n",
       "      <th></th>\n",
       "      <th>tpep_pickup_datetime</th>\n",
       "      <th>tpep_dropoff_datetime</th>\n",
       "      <th>passenger_count</th>\n",
       "      <th>trip_distance</th>\n",
       "      <th>PULocationID</th>\n",
       "      <th>DOLocationID</th>\n",
       "      <th>payment_type</th>\n",
       "      <th>fare_amount</th>\n",
       "      <th>Borough</th>\n",
       "      <th>Zone</th>\n",
       "      <th>service_zone</th>\n",
       "      <th>weekday</th>\n",
       "      <th>month</th>\n",
       "      <th>weekday_num</th>\n",
       "      <th>pickup_hour</th>\n",
       "      <th>day</th>\n",
       "      <th>trip_duration</th>\n",
       "    </tr>\n",
       "  </thead>\n",
       "  <tbody>\n",
       "    <tr>\n",
       "      <th>0</th>\n",
       "      <td>2018-01-01 11:22:49</td>\n",
       "      <td>2018-01-01 11:44:52</td>\n",
       "      <td>2</td>\n",
       "      <td>9.00</td>\n",
       "      <td>7</td>\n",
       "      <td>88</td>\n",
       "      <td>2</td>\n",
       "      <td>28.0</td>\n",
       "      <td>Queens</td>\n",
       "      <td>Astoria</td>\n",
       "      <td>Boro Zone</td>\n",
       "      <td>Monday</td>\n",
       "      <td>1</td>\n",
       "      <td>0</td>\n",
       "      <td>11</td>\n",
       "      <td>2018-01-01</td>\n",
       "      <td>1323.0</td>\n",
       "    </tr>\n",
       "    <tr>\n",
       "      <th>1</th>\n",
       "      <td>2018-01-01 11:46:24</td>\n",
       "      <td>2018-01-01 11:48:48</td>\n",
       "      <td>1</td>\n",
       "      <td>0.48</td>\n",
       "      <td>7</td>\n",
       "      <td>7</td>\n",
       "      <td>1</td>\n",
       "      <td>4.0</td>\n",
       "      <td>Queens</td>\n",
       "      <td>Astoria</td>\n",
       "      <td>Boro Zone</td>\n",
       "      <td>Monday</td>\n",
       "      <td>1</td>\n",
       "      <td>0</td>\n",
       "      <td>11</td>\n",
       "      <td>2018-01-01</td>\n",
       "      <td>144.0</td>\n",
       "    </tr>\n",
       "    <tr>\n",
       "      <th>2</th>\n",
       "      <td>2018-01-01 11:49:24</td>\n",
       "      <td>2018-01-01 11:51:26</td>\n",
       "      <td>1</td>\n",
       "      <td>0.50</td>\n",
       "      <td>7</td>\n",
       "      <td>7</td>\n",
       "      <td>2</td>\n",
       "      <td>4.0</td>\n",
       "      <td>Queens</td>\n",
       "      <td>Astoria</td>\n",
       "      <td>Boro Zone</td>\n",
       "      <td>Monday</td>\n",
       "      <td>1</td>\n",
       "      <td>0</td>\n",
       "      <td>11</td>\n",
       "      <td>2018-01-01</td>\n",
       "      <td>122.0</td>\n",
       "    </tr>\n",
       "    <tr>\n",
       "      <th>3</th>\n",
       "      <td>2018-01-01 11:33:28</td>\n",
       "      <td>2018-01-01 12:00:05</td>\n",
       "      <td>2</td>\n",
       "      <td>7.10</td>\n",
       "      <td>7</td>\n",
       "      <td>158</td>\n",
       "      <td>1</td>\n",
       "      <td>25.0</td>\n",
       "      <td>Queens</td>\n",
       "      <td>Astoria</td>\n",
       "      <td>Boro Zone</td>\n",
       "      <td>Monday</td>\n",
       "      <td>1</td>\n",
       "      <td>0</td>\n",
       "      <td>11</td>\n",
       "      <td>2018-01-01</td>\n",
       "      <td>1597.0</td>\n",
       "    </tr>\n",
       "    <tr>\n",
       "      <th>4</th>\n",
       "      <td>2018-01-01 11:51:21</td>\n",
       "      <td>2018-01-01 11:56:57</td>\n",
       "      <td>1</td>\n",
       "      <td>1.20</td>\n",
       "      <td>7</td>\n",
       "      <td>226</td>\n",
       "      <td>2</td>\n",
       "      <td>6.5</td>\n",
       "      <td>Queens</td>\n",
       "      <td>Astoria</td>\n",
       "      <td>Boro Zone</td>\n",
       "      <td>Monday</td>\n",
       "      <td>1</td>\n",
       "      <td>0</td>\n",
       "      <td>11</td>\n",
       "      <td>2018-01-01</td>\n",
       "      <td>336.0</td>\n",
       "    </tr>\n",
       "  </tbody>\n",
       "</table>\n",
       "</div>"
      ],
      "text/plain": [
       "  tpep_pickup_datetime tpep_dropoff_datetime  passenger_count  trip_distance  \\\n",
       "0  2018-01-01 11:22:49   2018-01-01 11:44:52                2           9.00   \n",
       "1  2018-01-01 11:46:24   2018-01-01 11:48:48                1           0.48   \n",
       "2  2018-01-01 11:49:24   2018-01-01 11:51:26                1           0.50   \n",
       "3  2018-01-01 11:33:28   2018-01-01 12:00:05                2           7.10   \n",
       "4  2018-01-01 11:51:21   2018-01-01 11:56:57                1           1.20   \n",
       "\n",
       "   PULocationID  DOLocationID  payment_type  fare_amount Borough     Zone  \\\n",
       "0             7            88             2         28.0  Queens  Astoria   \n",
       "1             7             7             1          4.0  Queens  Astoria   \n",
       "2             7             7             2          4.0  Queens  Astoria   \n",
       "3             7           158             1         25.0  Queens  Astoria   \n",
       "4             7           226             2          6.5  Queens  Astoria   \n",
       "\n",
       "  service_zone weekday  month  weekday_num  pickup_hour         day  \\\n",
       "0    Boro Zone  Monday      1            0           11  2018-01-01   \n",
       "1    Boro Zone  Monday      1            0           11  2018-01-01   \n",
       "2    Boro Zone  Monday      1            0           11  2018-01-01   \n",
       "3    Boro Zone  Monday      1            0           11  2018-01-01   \n",
       "4    Boro Zone  Monday      1            0           11  2018-01-01   \n",
       "\n",
       "   trip_duration  \n",
       "0         1323.0  \n",
       "1          144.0  \n",
       "2          122.0  \n",
       "3         1597.0  \n",
       "4          336.0  "
      ]
     },
     "execution_count": 110,
     "metadata": {},
     "output_type": "execute_result"
    }
   ],
   "source": [
    "mergedata.head()"
   ]
  },
  {
   "cell_type": "code",
   "execution_count": 111,
   "metadata": {},
   "outputs": [
    {
     "data": {
      "image/png": "[encoded data removed]",
      "text/plain": [
       "<matplotlib.figure.Figure at 0x2a96cb6fd30>"
      ]
     },
     "metadata": {},
     "output_type": "display_data"
    }
   ],
   "source": [
    "plt.figure(figsize = (20,5))\n",
    "sns.boxplot(mergedata['trip_duration'])\n",
    "plt.show()"
   ]
  },
  {
   "cell_type": "code",
   "execution_count": 112,
   "metadata": {
    "collapsed": true
   },
   "outputs": [],
   "source": [
    "ManhattanMD = mergedata[mergedata['Borough'] == 'Manhattan']"
   ]
  },
  {
   "cell_type": "code",
   "execution_count": 113,
   "metadata": {
    "collapsed": true
   },
   "outputs": [],
   "source": [
    "QueensMD = mergedata[mergedata['Borough'] == 'Queens']"
   ]
  },
  {
   "cell_type": "code",
   "execution_count": 114,
   "metadata": {
    "collapsed": true
   },
   "outputs": [],
   "source": [
    "BrooklynMD = mergedata[mergedata['Borough'] == 'Brooklyn']"
   ]
  },
  {
   "cell_type": "code",
   "execution_count": 115,
   "metadata": {
    "collapsed": true
   },
   "outputs": [],
   "source": [
    "StatenIslandMD = mergedata[mergedata['Borough'] == 'Staten Island']"
   ]
  },
  {
   "cell_type": "code",
   "execution_count": 116,
   "metadata": {
    "collapsed": true
   },
   "outputs": [],
   "source": [
    "EWRMD = mergedata[mergedata['Borough'] == 'EWR']"
   ]
  },
  {
   "cell_type": "code",
   "execution_count": 117,
   "metadata": {
    "collapsed": true
   },
   "outputs": [],
   "source": [
    "BronxMD = mergedata[mergedata['Borough'] == 'Bronx']"
   ]
  },
  {
   "cell_type": "code",
   "execution_count": 118,
   "metadata": {},
   "outputs": [
    {
     "data": {
      "image/png": "[encoded data removed]",
      "text/plain": [
       "<matplotlib.figure.Figure at 0x2a96cb90278>"
      ]
     },
     "metadata": {},
     "output_type": "display_data"
    }
   ],
   "source": [
    "plt.figure(figsize = (20,5))\n",
    "sns.boxplot(ManhattanMD['trip_duration'])\n",
    "plt.show()    #Manhattan Trip Duration"
   ]
  },
  {
   "cell_type": "code",
   "execution_count": 119,
   "metadata": {},
   "outputs": [
    {
     "data": {
      "image/png": "[encoded data removed]",
      "text/plain": [
       "<matplotlib.figure.Figure at 0x2a96cc44278>"
      ]
     },
     "metadata": {},
     "output_type": "display_data"
    }
   ],
   "source": [
    "plt.figure(figsize = (20,5))\n",
    "sns.boxplot(BrooklynMD['trip_duration'])\n",
    "plt.show()"
   ]
  },
  {
   "cell_type": "code",
   "execution_count": 120,
   "metadata": {},
   "outputs": [
    {
     "data": {
      "image/png": "[encoded data removed]",
      "text/plain": [
       "<matplotlib.figure.Figure at 0x2a96cef0f28>"
      ]
     },
     "metadata": {},
     "output_type": "display_data"
    }
   ],
   "source": [
    "plt.figure(figsize = (20,5))\n",
    "sns.boxplot(BronxMD['trip_duration'])\n",
    "plt.show()"
   ]
  },
  {
   "cell_type": "code",
   "execution_count": 121,
   "metadata": {},
   "outputs": [
    {
     "data": {
      "image/png": "[encoded data removed]",
      "text/plain": [
       "<matplotlib.figure.Figure at 0x2a96cb9a630>"
      ]
     },
     "metadata": {},
     "output_type": "display_data"
    }
   ],
   "source": [
    "plt.figure(figsize = (20,5))\n",
    "sns.boxplot(EWRMD['trip_duration'])\n",
    "plt.show()"
   ]
  },
  {
   "cell_type": "code",
   "execution_count": 122,
   "metadata": {},
   "outputs": [
    {
     "data": {
      "image/png": "[encoded data removed]",
      "text/plain": [
       "<matplotlib.figure.Figure at 0x2a96e837e48>"
      ]
     },
     "metadata": {},
     "output_type": "display_data"
    }
   ],
   "source": [
    "plt.figure(figsize = (20,5))\n",
    "sns.boxplot(StatenIslandMD['trip_duration'])\n",
    "plt.show()"
   ]
  },
  {
   "cell_type": "code",
   "execution_count": 123,
   "metadata": {},
   "outputs": [
    {
     "data": {
      "image/png": "[encoded data removed]",
      "text/plain": [
       "<matplotlib.figure.Figure at 0x2a970845e10>"
      ]
     },
     "metadata": {},
     "output_type": "display_data"
    }
   ],
   "source": [
    "plt.figure(figsize = (20,5))\n",
    "sns.boxplot(QueensMD['trip_duration'])\n",
    "plt.show()"
   ]
  },
  {
   "cell_type": "code",
   "execution_count": 124,
   "metadata": {},
   "outputs": [
    {
     "data": {
      "text/html": [
       "<div>\n",
       "<style>\n",
       "    .dataframe thead tr:only-child th {\n",
       "        text-align: right;\n",
       "    }\n",
       "\n",
       "    .dataframe thead th {\n",
       "        text-align: left;\n",
       "    }\n",
       "\n",
       "    .dataframe tbody tr th {\n",
       "        vertical-align: top;\n",
       "    }\n",
       "</style>\n",
       "<table border=\"1\" class=\"dataframe\">\n",
       "  <thead>\n",
       "    <tr style=\"text-align: right;\">\n",
       "      <th></th>\n",
       "      <th>tpep_pickup_datetime</th>\n",
       "      <th>tpep_dropoff_datetime</th>\n",
       "      <th>passenger_count</th>\n",
       "      <th>trip_distance</th>\n",
       "      <th>PULocationID</th>\n",
       "      <th>DOLocationID</th>\n",
       "      <th>payment_type</th>\n",
       "      <th>fare_amount</th>\n",
       "      <th>Borough</th>\n",
       "      <th>Zone</th>\n",
       "      <th>service_zone</th>\n",
       "      <th>weekday</th>\n",
       "      <th>month</th>\n",
       "      <th>weekday_num</th>\n",
       "      <th>pickup_hour</th>\n",
       "      <th>day</th>\n",
       "      <th>trip_duration</th>\n",
       "    </tr>\n",
       "  </thead>\n",
       "  <tbody>\n",
       "    <tr>\n",
       "      <th>55887</th>\n",
       "      <td>2018-01-01 11:05:24</td>\n",
       "      <td>2018-01-01 11:27:08</td>\n",
       "      <td>1</td>\n",
       "      <td>10.15</td>\n",
       "      <td>61</td>\n",
       "      <td>132</td>\n",
       "      <td>2</td>\n",
       "      <td>29.50</td>\n",
       "      <td>Brooklyn</td>\n",
       "      <td>Crown Heights North</td>\n",
       "      <td>Boro Zone</td>\n",
       "      <td>Monday</td>\n",
       "      <td>1</td>\n",
       "      <td>0</td>\n",
       "      <td>11</td>\n",
       "      <td>2018-01-01</td>\n",
       "      <td>1304.0</td>\n",
       "    </tr>\n",
       "    <tr>\n",
       "      <th>55888</th>\n",
       "      <td>2018-01-01 11:58:58</td>\n",
       "      <td>2018-01-01 12:13:12</td>\n",
       "      <td>1</td>\n",
       "      <td>3.46</td>\n",
       "      <td>61</td>\n",
       "      <td>255</td>\n",
       "      <td>2</td>\n",
       "      <td>13.00</td>\n",
       "      <td>Brooklyn</td>\n",
       "      <td>Crown Heights North</td>\n",
       "      <td>Boro Zone</td>\n",
       "      <td>Monday</td>\n",
       "      <td>1</td>\n",
       "      <td>0</td>\n",
       "      <td>11</td>\n",
       "      <td>2018-01-01</td>\n",
       "      <td>854.0</td>\n",
       "    </tr>\n",
       "    <tr>\n",
       "      <th>55889</th>\n",
       "      <td>2018-01-01 11:22:31</td>\n",
       "      <td>2018-01-01 11:25:02</td>\n",
       "      <td>1</td>\n",
       "      <td>0.00</td>\n",
       "      <td>61</td>\n",
       "      <td>61</td>\n",
       "      <td>2</td>\n",
       "      <td>0.01</td>\n",
       "      <td>Brooklyn</td>\n",
       "      <td>Crown Heights North</td>\n",
       "      <td>Boro Zone</td>\n",
       "      <td>Monday</td>\n",
       "      <td>1</td>\n",
       "      <td>0</td>\n",
       "      <td>11</td>\n",
       "      <td>2018-01-01</td>\n",
       "      <td>151.0</td>\n",
       "    </tr>\n",
       "    <tr>\n",
       "      <th>55890</th>\n",
       "      <td>2018-01-01 11:27:55</td>\n",
       "      <td>2018-01-01 11:28:46</td>\n",
       "      <td>1</td>\n",
       "      <td>0.00</td>\n",
       "      <td>61</td>\n",
       "      <td>61</td>\n",
       "      <td>2</td>\n",
       "      <td>0.01</td>\n",
       "      <td>Brooklyn</td>\n",
       "      <td>Crown Heights North</td>\n",
       "      <td>Boro Zone</td>\n",
       "      <td>Monday</td>\n",
       "      <td>1</td>\n",
       "      <td>0</td>\n",
       "      <td>11</td>\n",
       "      <td>2018-01-01</td>\n",
       "      <td>51.0</td>\n",
       "    </tr>\n",
       "    <tr>\n",
       "      <th>55891</th>\n",
       "      <td>2018-01-01 11:36:47</td>\n",
       "      <td>2018-01-01 11:38:03</td>\n",
       "      <td>1</td>\n",
       "      <td>0.00</td>\n",
       "      <td>61</td>\n",
       "      <td>61</td>\n",
       "      <td>1</td>\n",
       "      <td>22.80</td>\n",
       "      <td>Brooklyn</td>\n",
       "      <td>Crown Heights North</td>\n",
       "      <td>Boro Zone</td>\n",
       "      <td>Monday</td>\n",
       "      <td>1</td>\n",
       "      <td>0</td>\n",
       "      <td>11</td>\n",
       "      <td>2018-01-01</td>\n",
       "      <td>76.0</td>\n",
       "    </tr>\n",
       "  </tbody>\n",
       "</table>\n",
       "</div>"
      ],
      "text/plain": [
       "      tpep_pickup_datetime tpep_dropoff_datetime  passenger_count  \\\n",
       "55887  2018-01-01 11:05:24   2018-01-01 11:27:08                1   \n",
       "55888  2018-01-01 11:58:58   2018-01-01 12:13:12                1   \n",
       "55889  2018-01-01 11:22:31   2018-01-01 11:25:02                1   \n",
       "55890  2018-01-01 11:27:55   2018-01-01 11:28:46                1   \n",
       "55891  2018-01-01 11:36:47   2018-01-01 11:38:03                1   \n",
       "\n",
       "       trip_distance  PULocationID  DOLocationID  payment_type  fare_amount  \\\n",
       "55887          10.15            61           132             2        29.50   \n",
       "55888           3.46            61           255             2        13.00   \n",
       "55889           0.00            61            61             2         0.01   \n",
       "55890           0.00            61            61             2         0.01   \n",
       "55891           0.00            61            61             1        22.80   \n",
       "\n",
       "        Borough                 Zone service_zone weekday  month  weekday_num  \\\n",
       "55887  Brooklyn  Crown Heights North    Boro Zone  Monday      1            0   \n",
       "55888  Brooklyn  Crown Heights North    Boro Zone  Monday      1            0   \n",
       "55889  Brooklyn  Crown Heights North    Boro Zone  Monday      1            0   \n",
       "55890  Brooklyn  Crown Heights North    Boro Zone  Monday      1            0   \n",
       "55891  Brooklyn  Crown Heights North    Boro Zone  Monday      1            0   \n",
       "\n",
       "       pickup_hour         day  trip_duration  \n",
       "55887           11  2018-01-01         1304.0  \n",
       "55888           11  2018-01-01          854.0  \n",
       "55889           11  2018-01-01          151.0  \n",
       "55890           11  2018-01-01           51.0  \n",
       "55891           11  2018-01-01           76.0  "
      ]
     },
     "execution_count": 124,
     "metadata": {},
     "output_type": "execute_result"
    }
   ],
   "source": [
    "#Trips that took more than 5000 Seconds Brooklyn\n",
    "BrooklynMD[BrooklynMD.trip_duration> 0].head()"
   ]
  },
  {
   "cell_type": "code",
   "execution_count": 125,
   "metadata": {},
   "outputs": [
    {
     "data": {
      "text/html": [
       "<div>\n",
       "<style>\n",
       "    .dataframe thead tr:only-child th {\n",
       "        text-align: right;\n",
       "    }\n",
       "\n",
       "    .dataframe thead th {\n",
       "        text-align: left;\n",
       "    }\n",
       "\n",
       "    .dataframe tbody tr th {\n",
       "        vertical-align: top;\n",
       "    }\n",
       "</style>\n",
       "<table border=\"1\" class=\"dataframe\">\n",
       "  <thead>\n",
       "    <tr style=\"text-align: right;\">\n",
       "      <th></th>\n",
       "      <th>tpep_pickup_datetime</th>\n",
       "      <th>tpep_dropoff_datetime</th>\n",
       "      <th>passenger_count</th>\n",
       "      <th>trip_distance</th>\n",
       "      <th>PULocationID</th>\n",
       "      <th>DOLocationID</th>\n",
       "      <th>payment_type</th>\n",
       "      <th>fare_amount</th>\n",
       "      <th>Borough</th>\n",
       "      <th>Zone</th>\n",
       "      <th>service_zone</th>\n",
       "      <th>weekday</th>\n",
       "      <th>month</th>\n",
       "      <th>weekday_num</th>\n",
       "      <th>pickup_hour</th>\n",
       "      <th>day</th>\n",
       "      <th>trip_duration</th>\n",
       "    </tr>\n",
       "  </thead>\n",
       "  <tbody>\n",
       "    <tr>\n",
       "      <th>38</th>\n",
       "      <td>2018-01-01 12:42:12</td>\n",
       "      <td>2018-01-02 00:00:00</td>\n",
       "      <td>1</td>\n",
       "      <td>4.43</td>\n",
       "      <td>7</td>\n",
       "      <td>170</td>\n",
       "      <td>1</td>\n",
       "      <td>16.0</td>\n",
       "      <td>Queens</td>\n",
       "      <td>Astoria</td>\n",
       "      <td>Boro Zone</td>\n",
       "      <td>Monday</td>\n",
       "      <td>1</td>\n",
       "      <td>0</td>\n",
       "      <td>12</td>\n",
       "      <td>2018-01-01</td>\n",
       "      <td>40668.0</td>\n",
       "    </tr>\n",
       "    <tr>\n",
       "      <th>70797</th>\n",
       "      <td>2018-01-01 11:20:27</td>\n",
       "      <td>2018-01-02 09:42:26</td>\n",
       "      <td>2</td>\n",
       "      <td>9.84</td>\n",
       "      <td>132</td>\n",
       "      <td>96</td>\n",
       "      <td>2</td>\n",
       "      <td>33.0</td>\n",
       "      <td>Queens</td>\n",
       "      <td>JFK Airport</td>\n",
       "      <td>Airports</td>\n",
       "      <td>Monday</td>\n",
       "      <td>1</td>\n",
       "      <td>0</td>\n",
       "      <td>11</td>\n",
       "      <td>2018-01-01</td>\n",
       "      <td>80519.0</td>\n",
       "    </tr>\n",
       "    <tr>\n",
       "      <th>70861</th>\n",
       "      <td>2018-01-01 11:34:40</td>\n",
       "      <td>2018-01-02 00:00:00</td>\n",
       "      <td>1</td>\n",
       "      <td>5.44</td>\n",
       "      <td>132</td>\n",
       "      <td>197</td>\n",
       "      <td>2</td>\n",
       "      <td>16.5</td>\n",
       "      <td>Queens</td>\n",
       "      <td>JFK Airport</td>\n",
       "      <td>Airports</td>\n",
       "      <td>Monday</td>\n",
       "      <td>1</td>\n",
       "      <td>0</td>\n",
       "      <td>11</td>\n",
       "      <td>2018-01-01</td>\n",
       "      <td>44720.0</td>\n",
       "    </tr>\n",
       "    <tr>\n",
       "      <th>70964</th>\n",
       "      <td>2018-01-01 03:24:27</td>\n",
       "      <td>2018-01-02 02:56:38</td>\n",
       "      <td>1</td>\n",
       "      <td>20.53</td>\n",
       "      <td>132</td>\n",
       "      <td>25</td>\n",
       "      <td>1</td>\n",
       "      <td>55.5</td>\n",
       "      <td>Queens</td>\n",
       "      <td>JFK Airport</td>\n",
       "      <td>Airports</td>\n",
       "      <td>Monday</td>\n",
       "      <td>1</td>\n",
       "      <td>0</td>\n",
       "      <td>3</td>\n",
       "      <td>2018-01-01</td>\n",
       "      <td>84731.0</td>\n",
       "    </tr>\n",
       "    <tr>\n",
       "      <th>71147</th>\n",
       "      <td>2018-01-01 12:12:56</td>\n",
       "      <td>2018-01-02 00:00:00</td>\n",
       "      <td>1</td>\n",
       "      <td>14.86</td>\n",
       "      <td>132</td>\n",
       "      <td>7</td>\n",
       "      <td>2</td>\n",
       "      <td>41.0</td>\n",
       "      <td>Queens</td>\n",
       "      <td>JFK Airport</td>\n",
       "      <td>Airports</td>\n",
       "      <td>Monday</td>\n",
       "      <td>1</td>\n",
       "      <td>0</td>\n",
       "      <td>12</td>\n",
       "      <td>2018-01-01</td>\n",
       "      <td>42424.0</td>\n",
       "    </tr>\n",
       "  </tbody>\n",
       "</table>\n",
       "</div>"
      ],
      "text/plain": [
       "      tpep_pickup_datetime tpep_dropoff_datetime  passenger_count  \\\n",
       "38     2018-01-01 12:42:12   2018-01-02 00:00:00                1   \n",
       "70797  2018-01-01 11:20:27   2018-01-02 09:42:26                2   \n",
       "70861  2018-01-01 11:34:40   2018-01-02 00:00:00                1   \n",
       "70964  2018-01-01 03:24:27   2018-01-02 02:56:38                1   \n",
       "71147  2018-01-01 12:12:56   2018-01-02 00:00:00                1   \n",
       "\n",
       "       trip_distance  PULocationID  DOLocationID  payment_type  fare_amount  \\\n",
       "38              4.43             7           170             1         16.0   \n",
       "70797           9.84           132            96             2         33.0   \n",
       "70861           5.44           132           197             2         16.5   \n",
       "70964          20.53           132            25             1         55.5   \n",
       "71147          14.86           132             7             2         41.0   \n",
       "\n",
       "      Borough         Zone service_zone weekday  month  weekday_num  \\\n",
       "38     Queens      Astoria    Boro Zone  Monday      1            0   \n",
       "70797  Queens  JFK Airport     Airports  Monday      1            0   \n",
       "70861  Queens  JFK Airport     Airports  Monday      1            0   \n",
       "70964  Queens  JFK Airport     Airports  Monday      1            0   \n",
       "71147  Queens  JFK Airport     Airports  Monday      1            0   \n",
       "\n",
       "       pickup_hour         day  trip_duration  \n",
       "38              12  2018-01-01        40668.0  \n",
       "70797           11  2018-01-01        80519.0  \n",
       "70861           11  2018-01-01        44720.0  \n",
       "70964            3  2018-01-01        84731.0  \n",
       "71147           12  2018-01-01        42424.0  "
      ]
     },
     "execution_count": 125,
     "metadata": {},
     "output_type": "execute_result"
    }
   ],
   "source": [
    "#Trips that took more than 5000 Seconds Queens\n",
    "QueensMD[QueensMD.trip_duration> 5000].head()"
   ]
  },
  {
   "cell_type": "code",
   "execution_count": 126,
   "metadata": {},
   "outputs": [
    {
     "data": {
      "text/html": [
       "<div>\n",
       "<style>\n",
       "    .dataframe thead tr:only-child th {\n",
       "        text-align: right;\n",
       "    }\n",
       "\n",
       "    .dataframe thead th {\n",
       "        text-align: left;\n",
       "    }\n",
       "\n",
       "    .dataframe tbody tr th {\n",
       "        vertical-align: top;\n",
       "    }\n",
       "</style>\n",
       "<table border=\"1\" class=\"dataframe\">\n",
       "  <thead>\n",
       "    <tr style=\"text-align: right;\">\n",
       "      <th></th>\n",
       "      <th>tpep_pickup_datetime</th>\n",
       "      <th>tpep_dropoff_datetime</th>\n",
       "      <th>passenger_count</th>\n",
       "      <th>trip_distance</th>\n",
       "      <th>PULocationID</th>\n",
       "      <th>DOLocationID</th>\n",
       "      <th>payment_type</th>\n",
       "      <th>fare_amount</th>\n",
       "      <th>Borough</th>\n",
       "      <th>Zone</th>\n",
       "      <th>service_zone</th>\n",
       "      <th>weekday</th>\n",
       "      <th>month</th>\n",
       "      <th>weekday_num</th>\n",
       "      <th>pickup_hour</th>\n",
       "      <th>day</th>\n",
       "      <th>trip_duration</th>\n",
       "    </tr>\n",
       "  </thead>\n",
       "  <tbody>\n",
       "    <tr>\n",
       "      <th>99642</th>\n",
       "      <td>2018-01-01 11:35:24</td>\n",
       "      <td>2018-01-01 12:54:50</td>\n",
       "      <td>1</td>\n",
       "      <td>39.2</td>\n",
       "      <td>1</td>\n",
       "      <td>132</td>\n",
       "      <td>1</td>\n",
       "      <td>128.0</td>\n",
       "      <td>EWR</td>\n",
       "      <td>Newark Airport</td>\n",
       "      <td>EWR</td>\n",
       "      <td>Monday</td>\n",
       "      <td>1</td>\n",
       "      <td>0</td>\n",
       "      <td>11</td>\n",
       "      <td>2018-01-01</td>\n",
       "      <td>4766.0</td>\n",
       "    </tr>\n",
       "    <tr>\n",
       "      <th>99643</th>\n",
       "      <td>2018-01-01 11:07:10</td>\n",
       "      <td>2018-01-01 11:07:17</td>\n",
       "      <td>5</td>\n",
       "      <td>0.0</td>\n",
       "      <td>1</td>\n",
       "      <td>1</td>\n",
       "      <td>1</td>\n",
       "      <td>95.0</td>\n",
       "      <td>EWR</td>\n",
       "      <td>Newark Airport</td>\n",
       "      <td>EWR</td>\n",
       "      <td>Monday</td>\n",
       "      <td>1</td>\n",
       "      <td>0</td>\n",
       "      <td>11</td>\n",
       "      <td>2018-01-01</td>\n",
       "      <td>7.0</td>\n",
       "    </tr>\n",
       "    <tr>\n",
       "      <th>99644</th>\n",
       "      <td>2018-01-01 12:26:03</td>\n",
       "      <td>2018-01-01 12:26:39</td>\n",
       "      <td>3</td>\n",
       "      <td>8.1</td>\n",
       "      <td>1</td>\n",
       "      <td>1</td>\n",
       "      <td>1</td>\n",
       "      <td>96.0</td>\n",
       "      <td>EWR</td>\n",
       "      <td>Newark Airport</td>\n",
       "      <td>EWR</td>\n",
       "      <td>Monday</td>\n",
       "      <td>1</td>\n",
       "      <td>0</td>\n",
       "      <td>12</td>\n",
       "      <td>2018-01-01</td>\n",
       "      <td>36.0</td>\n",
       "    </tr>\n",
       "    <tr>\n",
       "      <th>99645</th>\n",
       "      <td>2018-01-01 12:56:21</td>\n",
       "      <td>2018-01-01 12:56:43</td>\n",
       "      <td>3</td>\n",
       "      <td>0.0</td>\n",
       "      <td>1</td>\n",
       "      <td>1</td>\n",
       "      <td>1</td>\n",
       "      <td>95.0</td>\n",
       "      <td>EWR</td>\n",
       "      <td>Newark Airport</td>\n",
       "      <td>EWR</td>\n",
       "      <td>Monday</td>\n",
       "      <td>1</td>\n",
       "      <td>0</td>\n",
       "      <td>12</td>\n",
       "      <td>2018-01-01</td>\n",
       "      <td>22.0</td>\n",
       "    </tr>\n",
       "    <tr>\n",
       "      <th>99646</th>\n",
       "      <td>2018-01-01 12:33:06</td>\n",
       "      <td>2018-01-01 12:33:26</td>\n",
       "      <td>2</td>\n",
       "      <td>0.0</td>\n",
       "      <td>1</td>\n",
       "      <td>1</td>\n",
       "      <td>3</td>\n",
       "      <td>20.0</td>\n",
       "      <td>EWR</td>\n",
       "      <td>Newark Airport</td>\n",
       "      <td>EWR</td>\n",
       "      <td>Monday</td>\n",
       "      <td>1</td>\n",
       "      <td>0</td>\n",
       "      <td>12</td>\n",
       "      <td>2018-01-01</td>\n",
       "      <td>20.0</td>\n",
       "    </tr>\n",
       "  </tbody>\n",
       "</table>\n",
       "</div>"
      ],
      "text/plain": [
       "      tpep_pickup_datetime tpep_dropoff_datetime  passenger_count  \\\n",
       "99642  2018-01-01 11:35:24   2018-01-01 12:54:50                1   \n",
       "99643  2018-01-01 11:07:10   2018-01-01 11:07:17                5   \n",
       "99644  2018-01-01 12:26:03   2018-01-01 12:26:39                3   \n",
       "99645  2018-01-01 12:56:21   2018-01-01 12:56:43                3   \n",
       "99646  2018-01-01 12:33:06   2018-01-01 12:33:26                2   \n",
       "\n",
       "       trip_distance  PULocationID  DOLocationID  payment_type  fare_amount  \\\n",
       "99642           39.2             1           132             1        128.0   \n",
       "99643            0.0             1             1             1         95.0   \n",
       "99644            8.1             1             1             1         96.0   \n",
       "99645            0.0             1             1             1         95.0   \n",
       "99646            0.0             1             1             3         20.0   \n",
       "\n",
       "      Borough            Zone service_zone weekday  month  weekday_num  \\\n",
       "99642     EWR  Newark Airport          EWR  Monday      1            0   \n",
       "99643     EWR  Newark Airport          EWR  Monday      1            0   \n",
       "99644     EWR  Newark Airport          EWR  Monday      1            0   \n",
       "99645     EWR  Newark Airport          EWR  Monday      1            0   \n",
       "99646     EWR  Newark Airport          EWR  Monday      1            0   \n",
       "\n",
       "       pickup_hour         day  trip_duration  \n",
       "99642           11  2018-01-01         4766.0  \n",
       "99643           11  2018-01-01            7.0  \n",
       "99644           12  2018-01-01           36.0  \n",
       "99645           12  2018-01-01           22.0  \n",
       "99646           12  2018-01-01           20.0  "
      ]
     },
     "execution_count": 126,
     "metadata": {},
     "output_type": "execute_result"
    }
   ],
   "source": [
    "#Trips that took more than 5000 Seconds EWR\n",
    "EWRMD[EWRMD.trip_duration> 0].head()"
   ]
  },
  {
   "cell_type": "code",
   "execution_count": null,
   "metadata": {
    "collapsed": true
   },
   "outputs": [],
   "source": []
  },
  {
   "cell_type": "code",
   "execution_count": 127,
   "metadata": {},
   "outputs": [
    {
     "data": {
      "text/html": [
       "<div>\n",
       "<style>\n",
       "    .dataframe thead tr:only-child th {\n",
       "        text-align: right;\n",
       "    }\n",
       "\n",
       "    .dataframe thead th {\n",
       "        text-align: left;\n",
       "    }\n",
       "\n",
       "    .dataframe tbody tr th {\n",
       "        vertical-align: top;\n",
       "    }\n",
       "</style>\n",
       "<table border=\"1\" class=\"dataframe\">\n",
       "  <thead>\n",
       "    <tr style=\"text-align: right;\">\n",
       "      <th></th>\n",
       "      <th>tpep_pickup_datetime</th>\n",
       "      <th>tpep_dropoff_datetime</th>\n",
       "      <th>passenger_count</th>\n",
       "      <th>trip_distance</th>\n",
       "      <th>PULocationID</th>\n",
       "      <th>DOLocationID</th>\n",
       "      <th>payment_type</th>\n",
       "      <th>fare_amount</th>\n",
       "      <th>Borough</th>\n",
       "      <th>Zone</th>\n",
       "      <th>service_zone</th>\n",
       "      <th>weekday</th>\n",
       "      <th>month</th>\n",
       "      <th>weekday_num</th>\n",
       "      <th>pickup_hour</th>\n",
       "      <th>day</th>\n",
       "      <th>trip_duration</th>\n",
       "    </tr>\n",
       "  </thead>\n",
       "  <tbody>\n",
       "    <tr>\n",
       "      <th>98160</th>\n",
       "      <td>2018-01-01 11:23:15</td>\n",
       "      <td>2018-01-01 12:29:17</td>\n",
       "      <td>2</td>\n",
       "      <td>15.28</td>\n",
       "      <td>168</td>\n",
       "      <td>75</td>\n",
       "      <td>2</td>\n",
       "      <td>42.0</td>\n",
       "      <td>Bronx</td>\n",
       "      <td>Mott Haven/Port Morris</td>\n",
       "      <td>Boro Zone</td>\n",
       "      <td>Monday</td>\n",
       "      <td>1</td>\n",
       "      <td>0</td>\n",
       "      <td>11</td>\n",
       "      <td>2018-01-01</td>\n",
       "      <td>3962.0</td>\n",
       "    </tr>\n",
       "    <tr>\n",
       "      <th>98161</th>\n",
       "      <td>2018-01-01 11:17:53</td>\n",
       "      <td>2018-01-01 11:25:31</td>\n",
       "      <td>1</td>\n",
       "      <td>2.50</td>\n",
       "      <td>168</td>\n",
       "      <td>75</td>\n",
       "      <td>2</td>\n",
       "      <td>10.0</td>\n",
       "      <td>Bronx</td>\n",
       "      <td>Mott Haven/Port Morris</td>\n",
       "      <td>Boro Zone</td>\n",
       "      <td>Monday</td>\n",
       "      <td>1</td>\n",
       "      <td>0</td>\n",
       "      <td>11</td>\n",
       "      <td>2018-01-01</td>\n",
       "      <td>458.0</td>\n",
       "    </tr>\n",
       "    <tr>\n",
       "      <th>98162</th>\n",
       "      <td>2018-01-01 12:39:03</td>\n",
       "      <td>2018-01-01 12:50:31</td>\n",
       "      <td>3</td>\n",
       "      <td>6.29</td>\n",
       "      <td>168</td>\n",
       "      <td>138</td>\n",
       "      <td>1</td>\n",
       "      <td>19.0</td>\n",
       "      <td>Bronx</td>\n",
       "      <td>Mott Haven/Port Morris</td>\n",
       "      <td>Boro Zone</td>\n",
       "      <td>Monday</td>\n",
       "      <td>1</td>\n",
       "      <td>0</td>\n",
       "      <td>12</td>\n",
       "      <td>2018-01-01</td>\n",
       "      <td>688.0</td>\n",
       "    </tr>\n",
       "    <tr>\n",
       "      <th>98163</th>\n",
       "      <td>2018-01-01 13:56:19</td>\n",
       "      <td>2018-01-01 13:59:31</td>\n",
       "      <td>1</td>\n",
       "      <td>0.70</td>\n",
       "      <td>168</td>\n",
       "      <td>168</td>\n",
       "      <td>4</td>\n",
       "      <td>4.5</td>\n",
       "      <td>Bronx</td>\n",
       "      <td>Mott Haven/Port Morris</td>\n",
       "      <td>Boro Zone</td>\n",
       "      <td>Monday</td>\n",
       "      <td>1</td>\n",
       "      <td>0</td>\n",
       "      <td>13</td>\n",
       "      <td>2018-01-01</td>\n",
       "      <td>192.0</td>\n",
       "    </tr>\n",
       "    <tr>\n",
       "      <th>98164</th>\n",
       "      <td>2018-01-01 14:54:24</td>\n",
       "      <td>2018-01-01 14:59:11</td>\n",
       "      <td>1</td>\n",
       "      <td>0.78</td>\n",
       "      <td>168</td>\n",
       "      <td>147</td>\n",
       "      <td>2</td>\n",
       "      <td>5.5</td>\n",
       "      <td>Bronx</td>\n",
       "      <td>Mott Haven/Port Morris</td>\n",
       "      <td>Boro Zone</td>\n",
       "      <td>Monday</td>\n",
       "      <td>1</td>\n",
       "      <td>0</td>\n",
       "      <td>14</td>\n",
       "      <td>2018-01-01</td>\n",
       "      <td>287.0</td>\n",
       "    </tr>\n",
       "  </tbody>\n",
       "</table>\n",
       "</div>"
      ],
      "text/plain": [
       "      tpep_pickup_datetime tpep_dropoff_datetime  passenger_count  \\\n",
       "98160  2018-01-01 11:23:15   2018-01-01 12:29:17                2   \n",
       "98161  2018-01-01 11:17:53   2018-01-01 11:25:31                1   \n",
       "98162  2018-01-01 12:39:03   2018-01-01 12:50:31                3   \n",
       "98163  2018-01-01 13:56:19   2018-01-01 13:59:31                1   \n",
       "98164  2018-01-01 14:54:24   2018-01-01 14:59:11                1   \n",
       "\n",
       "       trip_distance  PULocationID  DOLocationID  payment_type  fare_amount  \\\n",
       "98160          15.28           168            75             2         42.0   \n",
       "98161           2.50           168            75             2         10.0   \n",
       "98162           6.29           168           138             1         19.0   \n",
       "98163           0.70           168           168             4          4.5   \n",
       "98164           0.78           168           147             2          5.5   \n",
       "\n",
       "      Borough                    Zone service_zone weekday  month  \\\n",
       "98160   Bronx  Mott Haven/Port Morris    Boro Zone  Monday      1   \n",
       "98161   Bronx  Mott Haven/Port Morris    Boro Zone  Monday      1   \n",
       "98162   Bronx  Mott Haven/Port Morris    Boro Zone  Monday      1   \n",
       "98163   Bronx  Mott Haven/Port Morris    Boro Zone  Monday      1   \n",
       "98164   Bronx  Mott Haven/Port Morris    Boro Zone  Monday      1   \n",
       "\n",
       "       weekday_num  pickup_hour         day  trip_duration  \n",
       "98160            0           11  2018-01-01         3962.0  \n",
       "98161            0           11  2018-01-01          458.0  \n",
       "98162            0           12  2018-01-01          688.0  \n",
       "98163            0           13  2018-01-01          192.0  \n",
       "98164            0           14  2018-01-01          287.0  "
      ]
     },
     "execution_count": 127,
     "metadata": {},
     "output_type": "execute_result"
    }
   ],
   "source": [
    "#Trips that took more than 5000 Seconds Bronx\n",
    "BronxMD[BronxMD.trip_duration> 0].head()"
   ]
  },
  {
   "cell_type": "code",
   "execution_count": 128,
   "metadata": {},
   "outputs": [
    {
     "data": {
      "text/html": [
       "<div>\n",
       "<style>\n",
       "    .dataframe thead tr:only-child th {\n",
       "        text-align: right;\n",
       "    }\n",
       "\n",
       "    .dataframe thead th {\n",
       "        text-align: left;\n",
       "    }\n",
       "\n",
       "    .dataframe tbody tr th {\n",
       "        vertical-align: top;\n",
       "    }\n",
       "</style>\n",
       "<table border=\"1\" class=\"dataframe\">\n",
       "  <thead>\n",
       "    <tr style=\"text-align: right;\">\n",
       "      <th></th>\n",
       "      <th>tpep_pickup_datetime</th>\n",
       "      <th>tpep_dropoff_datetime</th>\n",
       "      <th>passenger_count</th>\n",
       "      <th>trip_distance</th>\n",
       "      <th>PULocationID</th>\n",
       "      <th>DOLocationID</th>\n",
       "      <th>payment_type</th>\n",
       "      <th>fare_amount</th>\n",
       "      <th>Borough</th>\n",
       "      <th>Zone</th>\n",
       "      <th>service_zone</th>\n",
       "      <th>weekday</th>\n",
       "      <th>month</th>\n",
       "      <th>weekday_num</th>\n",
       "      <th>pickup_hour</th>\n",
       "      <th>day</th>\n",
       "      <th>trip_duration</th>\n",
       "    </tr>\n",
       "  </thead>\n",
       "  <tbody>\n",
       "    <tr>\n",
       "      <th>99988</th>\n",
       "      <td>2018-01-01 17:18:24</td>\n",
       "      <td>2018-01-01 17:18:34</td>\n",
       "      <td>1</td>\n",
       "      <td>0.0</td>\n",
       "      <td>156</td>\n",
       "      <td>156</td>\n",
       "      <td>2</td>\n",
       "      <td>2.5</td>\n",
       "      <td>Staten Island</td>\n",
       "      <td>Mariners Harbor</td>\n",
       "      <td>Boro Zone</td>\n",
       "      <td>Monday</td>\n",
       "      <td>1</td>\n",
       "      <td>0</td>\n",
       "      <td>17</td>\n",
       "      <td>2018-01-01</td>\n",
       "      <td>10.0</td>\n",
       "    </tr>\n",
       "  </tbody>\n",
       "</table>\n",
       "</div>"
      ],
      "text/plain": [
       "      tpep_pickup_datetime tpep_dropoff_datetime  passenger_count  \\\n",
       "99988  2018-01-01 17:18:24   2018-01-01 17:18:34                1   \n",
       "\n",
       "       trip_distance  PULocationID  DOLocationID  payment_type  fare_amount  \\\n",
       "99988            0.0           156           156             2          2.5   \n",
       "\n",
       "             Borough             Zone service_zone weekday  month  \\\n",
       "99988  Staten Island  Mariners Harbor    Boro Zone  Monday      1   \n",
       "\n",
       "       weekday_num  pickup_hour         day  trip_duration  \n",
       "99988            0           17  2018-01-01           10.0  "
      ]
     },
     "execution_count": 128,
     "metadata": {},
     "output_type": "execute_result"
    }
   ],
   "source": [
    "#Trips that took more than 5000 Seconds Staten Island \n",
    "StatenIslandMD[StatenIslandMD.trip_duration> 0].head()"
   ]
  },
  {
   "cell_type": "code",
   "execution_count": 129,
   "metadata": {},
   "outputs": [
    {
     "data": {
      "text/html": [
       "<div>\n",
       "<style>\n",
       "    .dataframe thead tr:only-child th {\n",
       "        text-align: right;\n",
       "    }\n",
       "\n",
       "    .dataframe thead th {\n",
       "        text-align: left;\n",
       "    }\n",
       "\n",
       "    .dataframe tbody tr th {\n",
       "        vertical-align: top;\n",
       "    }\n",
       "</style>\n",
       "<table border=\"1\" class=\"dataframe\">\n",
       "  <thead>\n",
       "    <tr style=\"text-align: right;\">\n",
       "      <th></th>\n",
       "      <th>tpep_pickup_datetime</th>\n",
       "      <th>tpep_dropoff_datetime</th>\n",
       "      <th>passenger_count</th>\n",
       "      <th>trip_distance</th>\n",
       "      <th>PULocationID</th>\n",
       "      <th>DOLocationID</th>\n",
       "      <th>payment_type</th>\n",
       "      <th>fare_amount</th>\n",
       "      <th>Borough</th>\n",
       "      <th>Zone</th>\n",
       "      <th>service_zone</th>\n",
       "      <th>weekday</th>\n",
       "      <th>month</th>\n",
       "      <th>weekday_num</th>\n",
       "      <th>pickup_hour</th>\n",
       "      <th>day</th>\n",
       "      <th>trip_duration</th>\n",
       "    </tr>\n",
       "  </thead>\n",
       "  <tbody>\n",
       "    <tr>\n",
       "      <th>344</th>\n",
       "      <td>2018-01-01 12:07:03</td>\n",
       "      <td>2018-01-02 11:26:04</td>\n",
       "      <td>1</td>\n",
       "      <td>2.59</td>\n",
       "      <td>261</td>\n",
       "      <td>45</td>\n",
       "      <td>1</td>\n",
       "      <td>14.0</td>\n",
       "      <td>Manhattan</td>\n",
       "      <td>World Trade Center</td>\n",
       "      <td>Yellow Zone</td>\n",
       "      <td>Monday</td>\n",
       "      <td>1</td>\n",
       "      <td>0</td>\n",
       "      <td>12</td>\n",
       "      <td>2018-01-01</td>\n",
       "      <td>83941.0</td>\n",
       "    </tr>\n",
       "    <tr>\n",
       "      <th>621</th>\n",
       "      <td>2018-01-01 14:58:33</td>\n",
       "      <td>2018-01-02 14:56:21</td>\n",
       "      <td>5</td>\n",
       "      <td>1.28</td>\n",
       "      <td>261</td>\n",
       "      <td>88</td>\n",
       "      <td>2</td>\n",
       "      <td>6.5</td>\n",
       "      <td>Manhattan</td>\n",
       "      <td>World Trade Center</td>\n",
       "      <td>Yellow Zone</td>\n",
       "      <td>Monday</td>\n",
       "      <td>1</td>\n",
       "      <td>0</td>\n",
       "      <td>14</td>\n",
       "      <td>2018-01-01</td>\n",
       "      <td>86268.0</td>\n",
       "    </tr>\n",
       "    <tr>\n",
       "      <th>723</th>\n",
       "      <td>2018-01-01 15:07:32</td>\n",
       "      <td>2018-01-02 00:00:00</td>\n",
       "      <td>2</td>\n",
       "      <td>0.99</td>\n",
       "      <td>261</td>\n",
       "      <td>13</td>\n",
       "      <td>2</td>\n",
       "      <td>5.5</td>\n",
       "      <td>Manhattan</td>\n",
       "      <td>World Trade Center</td>\n",
       "      <td>Yellow Zone</td>\n",
       "      <td>Monday</td>\n",
       "      <td>1</td>\n",
       "      <td>0</td>\n",
       "      <td>15</td>\n",
       "      <td>2018-01-01</td>\n",
       "      <td>31948.0</td>\n",
       "    </tr>\n",
       "    <tr>\n",
       "      <th>728</th>\n",
       "      <td>2018-01-01 15:24:18</td>\n",
       "      <td>2018-01-02 15:22:32</td>\n",
       "      <td>1</td>\n",
       "      <td>6.74</td>\n",
       "      <td>261</td>\n",
       "      <td>233</td>\n",
       "      <td>2</td>\n",
       "      <td>21.0</td>\n",
       "      <td>Manhattan</td>\n",
       "      <td>World Trade Center</td>\n",
       "      <td>Yellow Zone</td>\n",
       "      <td>Monday</td>\n",
       "      <td>1</td>\n",
       "      <td>0</td>\n",
       "      <td>15</td>\n",
       "      <td>2018-01-01</td>\n",
       "      <td>86294.0</td>\n",
       "    </tr>\n",
       "    <tr>\n",
       "      <th>792</th>\n",
       "      <td>2018-01-01 15:05:09</td>\n",
       "      <td>2018-01-02 15:01:55</td>\n",
       "      <td>1</td>\n",
       "      <td>8.50</td>\n",
       "      <td>261</td>\n",
       "      <td>163</td>\n",
       "      <td>2</td>\n",
       "      <td>28.0</td>\n",
       "      <td>Manhattan</td>\n",
       "      <td>World Trade Center</td>\n",
       "      <td>Yellow Zone</td>\n",
       "      <td>Monday</td>\n",
       "      <td>1</td>\n",
       "      <td>0</td>\n",
       "      <td>15</td>\n",
       "      <td>2018-01-01</td>\n",
       "      <td>86206.0</td>\n",
       "    </tr>\n",
       "  </tbody>\n",
       "</table>\n",
       "</div>"
      ],
      "text/plain": [
       "    tpep_pickup_datetime tpep_dropoff_datetime  passenger_count  \\\n",
       "344  2018-01-01 12:07:03   2018-01-02 11:26:04                1   \n",
       "621  2018-01-01 14:58:33   2018-01-02 14:56:21                5   \n",
       "723  2018-01-01 15:07:32   2018-01-02 00:00:00                2   \n",
       "728  2018-01-01 15:24:18   2018-01-02 15:22:32                1   \n",
       "792  2018-01-01 15:05:09   2018-01-02 15:01:55                1   \n",
       "\n",
       "     trip_distance  PULocationID  DOLocationID  payment_type  fare_amount  \\\n",
       "344           2.59           261            45             1         14.0   \n",
       "621           1.28           261            88             2          6.5   \n",
       "723           0.99           261            13             2          5.5   \n",
       "728           6.74           261           233             2         21.0   \n",
       "792           8.50           261           163             2         28.0   \n",
       "\n",
       "       Borough                Zone service_zone weekday  month  weekday_num  \\\n",
       "344  Manhattan  World Trade Center  Yellow Zone  Monday      1            0   \n",
       "621  Manhattan  World Trade Center  Yellow Zone  Monday      1            0   \n",
       "723  Manhattan  World Trade Center  Yellow Zone  Monday      1            0   \n",
       "728  Manhattan  World Trade Center  Yellow Zone  Monday      1            0   \n",
       "792  Manhattan  World Trade Center  Yellow Zone  Monday      1            0   \n",
       "\n",
       "     pickup_hour         day  trip_duration  \n",
       "344           12  2018-01-01        83941.0  \n",
       "621           14  2018-01-01        86268.0  \n",
       "723           15  2018-01-01        31948.0  \n",
       "728           15  2018-01-01        86294.0  \n",
       "792           15  2018-01-01        86206.0  "
      ]
     },
     "execution_count": 129,
     "metadata": {},
     "output_type": "execute_result"
    }
   ],
   "source": [
    "#Trips that took more than 5000 Seconds Manhatten\n",
    "ManhattanMD[ManhattanMD.trip_duration> 5000].head()"
   ]
  },
  {
   "cell_type": "code",
   "execution_count": 130,
   "metadata": {},
   "outputs": [
    {
     "data": {
      "image/png": "[encoded data removed]",
      "text/plain": [
       "<matplotlib.figure.Figure at 0x2a96e8446d8>"
      ]
     },
     "metadata": {},
     "output_type": "display_data"
    }
   ],
   "source": [
    "plt.figure(figsize = (6,4))\n",
    "plt.title(\"Trip duration Every 10 Minutes\")\n",
    "mergedata.trip_duration.plot.hist(bins=80)\n",
    "plt.show()"
   ]
  },
  {
   "cell_type": "code",
   "execution_count": 131,
   "metadata": {},
   "outputs": [
    {
     "data": {
      "image/png": "[encoded data removed]",
      "text/plain": [
       "<matplotlib.figure.Figure at 0x2a96e7e35c0>"
      ]
     },
     "metadata": {},
     "output_type": "display_data"
    }
   ],
   "source": [
    "plt.figure(figsize = (6,4))\n",
    "plt.title(\" EWR Trip duration Every 10 Minutes\")\n",
    "\n",
    "EWRMD.trip_duration.plot.hist(bins=80)\n",
    "plt.show()"
   ]
  },
  {
   "cell_type": "code",
   "execution_count": 132,
   "metadata": {},
   "outputs": [
    {
     "data": {
      "image/png": "[encoded data removed]",
      "text/plain": [
       "<matplotlib.figure.Figure at 0x2a96cc841d0>"
      ]
     },
     "metadata": {},
     "output_type": "display_data"
    }
   ],
   "source": [
    "plt.figure(figsize = (6,4))\n",
    "plt.title(\" Bronx Trip duration Every 10 Minutes\")\n",
    "\n",
    "BronxMD.trip_duration.plot.hist(bins=80)\n",
    "plt.show()"
   ]
  },
  {
   "cell_type": "code",
   "execution_count": 133,
   "metadata": {},
   "outputs": [
    {
     "data": {
      "image/png": "[encoded data removed]",
      "text/plain": [
       "<matplotlib.figure.Figure at 0x2a96e950048>"
      ]
     },
     "metadata": {},
     "output_type": "display_data"
    }
   ],
   "source": [
    "plt.figure(figsize = (6,4))\n",
    "plt.title(\" Staten Island Trip duration Every 10 Minutes\")\n",
    "\n",
    "StatenIslandMD.trip_duration.plot.hist(bins=80)\n",
    "plt.show()"
   ]
  },
  {
   "cell_type": "code",
   "execution_count": 134,
   "metadata": {},
   "outputs": [
    {
     "data": {
      "image/png": "[encoded data removed]",
      "text/plain": [
       "<matplotlib.figure.Figure at 0x2a96db7cc88>"
      ]
     },
     "metadata": {},
     "output_type": "display_data"
    }
   ],
   "source": [
    "plt.figure(figsize = (6,4))\n",
    "plt.title(\" Manhattan Trip duration Every 10 Minutes\")\n",
    "\n",
    "ManhattanMD.trip_duration.plot.hist(bins=80)\n",
    "plt.show()"
   ]
  },
  {
   "cell_type": "code",
   "execution_count": 135,
   "metadata": {},
   "outputs": [
    {
     "data": {
      "image/png": "[encoded data removed]",
      "text/plain": [
       "<matplotlib.figure.Figure at 0x2a96dd536d8>"
      ]
     },
     "metadata": {},
     "output_type": "display_data"
    }
   ],
   "source": [
    "plt.figure(figsize = (6,4))\n",
    "plt.title(\" Brooklyn Trip duration Every 10 Minutes\")\n",
    "BrooklynMD.trip_duration.plot.hist(bins=80)\n",
    "plt.show()"
   ]
  },
  {
   "cell_type": "code",
   "execution_count": 136,
   "metadata": {},
   "outputs": [
    {
     "data": {
      "image/png": "[encoded data removed]",
      "text/plain": [
       "<matplotlib.figure.Figure at 0x2a96d5e78d0>"
      ]
     },
     "metadata": {},
     "output_type": "display_data"
    }
   ],
   "source": [
    "plt.figure(figsize = (6,4))\n",
    "plt.title(\" Queens Trip duration Every 10 Minutes\")\n",
    "\n",
    "QueensMD.trip_duration.plot.hist(bins=80)\n",
    "plt.show()"
   ]
  },
  {
   "cell_type": "code",
   "execution_count": null,
   "metadata": {
    "collapsed": true
   },
   "outputs": [],
   "source": []
  },
  {
   "cell_type": "markdown",
   "metadata": {},
   "source": [
    "<h1>RQ4</h1>"
   ]
  },
  {
   "cell_type": "code",
   "execution_count": 137,
   "metadata": {
    "collapsed": true
   },
   "outputs": [],
   "source": [
    "import scipy.stats as stats"
   ]
  },
  {
   "cell_type": "code",
   "execution_count": 138,
   "metadata": {
    "collapsed": true
   },
   "outputs": [],
   "source": [
    "from pandas import DataFrame, read_csv"
   ]
  },
  {
   "cell_type": "code",
   "execution_count": 139,
   "metadata": {
    "collapsed": true
   },
   "outputs": [],
   "source": [
    "nytaxi =pd.read_csv(Location, usecols=[7,9])"
   ]
  },
  {
   "cell_type": "code",
   "execution_count": 140,
   "metadata": {},
   "outputs": [
    {
     "data": {
      "text/html": [
       "<div>\n",
       "<style>\n",
       "    .dataframe thead tr:only-child th {\n",
       "        text-align: right;\n",
       "    }\n",
       "\n",
       "    .dataframe thead th {\n",
       "        text-align: left;\n",
       "    }\n",
       "\n",
       "    .dataframe tbody tr th {\n",
       "        vertical-align: top;\n",
       "    }\n",
       "</style>\n",
       "<table border=\"1\" class=\"dataframe\">\n",
       "  <thead>\n",
       "    <tr style=\"text-align: right;\">\n",
       "      <th></th>\n",
       "      <th>PULocationID</th>\n",
       "      <th>payment_type</th>\n",
       "    </tr>\n",
       "  </thead>\n",
       "  <tbody>\n",
       "    <tr>\n",
       "      <th>0</th>\n",
       "      <td>7</td>\n",
       "      <td>2</td>\n",
       "    </tr>\n",
       "    <tr>\n",
       "      <th>1</th>\n",
       "      <td>261</td>\n",
       "      <td>2</td>\n",
       "    </tr>\n",
       "    <tr>\n",
       "      <th>2</th>\n",
       "      <td>237</td>\n",
       "      <td>1</td>\n",
       "    </tr>\n",
       "  </tbody>\n",
       "</table>\n",
       "</div>"
      ],
      "text/plain": [
       "   PULocationID  payment_type\n",
       "0             7             2\n",
       "1           261             2\n",
       "2           237             1"
      ]
     },
     "execution_count": 140,
     "metadata": {},
     "output_type": "execute_result"
    }
   ],
   "source": [
    "nytaxi[:3] "
   ]
  },
  {
   "cell_type": "code",
   "execution_count": 141,
   "metadata": {
    "collapsed": true
   },
   "outputs": [],
   "source": [
    "nyBorough =pd.read_csv(Location_taxi_zone, usecols=[0,1]) "
   ]
  },
  {
   "cell_type": "code",
   "execution_count": 142,
   "metadata": {},
   "outputs": [
    {
     "data": {
      "text/html": [
       "<div>\n",
       "<style>\n",
       "    .dataframe thead tr:only-child th {\n",
       "        text-align: right;\n",
       "    }\n",
       "\n",
       "    .dataframe thead th {\n",
       "        text-align: left;\n",
       "    }\n",
       "\n",
       "    .dataframe tbody tr th {\n",
       "        vertical-align: top;\n",
       "    }\n",
       "</style>\n",
       "<table border=\"1\" class=\"dataframe\">\n",
       "  <thead>\n",
       "    <tr style=\"text-align: right;\">\n",
       "      <th></th>\n",
       "      <th>LocationID</th>\n",
       "      <th>Borough</th>\n",
       "    </tr>\n",
       "  </thead>\n",
       "  <tbody>\n",
       "    <tr>\n",
       "      <th>0</th>\n",
       "      <td>1</td>\n",
       "      <td>EWR</td>\n",
       "    </tr>\n",
       "    <tr>\n",
       "      <th>1</th>\n",
       "      <td>2</td>\n",
       "      <td>Queens</td>\n",
       "    </tr>\n",
       "    <tr>\n",
       "      <th>2</th>\n",
       "      <td>3</td>\n",
       "      <td>Bronx</td>\n",
       "    </tr>\n",
       "  </tbody>\n",
       "</table>\n",
       "</div>"
      ],
      "text/plain": [
       "   LocationID Borough\n",
       "0           1     EWR\n",
       "1           2  Queens\n",
       "2           3   Bronx"
      ]
     },
     "execution_count": 142,
     "metadata": {},
     "output_type": "execute_result"
    }
   ],
   "source": [
    "nyBorough[:3]"
   ]
  },
  {
   "cell_type": "code",
   "execution_count": 143,
   "metadata": {
    "collapsed": true
   },
   "outputs": [],
   "source": [
    "taxi_and_Borough=nytaxi.join(nyBorough.set_index('LocationID'), on='PULocationID')"
   ]
  },
  {
   "cell_type": "code",
   "execution_count": 144,
   "metadata": {
    "collapsed": true
   },
   "outputs": [],
   "source": [
    "df_grouped = taxi_and_Borough.groupby(['payment_type','Borough']).count() # group by payment type and borough\n",
    "df_grouped = df_grouped.unstack()"
   ]
  },
  {
   "cell_type": "code",
   "execution_count": 145,
   "metadata": {
    "collapsed": true
   },
   "outputs": [],
   "source": [
    "df_grouped.columns = ['Bronx','Brooklyn','EWR','Manhattan','Queens','Staten Island','Unknown']\n",
    "df_grouped = df_grouped.drop('Unknown', axis=1)\n"
   ]
  },
  {
   "cell_type": "code",
   "execution_count": 146,
   "metadata": {},
   "outputs": [
    {
     "data": {
      "text/html": [
       "<div>\n",
       "<style>\n",
       "    .dataframe thead tr:only-child th {\n",
       "        text-align: right;\n",
       "    }\n",
       "\n",
       "    .dataframe thead th {\n",
       "        text-align: left;\n",
       "    }\n",
       "\n",
       "    .dataframe tbody tr th {\n",
       "        vertical-align: top;\n",
       "    }\n",
       "</style>\n",
       "<table border=\"1\" class=\"dataframe\">\n",
       "  <thead>\n",
       "    <tr style=\"text-align: right;\">\n",
       "      <th></th>\n",
       "      <th>Bronx</th>\n",
       "      <th>Brooklyn</th>\n",
       "      <th>EWR</th>\n",
       "      <th>Manhattan</th>\n",
       "      <th>Queens</th>\n",
       "      <th>Staten Island</th>\n",
       "    </tr>\n",
       "    <tr>\n",
       "      <th>payment_type</th>\n",
       "      <th></th>\n",
       "      <th></th>\n",
       "      <th></th>\n",
       "      <th></th>\n",
       "      <th></th>\n",
       "      <th></th>\n",
       "    </tr>\n",
       "  </thead>\n",
       "  <tbody>\n",
       "    <tr>\n",
       "      <th>1</th>\n",
       "      <td>22.0</td>\n",
       "      <td>570.0</td>\n",
       "      <td>16.0</td>\n",
       "      <td>49542.0</td>\n",
       "      <td>5994.0</td>\n",
       "      <td>NaN</td>\n",
       "    </tr>\n",
       "    <tr>\n",
       "      <th>2</th>\n",
       "      <td>44.0</td>\n",
       "      <td>502.0</td>\n",
       "      <td>2.0</td>\n",
       "      <td>37991.0</td>\n",
       "      <td>2277.0</td>\n",
       "      <td>1.0</td>\n",
       "    </tr>\n",
       "    <tr>\n",
       "      <th>3</th>\n",
       "      <td>3.0</td>\n",
       "      <td>16.0</td>\n",
       "      <td>5.0</td>\n",
       "      <td>413.0</td>\n",
       "      <td>64.0</td>\n",
       "      <td>NaN</td>\n",
       "    </tr>\n",
       "  </tbody>\n",
       "</table>\n",
       "</div>"
      ],
      "text/plain": [
       "              Bronx  Brooklyn   EWR  Manhattan  Queens  Staten Island\n",
       "payment_type                                                         \n",
       "1              22.0     570.0  16.0    49542.0  5994.0            NaN\n",
       "2              44.0     502.0   2.0    37991.0  2277.0            1.0\n",
       "3               3.0      16.0   5.0      413.0    64.0            NaN"
      ]
     },
     "execution_count": 146,
     "metadata": {},
     "output_type": "execute_result"
    }
   ],
   "source": [
    "df_grouped[:3]"
   ]
  },
  {
   "cell_type": "code",
   "execution_count": 147,
   "metadata": {
    "collapsed": true
   },
   "outputs": [],
   "source": [
    "df_grouped.plot.bar(stacked=True);"
   ]
  },
  {
   "cell_type": "code",
   "execution_count": 148,
   "metadata": {},
   "outputs": [
    {
     "data": {
      "text/plain": [
       "array([<matplotlib.axes._subplots.AxesSubplot object at 0x000002A970B8A4E0>,\n",
       "       <matplotlib.axes._subplots.AxesSubplot object at 0x000002A96E932358>,\n",
       "       <matplotlib.axes._subplots.AxesSubplot object at 0x000002A96DBEF4A8>,\n",
       "       <matplotlib.axes._subplots.AxesSubplot object at 0x000002A96E7EF278>,\n",
       "       <matplotlib.axes._subplots.AxesSubplot object at 0x000002A96E4D3A58>,\n",
       "       <matplotlib.axes._subplots.AxesSubplot object at 0x000002A96E4D3B38>], dtype=object)"
      ]
     },
     "execution_count": 148,
     "metadata": {},
     "output_type": "execute_result"
    }
   ],
   "source": [
    "df_grouped.plot(subplots=True,figsize=(8,18),kind='bar') # Plot everything"
   ]
  },
  {
   "cell_type": "code",
   "execution_count": 149,
   "metadata": {
    "collapsed": true
   },
   "outputs": [],
   "source": [
    "sum_by_borough = df_grouped.sum()\n",
    "sum_by_payment = df_grouped.sum(axis=1)\n",
    "grandtotal = sum_by_borough.sum()"
   ]
  },
  {
   "cell_type": "code",
   "execution_count": 150,
   "metadata": {},
   "outputs": [
    {
     "name": "stderr",
     "output_type": "stream",
     "text": [
      "C:\\ProgramData\\Anaconda3\\lib\\site-packages\\scipy\\stats\\contingency.py:242: RuntimeWarning: invalid value encountered in less\n",
      "  if np.any(observed < 0):\n",
      "C:\\ProgramData\\Anaconda3\\lib\\site-packages\\scipy\\stats\\_distn_infrastructure.py:879: RuntimeWarning: invalid value encountered in greater\n",
      "  return (self.a < x) & (x < self.b)\n",
      "C:\\ProgramData\\Anaconda3\\lib\\site-packages\\scipy\\stats\\_distn_infrastructure.py:879: RuntimeWarning: invalid value encountered in less\n",
      "  return (self.a < x) & (x < self.b)\n",
      "C:\\ProgramData\\Anaconda3\\lib\\site-packages\\scipy\\stats\\_distn_infrastructure.py:1818: RuntimeWarning: invalid value encountered in less_equal\n",
      "  cond2 = cond0 & (x <= self.a)\n"
     ]
    }
   ],
   "source": [
    "chi2, p, dof, expected = stats.chi2_contingency(df_grouped)"
   ]
  },
  {
   "cell_type": "code",
   "execution_count": null,
   "metadata": {
    "collapsed": true
   },
   "outputs": [],
   "source": []
  },
  {
   "cell_type": "code",
   "execution_count": null,
   "metadata": {
    "collapsed": true
   },
   "outputs": [],
   "source": []
  }
 ],
 "metadata": {
  "kernelspec": {
   "display_name": "Python 3",
   "language": "python",
   "name": "python3"
  },
  "language_info": {
   "codemirror_mode": {
    "name": "ipython",
    "version": 3
   },
   "file_extension": ".py",
   "mimetype": "text/x-python",
   "name": "python",
   "nbconvert_exporter": "python",
   "pygments_lexer": "ipython3",
   "version": "3.6.2"
  }
 },
 "nbformat": 4,
 "nbformat_minor": 2
}
