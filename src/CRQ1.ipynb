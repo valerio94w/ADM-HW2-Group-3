{
 "cells": [
  {
   "cell_type": "code",
   "execution_count": 10,
   "metadata": {},
   "outputs": [
    {
     "data": {
      "text/plain": [
       "'\\nCreated on Thu Nov  1 12:57:54 2018\\n\\n@author: mikyl\\n'"
      ]
     },
     "execution_count": 10,
     "metadata": {},
     "output_type": "execute_result"
    }
   ],
   "source": [
    "\"\"\"\n",
    "Created on Thu Nov  1 12:57:54 2018\n",
    "\n",
    "@author: mikyl\n",
    "\"\"\""
   ]
  },
  {
   "cell_type": "markdown",
   "metadata": {},
   "source": [
    "# CRQ1\n",
    "\n",
    "Does the fare for mile change across NY's borough? We want to discover whether the expenses of a user that enjoys Taxis in one zone is different from those that uses it in another one.\n",
    "\n",
    "Considering the fare amount:\n",
    "- Compute the price per mile equation for each trip.\n",
    "- Run the mean and the standard deviation of the new variable for each borough. Then plot the distribution. What do you see?\n",
    "- Run the t-test among all the possible pairs of distribution of different boroughs.\n",
    "- Can you say that statistically significant differences, on the averages, hold among zones? In other words, are Taxis trip in some boroughs, on average, more expensive than others?\n",
    "\n",
    "The price per mile might depend on traffic the Taxi finds on its way. So we try to mitigate this effect:\n",
    "- Likely, the duration of the trip says something about the city's congestion, especially if combined with the distances. It might be a good idea to weight the price for mile using the time equation needed to complete the trip. Thus, instead of equation, you can use equation, where equation is the time needed to complete the trip.\n",
    "- Run the mean and the standard deviation of the new variable for each borough. Then plot the distribution. What do you see?\n",
    "- Run the t-test among all the possible pairs of new distribution of different boroughs.\n",
    "- Can you say that statistically significant differences, on the averages, hold among zones? In other words, are Taxis trip in some boroughs, on average, more expensive than others?\n",
    "- Compare the results obtained for the price per mile and the weighted price for mile. What do you think about that?\n",
    "\n",
    "\n",
    "Let's import all the needed libraries"
   ]
  },
  {
   "cell_type": "code",
   "execution_count": 11,
   "metadata": {},
   "outputs": [],
   "source": [
    "import pandas as pd\n",
    "import scipy.stats as stats\n",
    "from matplotlib import pyplot\n",
    "import seaborn as sns\n",
    "import matplotlib.pyplot as plt\n",
    "\n",
    "pd.set_option(\"display.max_columns\",10)"
   ]
  },
  {
   "cell_type": "markdown",
   "metadata": {},
   "source": [
    "Here we locate all the csvs"
   ]
  },
  {
   "cell_type": "code",
   "execution_count": 12,
   "metadata": {},
   "outputs": [],
   "source": [
    "Location_Jan = r\"C:\\Users\\mikyl\\Documents\\GitHub\\ADM-HW2-Group-3\\data\\yellow_tripdata_2018-01.csv\"\n",
    "Location_Feb = r\"C:\\Users\\mikyl\\Documents\\GitHub\\ADM-HW2-Group-3\\data\\yellow_tripdata_2018-02.csv\"\n",
    "Location_Mar = r\"C:\\Users\\mikyl\\Documents\\GitHub\\ADM-HW2-Group-3\\data\\yellow_tripdata_2018-03.csv\"\n",
    "Location_Apr = r\"C:\\Users\\mikyl\\Documents\\GitHub\\ADM-HW2-Group-3\\data\\yellow_tripdata_2018-04.csv\"\n",
    "Location_May = r\"C:\\Users\\mikyl\\Documents\\GitHub\\ADM-HW2-Group-3\\data\\yellow_tripdata_2018-05.csv\"\n",
    "Location_Jun = r\"C:\\Users\\mikyl\\Documents\\GitHub\\ADM-HW2-Group-3\\data\\yellow_tripdata_2018-06.csv\""
   ]
  },
  {
   "cell_type": "markdown",
   "metadata": {},
   "source": [
    "Load all the datasets"
   ]
  },
  {
   "cell_type": "code",
   "execution_count": 13,
   "metadata": {},
   "outputs": [
    {
     "data": {
      "text/html": [
       "<div>\n",
       "<style scoped>\n",
       "    .dataframe tbody tr th:only-of-type {\n",
       "        vertical-align: middle;\n",
       "    }\n",
       "\n",
       "    .dataframe tbody tr th {\n",
       "        vertical-align: top;\n",
       "    }\n",
       "\n",
       "    .dataframe thead th {\n",
       "        text-align: right;\n",
       "    }\n",
       "</style>\n",
       "<table border=\"1\" class=\"dataframe\">\n",
       "  <thead>\n",
       "    <tr style=\"text-align: right;\">\n",
       "      <th></th>\n",
       "      <th>tpep_pickup_datetime</th>\n",
       "      <th>tpep_dropoff_datetime</th>\n",
       "      <th>trip_distance</th>\n",
       "      <th>PULocationID</th>\n",
       "      <th>DOLocationID</th>\n",
       "      <th>fare_amount</th>\n",
       "      <th>total_amount</th>\n",
       "    </tr>\n",
       "  </thead>\n",
       "  <tbody>\n",
       "    <tr>\n",
       "      <th>0</th>\n",
       "      <td>2018-01-01 00:21:05</td>\n",
       "      <td>2018-01-01 00:24:23</td>\n",
       "      <td>0.5</td>\n",
       "      <td>41</td>\n",
       "      <td>24</td>\n",
       "      <td>4.5</td>\n",
       "      <td>5.80</td>\n",
       "    </tr>\n",
       "    <tr>\n",
       "      <th>1</th>\n",
       "      <td>2018-01-01 00:44:55</td>\n",
       "      <td>2018-01-01 01:03:05</td>\n",
       "      <td>2.7</td>\n",
       "      <td>239</td>\n",
       "      <td>140</td>\n",
       "      <td>14.0</td>\n",
       "      <td>15.30</td>\n",
       "    </tr>\n",
       "    <tr>\n",
       "      <th>2</th>\n",
       "      <td>2018-01-01 00:08:26</td>\n",
       "      <td>2018-01-01 00:14:21</td>\n",
       "      <td>0.8</td>\n",
       "      <td>262</td>\n",
       "      <td>141</td>\n",
       "      <td>6.0</td>\n",
       "      <td>8.30</td>\n",
       "    </tr>\n",
       "    <tr>\n",
       "      <th>3</th>\n",
       "      <td>2018-01-01 00:20:22</td>\n",
       "      <td>2018-01-01 00:52:51</td>\n",
       "      <td>10.2</td>\n",
       "      <td>140</td>\n",
       "      <td>257</td>\n",
       "      <td>33.5</td>\n",
       "      <td>34.80</td>\n",
       "    </tr>\n",
       "    <tr>\n",
       "      <th>4</th>\n",
       "      <td>2018-01-01 00:09:18</td>\n",
       "      <td>2018-01-01 00:27:06</td>\n",
       "      <td>2.5</td>\n",
       "      <td>246</td>\n",
       "      <td>239</td>\n",
       "      <td>12.5</td>\n",
       "      <td>16.55</td>\n",
       "    </tr>\n",
       "  </tbody>\n",
       "</table>\n",
       "</div>"
      ],
      "text/plain": [
       "  tpep_pickup_datetime tpep_dropoff_datetime  trip_distance  PULocationID  \\\n",
       "0  2018-01-01 00:21:05   2018-01-01 00:24:23            0.5            41   \n",
       "1  2018-01-01 00:44:55   2018-01-01 01:03:05            2.7           239   \n",
       "2  2018-01-01 00:08:26   2018-01-01 00:14:21            0.8           262   \n",
       "3  2018-01-01 00:20:22   2018-01-01 00:52:51           10.2           140   \n",
       "4  2018-01-01 00:09:18   2018-01-01 00:27:06            2.5           246   \n",
       "\n",
       "   DOLocationID  fare_amount  total_amount  \n",
       "0            24          4.5          5.80  \n",
       "1           140         14.0         15.30  \n",
       "2           141          6.0          8.30  \n",
       "3           257         33.5         34.80  \n",
       "4           239         12.5         16.55  "
      ]
     },
     "execution_count": 13,
     "metadata": {},
     "output_type": "execute_result"
    }
   ],
   "source": [
    "nytaxi = pd.read_csv(Location_Jan, usecols=[1,2,4,7,8,10,16]) \n",
    "nytaxi = pd.concat([nytaxi, pd.read_csv(Location_Feb, usecols=[1,2,4,7,8,10,16])])\n",
    "nytaxi = pd.concat([nytaxi, pd.read_csv(Location_Mar, usecols=[1,2,4,7,8,10,16])])\n",
    "nytaxi = pd.concat([nytaxi, pd.read_csv(Location_Apr, usecols=[1,2,4,7,8,10,16])])\n",
    "nytaxi = pd.concat([nytaxi, pd.read_csv(Location_May, usecols=[1,2,4,7,8,10,16])])\n",
    "nytaxi = pd.concat([nytaxi, pd.read_csv(Location_Jun, usecols=[1,2,4,7,8,10,16])])\n",
    "nytaxi.head()"
   ]
  },
  {
   "cell_type": "markdown",
   "metadata": {},
   "source": [
    "Now we need to add a new column with the indication of the Borough. We decide to use the pick up location as reference "
   ]
  },
  {
   "cell_type": "code",
   "execution_count": 14,
   "metadata": {},
   "outputs": [
    {
     "data": {
      "text/html": [
       "<div>\n",
       "<style scoped>\n",
       "    .dataframe tbody tr th:only-of-type {\n",
       "        vertical-align: middle;\n",
       "    }\n",
       "\n",
       "    .dataframe tbody tr th {\n",
       "        vertical-align: top;\n",
       "    }\n",
       "\n",
       "    .dataframe thead th {\n",
       "        text-align: right;\n",
       "    }\n",
       "</style>\n",
       "<table border=\"1\" class=\"dataframe\">\n",
       "  <thead>\n",
       "    <tr style=\"text-align: right;\">\n",
       "      <th></th>\n",
       "      <th>tpep_pickup_datetime</th>\n",
       "      <th>tpep_dropoff_datetime</th>\n",
       "      <th>trip_distance</th>\n",
       "      <th>PULocationID</th>\n",
       "      <th>DOLocationID</th>\n",
       "      <th>fare_amount</th>\n",
       "      <th>total_amount</th>\n",
       "      <th>Borough</th>\n",
       "    </tr>\n",
       "  </thead>\n",
       "  <tbody>\n",
       "    <tr>\n",
       "      <th>0</th>\n",
       "      <td>2018-01-01 00:21:05</td>\n",
       "      <td>2018-01-01 00:24:23</td>\n",
       "      <td>0.5</td>\n",
       "      <td>41</td>\n",
       "      <td>24</td>\n",
       "      <td>4.5</td>\n",
       "      <td>5.80</td>\n",
       "      <td>Manhattan</td>\n",
       "    </tr>\n",
       "    <tr>\n",
       "      <th>1</th>\n",
       "      <td>2018-01-01 00:44:55</td>\n",
       "      <td>2018-01-01 01:03:05</td>\n",
       "      <td>2.7</td>\n",
       "      <td>239</td>\n",
       "      <td>140</td>\n",
       "      <td>14.0</td>\n",
       "      <td>15.30</td>\n",
       "      <td>Manhattan</td>\n",
       "    </tr>\n",
       "    <tr>\n",
       "      <th>2</th>\n",
       "      <td>2018-01-01 00:08:26</td>\n",
       "      <td>2018-01-01 00:14:21</td>\n",
       "      <td>0.8</td>\n",
       "      <td>262</td>\n",
       "      <td>141</td>\n",
       "      <td>6.0</td>\n",
       "      <td>8.30</td>\n",
       "      <td>Manhattan</td>\n",
       "    </tr>\n",
       "    <tr>\n",
       "      <th>3</th>\n",
       "      <td>2018-01-01 00:20:22</td>\n",
       "      <td>2018-01-01 00:52:51</td>\n",
       "      <td>10.2</td>\n",
       "      <td>140</td>\n",
       "      <td>257</td>\n",
       "      <td>33.5</td>\n",
       "      <td>34.80</td>\n",
       "      <td>Manhattan</td>\n",
       "    </tr>\n",
       "    <tr>\n",
       "      <th>4</th>\n",
       "      <td>2018-01-01 00:09:18</td>\n",
       "      <td>2018-01-01 00:27:06</td>\n",
       "      <td>2.5</td>\n",
       "      <td>246</td>\n",
       "      <td>239</td>\n",
       "      <td>12.5</td>\n",
       "      <td>16.55</td>\n",
       "      <td>Manhattan</td>\n",
       "    </tr>\n",
       "  </tbody>\n",
       "</table>\n",
       "</div>"
      ],
      "text/plain": [
       "  tpep_pickup_datetime tpep_dropoff_datetime  trip_distance  PULocationID  \\\n",
       "0  2018-01-01 00:21:05   2018-01-01 00:24:23            0.5            41   \n",
       "1  2018-01-01 00:44:55   2018-01-01 01:03:05            2.7           239   \n",
       "2  2018-01-01 00:08:26   2018-01-01 00:14:21            0.8           262   \n",
       "3  2018-01-01 00:20:22   2018-01-01 00:52:51           10.2           140   \n",
       "4  2018-01-01 00:09:18   2018-01-01 00:27:06            2.5           246   \n",
       "\n",
       "   DOLocationID  fare_amount  total_amount    Borough  \n",
       "0            24          4.5          5.80  Manhattan  \n",
       "1           140         14.0         15.30  Manhattan  \n",
       "2           141          6.0          8.30  Manhattan  \n",
       "3           257         33.5         34.80  Manhattan  \n",
       "4           239         12.5         16.55  Manhattan  "
      ]
     },
     "execution_count": 14,
     "metadata": {},
     "output_type": "execute_result"
    }
   ],
   "source": [
    "Location_2 =r\"C:\\Users\\mikyl\\Documents\\GitHub\\ADM-HW2-Group-3\\data\\taxi_zone_lookup.csv\"\n",
    "nyBorough =pd.read_csv(Location_2, usecols=[0,1])\n",
    "df_full = nytaxi.join(nyBorough.set_index('LocationID'), on='PULocationID')\n",
    "df_full.head()"
   ]
  },
  {
   "cell_type": "markdown",
   "metadata": {},
   "source": [
    "In order to make calculations with dates, we need to convert the column type to 'datetime'"
   ]
  },
  {
   "cell_type": "code",
   "execution_count": 15,
   "metadata": {},
   "outputs": [],
   "source": [
    "df_full.tpep_pickup_datetime = pd.to_datetime(df_full.tpep_pickup_datetime)\n",
    "df_full.tpep_dropoff_datetime = pd.to_datetime(df_full.tpep_dropoff_datetime)"
   ]
  },
  {
   "cell_type": "markdown",
   "metadata": {},
   "source": [
    "We clone the full dataframe to make cleanings on it and keep the original data saved somewhere"
   ]
  },
  {
   "cell_type": "code",
   "execution_count": 16,
   "metadata": {},
   "outputs": [],
   "source": [
    "df_clean = df_full"
   ]
  },
  {
   "cell_type": "markdown",
   "metadata": {},
   "source": [
    "Let's start cleaning up the data.\n",
    "First thing is to remove all the trips with 'tpep_pickup' < 2017 and > 2019, they probably are errors"
   ]
  },
  {
   "cell_type": "code",
   "execution_count": 17,
   "metadata": {},
   "outputs": [],
   "source": [
    "df_clean = df_clean[df_clean.tpep_pickup_datetime.dt.year > 2017]\n",
    "df_clean = df_clean[df_clean.tpep_pickup_datetime.dt.year < 2019]"
   ]
  },
  {
   "cell_type": "markdown",
   "metadata": {},
   "source": [
    "Let's create a new column 'trip_duration' with the trip duration in seconds, we'll need it later.\n",
    "We also need to remove all the trips with a duration equal or lower than 0"
   ]
  },
  {
   "cell_type": "code",
   "execution_count": 18,
   "metadata": {},
   "outputs": [],
   "source": [
    "df_clean['trip_duration'] = (df_clean.tpep_dropoff_datetime - df_clean.tpep_pickup_datetime).dt.total_seconds()\n",
    "# Remove all the trips with duration null or negative\n",
    "df_clean = df_clean[df_clean.trip_duration > 0]"
   ]
  },
  {
   "cell_type": "markdown",
   "metadata": {},
   "source": [
    "According the analysis ran in RQ5, we remove from the dataset all the trips started from the Borough 'EWR'.\n",
    "Indeed, we discovered that trips from/to the airport have a fixed tariff, and the 'trip_distance' field is kept to 0 by the system"
   ]
  },
  {
   "cell_type": "code",
   "execution_count": 19,
   "metadata": {},
   "outputs": [],
   "source": [
    "df_clean = df_clean[df_clean.Borough != 'EWR']"
   ]
  },
  {
   "cell_type": "markdown",
   "metadata": {},
   "source": [
    "Let's check the mean values for all the features by Borough"
   ]
  },
  {
   "cell_type": "code",
   "execution_count": 21,
   "metadata": {},
   "outputs": [
    {
     "data": {
      "text/html": [
       "<div>\n",
       "<style scoped>\n",
       "    .dataframe tbody tr th:only-of-type {\n",
       "        vertical-align: middle;\n",
       "    }\n",
       "\n",
       "    .dataframe tbody tr th {\n",
       "        vertical-align: top;\n",
       "    }\n",
       "\n",
       "    .dataframe thead th {\n",
       "        text-align: right;\n",
       "    }\n",
       "</style>\n",
       "<table border=\"1\" class=\"dataframe\">\n",
       "  <thead>\n",
       "    <tr style=\"text-align: right;\">\n",
       "      <th></th>\n",
       "      <th>trip_distance</th>\n",
       "      <th>fare_amount</th>\n",
       "      <th>total_amount</th>\n",
       "      <th>trip_duration</th>\n",
       "    </tr>\n",
       "    <tr>\n",
       "      <th>Borough</th>\n",
       "      <th></th>\n",
       "      <th></th>\n",
       "      <th></th>\n",
       "      <th></th>\n",
       "    </tr>\n",
       "  </thead>\n",
       "  <tbody>\n",
       "    <tr>\n",
       "      <th>Bronx</th>\n",
       "      <td>4.641990</td>\n",
       "      <td>18.594937</td>\n",
       "      <td>21.160627</td>\n",
       "      <td>1251.813722</td>\n",
       "    </tr>\n",
       "    <tr>\n",
       "      <th>Brooklyn</th>\n",
       "      <td>3.550690</td>\n",
       "      <td>14.476897</td>\n",
       "      <td>17.529345</td>\n",
       "      <td>1070.527834</td>\n",
       "    </tr>\n",
       "    <tr>\n",
       "      <th>Manhattan</th>\n",
       "      <td>2.327377</td>\n",
       "      <td>11.174094</td>\n",
       "      <td>14.095019</td>\n",
       "      <td>925.485320</td>\n",
       "    </tr>\n",
       "    <tr>\n",
       "      <th>Queens</th>\n",
       "      <td>11.216398</td>\n",
       "      <td>35.189418</td>\n",
       "      <td>44.569400</td>\n",
       "      <td>2178.813162</td>\n",
       "    </tr>\n",
       "    <tr>\n",
       "      <th>Staten Island</th>\n",
       "      <td>7.110755</td>\n",
       "      <td>37.360520</td>\n",
       "      <td>47.296968</td>\n",
       "      <td>1440.319307</td>\n",
       "    </tr>\n",
       "    <tr>\n",
       "      <th>Unknown</th>\n",
       "      <td>2.614040</td>\n",
       "      <td>15.181959</td>\n",
       "      <td>18.773113</td>\n",
       "      <td>902.464930</td>\n",
       "    </tr>\n",
       "  </tbody>\n",
       "</table>\n",
       "</div>"
      ],
      "text/plain": [
       "               trip_distance  fare_amount  total_amount  trip_duration\n",
       "Borough                                                               \n",
       "Bronx               4.641990    18.594937     21.160627    1251.813722\n",
       "Brooklyn            3.550690    14.476897     17.529345    1070.527834\n",
       "Manhattan           2.327377    11.174094     14.095019     925.485320\n",
       "Queens             11.216398    35.189418     44.569400    2178.813162\n",
       "Staten Island       7.110755    37.360520     47.296968    1440.319307\n",
       "Unknown             2.614040    15.181959     18.773113     902.464930"
      ]
     },
     "execution_count": 21,
     "metadata": {},
     "output_type": "execute_result"
    }
   ],
   "source": [
    "grouped_mean = df_clean.groupby(['Borough']).mean()\n",
    "grouped_mean= grouped_mean.drop(columns=['PULocationID','DOLocationID']) # Remove not relevant columns\n",
    "grouped_mean"
   ]
  },
  {
   "cell_type": "markdown",
   "metadata": {},
   "source": [
    "The following peculiarities are found:\n",
    "- Queens has the highest average on 'trip_distance'\n",
    "- Staten Island has the highest 'fare_amount' average\n",
    "- Queens has the highest average 'trip_duration'"
   ]
  },
  {
   "cell_type": "markdown",
   "metadata": {},
   "source": [
    "It's time to start exploring the data.\n",
    "Here we check the distribution of the feature 'trip_distance'"
   ]
  },
  {
   "cell_type": "code",
   "execution_count": 22,
   "metadata": {},
   "outputs": [
    {
     "data": {
      "text/plain": [
       "<matplotlib.axes._subplots.AxesSubplot at 0x17742d46fd0>"
      ]
     },
     "execution_count": 22,
     "metadata": {},
     "output_type": "execute_result"
    },
    {
     "data": {
      "image/png": "[encoded data removed]",
      "text/plain": [
       "<Figure size 432x288 with 1 Axes>"
      ]
     },
     "metadata": {
      "needs_background": "light"
     },
     "output_type": "display_data"
    }
   ],
   "source": [
    "df_clean['trip_distance'].plot.box()"
   ]
  },
  {
   "cell_type": "markdown",
   "metadata": {},
   "source": [
    "According to RQ5, let's do a first cut at 150"
   ]
  },
  {
   "cell_type": "code",
   "execution_count": 24,
   "metadata": {},
   "outputs": [
    {
     "data": {
      "text/plain": [
       "<matplotlib.axes._subplots.AxesSubplot at 0x17711d6af28>"
      ]
     },
     "execution_count": 24,
     "metadata": {},
     "output_type": "execute_result"
    },
    {
     "data": {
      "image/png": "[encoded data removed]",
      "text/plain": [
       "<Figure size 432x288 with 1 Axes>"
      ]
     },
     "metadata": {
      "needs_background": "light"
     },
     "output_type": "display_data"
    }
   ],
   "source": [
    "df_clean = df_clean[df_clean.trip_distance < 150]\n",
    "df_clean['trip_distance'].plot.hist(bins=100, title=\"Distribution of 'trip_distance'\")"
   ]
  },
  {
   "cell_type": "markdown",
   "metadata": {},
   "source": [
    "Let's investigate Queens 'trip_distance', because it's the borough with the highest mean"
   ]
  },
  {
   "cell_type": "code",
   "execution_count": 25,
   "metadata": {},
   "outputs": [
    {
     "data": {
      "text/plain": [
       "<matplotlib.axes._subplots.AxesSubplot at 0x17764d96da0>"
      ]
     },
     "execution_count": 25,
     "metadata": {},
     "output_type": "execute_result"
    },
    {
     "data": {
      "image/png": "[encoded data removed]",
      "text/plain": [
       "<Figure size 432x288 with 1 Axes>"
      ]
     },
     "metadata": {
      "needs_background": "light"
     },
     "output_type": "display_data"
    }
   ],
   "source": [
    "queens = df_clean[df_clean.Borough == \"Queens\"] # Select all trips from Queens\n",
    "queens['trip_distance'].plot.hist(bins=80, title=\"Distribution of 'trip_distance' in Queens\")"
   ]
  },
  {
   "cell_type": "markdown",
   "metadata": {},
   "source": [
    "Analyzing the histogram we decide to cut out all the trips with distance > 35.\n",
    "This seems a reasonable value to say that trips inside New York hardly cover more than this mileage.\n",
    "We can also cut out trips with distance less or equal to zero."
   ]
  },
  {
   "cell_type": "code",
   "execution_count": 26,
   "metadata": {},
   "outputs": [
    {
     "data": {
      "text/plain": [
       "<matplotlib.axes._subplots.AxesSubplot at 0x17764ee2e48>"
      ]
     },
     "execution_count": 26,
     "metadata": {},
     "output_type": "execute_result"
    },
    {
     "data": {
      "image/png": "[encoded data removed]",
      "text/plain": [
       "<Figure size 432x288 with 1 Axes>"
      ]
     },
     "metadata": {
      "needs_background": "light"
     },
     "output_type": "display_data"
    }
   ],
   "source": [
    "df_clean = df_clean.drop(df_clean[df_clean.trip_distance <= 0].index) # remove rows with trip distance <= 0\n",
    "df_clean = df_clean.drop(df_clean[df_clean.trip_distance > 35].index) # remove rows with trip distance > 35\n",
    "df_clean['trip_distance'].plot.hist(bins=100, title=\"Distribution of 'trip_distance'\")"
   ]
  },
  {
   "cell_type": "markdown",
   "metadata": {},
   "source": [
    "Analysing the NYC Taxi Information document, we found out that there is a minimum fare of 2.5$.\n",
    "Thus, we can remove trips with 'total_amount' < 2.50 ."
   ]
  },
  {
   "cell_type": "code",
   "execution_count": 27,
   "metadata": {},
   "outputs": [],
   "source": [
    "df_clean = df_clean.drop(df_clean[df_clean.total_amount < 2.5].index)"
   ]
  },
  {
   "cell_type": "markdown",
   "metadata": {},
   "source": [
    "Now it's time to investigate the feature 'fare_amount'"
   ]
  },
  {
   "cell_type": "code",
   "execution_count": 28,
   "metadata": {},
   "outputs": [
    {
     "data": {
      "text/plain": [
       "<matplotlib.axes._subplots.AxesSubplot at 0x177a2f7fef0>"
      ]
     },
     "execution_count": 28,
     "metadata": {},
     "output_type": "execute_result"
    },
    {
     "data": {
      "image/png": "[encoded data removed]",
      "text/plain": [
       "<Figure size 432x288 with 1 Axes>"
      ]
     },
     "metadata": {
      "needs_background": "light"
     },
     "output_type": "display_data"
    }
   ],
   "source": [
    "df_clean['fare_amount'].plot.box()"
   ]
  },
  {
   "cell_type": "markdown",
   "metadata": {},
   "source": [
    "We can clearly see two outliers staind at around 200000. We cut them out together with the values below or equal to zero"
   ]
  },
  {
   "cell_type": "code",
   "execution_count": 29,
   "metadata": {},
   "outputs": [
    {
     "data": {
      "text/plain": [
       "<matplotlib.axes._subplots.AxesSubplot at 0x1776511e1d0>"
      ]
     },
     "execution_count": 29,
     "metadata": {},
     "output_type": "execute_result"
    },
    {
     "data": {
      "image/png": "[encoded data removed]",
      "text/plain": [
       "<Figure size 432x288 with 1 Axes>"
      ]
     },
     "metadata": {
      "needs_background": "light"
     },
     "output_type": "display_data"
    }
   ],
   "source": [
    "df_clean = df_clean.drop(df_clean[df_clean.fare_amount <= 0].index) # remove rows with fare_amount <= 0\n",
    "df_clean = df_clean.drop(df_clean[df_clean.fare_amount > 50000].index) # remove rows with fare_amount > 50000\n",
    "df_clean['fare_amount'].plot.box()"
   ]
  },
  {
   "cell_type": "markdown",
   "metadata": {},
   "source": [
    "We see other outliers above 2000, we can remove them"
   ]
  },
  {
   "cell_type": "code",
   "execution_count": 30,
   "metadata": {},
   "outputs": [
    {
     "data": {
      "text/plain": [
       "<matplotlib.axes._subplots.AxesSubplot at 0x17764df30f0>"
      ]
     },
     "execution_count": 30,
     "metadata": {},
     "output_type": "execute_result"
    },
    {
     "data": {
      "image/png": "[encoded data removed]",
      "text/plain": [
       "<Figure size 432x288 with 1 Axes>"
      ]
     },
     "metadata": {
      "needs_background": "light"
     },
     "output_type": "display_data"
    }
   ],
   "source": [
    "df_clean = df_clean.drop(df_clean[df_clean.fare_amount > 2000].index) # remove rows with fare_amount > 2000\n",
    "df_clean['fare_amount'].plot.box()"
   ]
  },
  {
   "cell_type": "markdown",
   "metadata": {},
   "source": [
    "We do another cut at 800"
   ]
  },
  {
   "cell_type": "code",
   "execution_count": 33,
   "metadata": {},
   "outputs": [
    {
     "data": {
      "text/plain": [
       "<matplotlib.axes._subplots.AxesSubplot at 0x17765a1bbe0>"
      ]
     },
     "execution_count": 33,
     "metadata": {},
     "output_type": "execute_result"
    },
    {
     "data": {
      "image/png": "[encoded data removed]",
      "text/plain": [
       "<Figure size 432x288 with 1 Axes>"
      ]
     },
     "metadata": {
      "needs_background": "light"
     },
     "output_type": "display_data"
    }
   ],
   "source": [
    "df_clean = df_clean.drop(df_clean[df_clean.fare_amount > 800].index) # remove rows with fare_amount > 800\n",
    "df_clean['fare_amount'].plot.hist(bins=100, title=\"Distribution of 'fare_amount'\")"
   ]
  },
  {
   "cell_type": "markdown",
   "metadata": {},
   "source": [
    "The plot is still unbalanced, we do another cut at 150"
   ]
  },
  {
   "cell_type": "code",
   "execution_count": 34,
   "metadata": {},
   "outputs": [
    {
     "data": {
      "text/plain": [
       "<matplotlib.axes._subplots.AxesSubplot at 0x17765b65898>"
      ]
     },
     "execution_count": 34,
     "metadata": {},
     "output_type": "execute_result"
    },
    {
     "data": {
      "image/png": "[encoded data removed]",
      "text/plain": [
       "<Figure size 432x288 with 1 Axes>"
      ]
     },
     "metadata": {
      "needs_background": "light"
     },
     "output_type": "display_data"
    }
   ],
   "source": [
    "df_clean = df_clean.drop(df_clean[df_clean.fare_amount > 150].index)\n",
    "df_clean['fare_amount'].plot.hist(bins=100, title=\"Distribution of 'fare_amount'\")"
   ]
  },
  {
   "cell_type": "markdown",
   "metadata": {},
   "source": [
    "Staten Island is the Borough with the highes fare amount, let's check its distribution"
   ]
  },
  {
   "cell_type": "code",
   "execution_count": 35,
   "metadata": {},
   "outputs": [
    {
     "data": {
      "text/plain": [
       "<matplotlib.axes._subplots.AxesSubplot at 0x17765c54c88>"
      ]
     },
     "execution_count": 35,
     "metadata": {},
     "output_type": "execute_result"
    },
    {
     "data": {
      "image/png": "[encoded data removed]",
      "text/plain": [
       "<Figure size 432x288 with 1 Axes>"
      ]
     },
     "metadata": {
      "needs_background": "light"
     },
     "output_type": "display_data"
    }
   ],
   "source": [
    "df_clean[df_clean.Borough == 'Staten Island'].fare_amount.plot.hist(bins = 100, title=\"Distribution of 'fare_amount' in Staten Island\")"
   ]
  },
  {
   "cell_type": "markdown",
   "metadata": {},
   "source": [
    "From this plot we can see that the distribution is almost null after 110.\n",
    "Thus we can cut there without risking to remove important data"
   ]
  },
  {
   "cell_type": "code",
   "execution_count": 37,
   "metadata": {},
   "outputs": [
    {
     "data": {
      "text/plain": [
       "<matplotlib.axes._subplots.AxesSubplot at 0x177651eac88>"
      ]
     },
     "execution_count": 37,
     "metadata": {},
     "output_type": "execute_result"
    },
    {
     "data": {
      "image/png": "[encoded data removed]",
      "text/plain": [
       "<Figure size 432x288 with 1 Axes>"
      ]
     },
     "metadata": {
      "needs_background": "light"
     },
     "output_type": "display_data"
    }
   ],
   "source": [
    "df_clean = df_clean.drop(df_clean[df_clean.fare_amount > 110].index) # remove rows with fare_amount > 110\n",
    "df_clean['fare_amount'].plot.hist(bins=100, title=\"Distribution of 'fare_amount'\")"
   ]
  },
  {
   "cell_type": "markdown",
   "metadata": {},
   "source": [
    "Let's check the feature 'trip_duration'"
   ]
  },
  {
   "cell_type": "code",
   "execution_count": 38,
   "metadata": {},
   "outputs": [
    {
     "data": {
      "text/plain": [
       "<matplotlib.axes._subplots.AxesSubplot at 0x17765653e48>"
      ]
     },
     "execution_count": 38,
     "metadata": {},
     "output_type": "execute_result"
    },
    {
     "data": {
      "image/png": "[encoded data removed]",
      "text/plain": [
       "<Figure size 432x288 with 1 Axes>"
      ]
     },
     "metadata": {
      "needs_background": "light"
     },
     "output_type": "display_data"
    }
   ],
   "source": [
    "df_clean.trip_duration.plot.box()"
   ]
  },
  {
   "cell_type": "markdown",
   "metadata": {},
   "source": [
    "There are three outliers, we remove them.\n",
    "We can remove also trips with 'trip_duration' lower or equal to 60, and > 5000, according to RQ5"
   ]
  },
  {
   "cell_type": "code",
   "execution_count": 39,
   "metadata": {},
   "outputs": [
    {
     "data": {
      "text/plain": [
       "<matplotlib.axes._subplots.AxesSubplot at 0x177653ac9b0>"
      ]
     },
     "execution_count": 39,
     "metadata": {},
     "output_type": "execute_result"
    },
    {
     "data": {
      "image/png": "[encoded data removed]",
      "text/plain": [
       "<Figure size 432x288 with 1 Axes>"
      ]
     },
     "metadata": {
      "needs_background": "light"
     },
     "output_type": "display_data"
    }
   ],
   "source": [
    "df_clean = df_clean.drop(df_clean[df_clean.trip_duration <= 60].index)\n",
    "df_clean = df_clean.drop(df_clean[df_clean.trip_duration > 7500].index)\n",
    "df_clean.trip_duration.plot.hist(bins=100, title=\"Distribution of 'trip_duration'\")"
   ]
  },
  {
   "cell_type": "markdown",
   "metadata": {},
   "source": [
    "At this point we can consider most of the outliers removed.\n",
    "\n",
    "In the dataset we have many rows with 'Unknown' borough.\n",
    "We want to try to re-allocate the trips to the borough with the closest behaviour.\n",
    "\n",
    "Let's recalculate the means and the stds for the boroughs."
   ]
  },
  {
   "cell_type": "code",
   "execution_count": 40,
   "metadata": {},
   "outputs": [
    {
     "data": {
      "text/html": [
       "<div>\n",
       "<style scoped>\n",
       "    .dataframe tbody tr th:only-of-type {\n",
       "        vertical-align: middle;\n",
       "    }\n",
       "\n",
       "    .dataframe tbody tr th {\n",
       "        vertical-align: top;\n",
       "    }\n",
       "\n",
       "    .dataframe thead th {\n",
       "        text-align: right;\n",
       "    }\n",
       "</style>\n",
       "<table border=\"1\" class=\"dataframe\">\n",
       "  <thead>\n",
       "    <tr style=\"text-align: right;\">\n",
       "      <th></th>\n",
       "      <th>trip_distance</th>\n",
       "      <th>fare_amount</th>\n",
       "      <th>total_amount</th>\n",
       "      <th>trip_duration</th>\n",
       "    </tr>\n",
       "    <tr>\n",
       "      <th>Borough</th>\n",
       "      <th></th>\n",
       "      <th></th>\n",
       "      <th></th>\n",
       "      <th></th>\n",
       "    </tr>\n",
       "  </thead>\n",
       "  <tbody>\n",
       "    <tr>\n",
       "      <th>Bronx</th>\n",
       "      <td>4.943338</td>\n",
       "      <td>18.479040</td>\n",
       "      <td>20.994712</td>\n",
       "      <td>1152.633659</td>\n",
       "    </tr>\n",
       "    <tr>\n",
       "      <th>Brooklyn</th>\n",
       "      <td>3.606120</td>\n",
       "      <td>14.406378</td>\n",
       "      <td>17.451541</td>\n",
       "      <td>919.891202</td>\n",
       "    </tr>\n",
       "    <tr>\n",
       "      <th>Manhattan</th>\n",
       "      <td>2.333934</td>\n",
       "      <td>11.134969</td>\n",
       "      <td>14.051213</td>\n",
       "      <td>768.281660</td>\n",
       "    </tr>\n",
       "    <tr>\n",
       "      <th>Queens</th>\n",
       "      <td>11.357324</td>\n",
       "      <td>35.119793</td>\n",
       "      <td>44.572087</td>\n",
       "      <td>1987.550814</td>\n",
       "    </tr>\n",
       "    <tr>\n",
       "      <th>Staten Island</th>\n",
       "      <td>9.864222</td>\n",
       "      <td>32.170519</td>\n",
       "      <td>39.972264</td>\n",
       "      <td>1645.974057</td>\n",
       "    </tr>\n",
       "    <tr>\n",
       "      <th>Unknown</th>\n",
       "      <td>2.780328</td>\n",
       "      <td>12.461784</td>\n",
       "      <td>15.714565</td>\n",
       "      <td>830.233314</td>\n",
       "    </tr>\n",
       "  </tbody>\n",
       "</table>\n",
       "</div>"
      ],
      "text/plain": [
       "               trip_distance  fare_amount  total_amount  trip_duration\n",
       "Borough                                                               \n",
       "Bronx               4.943338    18.479040     20.994712    1152.633659\n",
       "Brooklyn            3.606120    14.406378     17.451541     919.891202\n",
       "Manhattan           2.333934    11.134969     14.051213     768.281660\n",
       "Queens             11.357324    35.119793     44.572087    1987.550814\n",
       "Staten Island       9.864222    32.170519     39.972264    1645.974057\n",
       "Unknown             2.780328    12.461784     15.714565     830.233314"
      ]
     },
     "execution_count": 40,
     "metadata": {},
     "output_type": "execute_result"
    }
   ],
   "source": [
    "grouped_mean = df_clean.groupby(['Borough']).mean()\n",
    "grouped_mean = grouped_mean.drop(columns=['PULocationID','DOLocationID']) # Remove not relevant columns\n",
    "grouped_mean"
   ]
  },
  {
   "cell_type": "markdown",
   "metadata": {},
   "source": [
    "According to the means, trips from 'Unknown' seems to be similar to the trips from 'Manhattan'.\n",
    "\n",
    "Let's compare the distributions of the features in these two boroughs in order to have some more valid proof."
   ]
  },
  {
   "cell_type": "code",
   "execution_count": 41,
   "metadata": {},
   "outputs": [],
   "source": [
    "unknown = df_clean[df_clean.Borough == \"Unknown\"] # Select all trips from Unknown\n",
    "manhattan = df_clean[df_clean.Borough == \"Manhattan\"] # Select all trips from Manhattan"
   ]
  },
  {
   "cell_type": "markdown",
   "metadata": {},
   "source": [
    "This is the 'trip_distance' distribution comparison using a normalized histogram."
   ]
  },
  {
   "cell_type": "code",
   "execution_count": 45,
   "metadata": {},
   "outputs": [
    {
     "data": {
      "image/png": "[encoded data removed]",
      "text/plain": [
       "<Figure size 432x288 with 1 Axes>"
      ]
     },
     "metadata": {
      "needs_background": "light"
     },
     "output_type": "display_data"
    }
   ],
   "source": [
    "bins = pd.np.linspace(0, 35, 100)\n",
    "\n",
    "pyplot.hist(manhattan.trip_distance, bins, alpha=0.5, label='Manhattan', density=True)\n",
    "pyplot.hist(unknown.trip_distance, bins, alpha=0.5, label='Unknown', density=True)\n",
    "pyplot.legend(loc='upper right')\n",
    "pyplot.title('\\'trip_distance\\' normalized distibution')\n",
    "pyplot.show()"
   ]
  },
  {
   "cell_type": "markdown",
   "metadata": {},
   "source": [
    "This is the 'trip_duration' distribution comparison using a normalized histogram."
   ]
  },
  {
   "cell_type": "code",
   "execution_count": 46,
   "metadata": {},
   "outputs": [
    {
     "data": {
      "image/png": "[encoded data removed]",
      "text/plain": [
       "<Figure size 432x288 with 1 Axes>"
      ]
     },
     "metadata": {
      "needs_background": "light"
     },
     "output_type": "display_data"
    }
   ],
   "source": [
    "bins = pd.np.linspace(0, 5000, 100)\n",
    "\n",
    "pyplot.hist(manhattan.trip_duration, bins, alpha=0.5, label='Manhattan', density=True)\n",
    "pyplot.hist(unknown.trip_duration, bins, alpha=0.5, label='Unknown', density=True)\n",
    "pyplot.legend(loc='upper right')\n",
    "pyplot.title('\\'trip_duration\\' normalized distibution')\n",
    "pyplot.show()"
   ]
  },
  {
   "cell_type": "markdown",
   "metadata": {},
   "source": [
    "This is the 'fare_amount' distribution comparison using a normalized histogram."
   ]
  },
  {
   "cell_type": "code",
   "execution_count": 47,
   "metadata": {
    "scrolled": true
   },
   "outputs": [
    {
     "data": {
      "image/png": "[encoded data removed]",
      "text/plain": [
       "<Figure size 432x288 with 1 Axes>"
      ]
     },
     "metadata": {
      "needs_background": "light"
     },
     "output_type": "display_data"
    }
   ],
   "source": [
    "bins = pd.np.linspace(0, 60, 60)\n",
    "\n",
    "pyplot.hist(manhattan.fare_amount, bins, alpha=0.5, label='Manhattan', density=True)\n",
    "pyplot.hist(unknown.fare_amount, bins, alpha=0.5, label='Unknown', density=True)\n",
    "pyplot.legend(loc='upper right')\n",
    "pyplot.title('\\'fare_amount\\' normalized distibution')\n",
    "pyplot.show()"
   ]
  },
  {
   "cell_type": "markdown",
   "metadata": {},
   "source": [
    "In all the three previouses plots, the features showed pratically the same trend between 'Unknown' and 'Manhattan'.\n",
    "\n",
    "Thus we can replace the string 'Unknown' with 'Manhattan'."
   ]
  },
  {
   "cell_type": "code",
   "execution_count": 53,
   "metadata": {},
   "outputs": [],
   "source": [
    "df_clean.loc[df_clean.Borough == 'Unknown', 'Borough'] = 'Manhattan'"
   ]
  },
  {
   "cell_type": "markdown",
   "metadata": {},
   "source": [
    "At this point we can consider the dataset (mostly) clean and we can proceed with the analysis asked in CRQ1.\n",
    "\n",
    "The first main question is: \"Does the fare for mile change across NY's borough?\"\n",
    "\n",
    "In order to give an answer, we firstly need to create a new column called 'price_per_mile', filled with the ratio between the trip 'fare_amount' and 'trip_distance'."
   ]
  },
  {
   "cell_type": "code",
   "execution_count": 56,
   "metadata": {},
   "outputs": [],
   "source": [
    "df_clean['price_per_mile'] = df_clean.fare_amount / df_clean.trip_distance"
   ]
  },
  {
   "cell_type": "markdown",
   "metadata": {},
   "source": [
    "Let's check the distribution of the new 'price_per_mile' feature"
   ]
  },
  {
   "cell_type": "code",
   "execution_count": 61,
   "metadata": {},
   "outputs": [
    {
     "data": {
      "text/plain": [
       "<matplotlib.axes._subplots.AxesSubplot at 0x177658f6c88>"
      ]
     },
     "execution_count": 61,
     "metadata": {},
     "output_type": "execute_result"
    },
    {
     "data": {
      "image/png": "[encoded data removed]",
      "text/plain": [
       "<Figure size 432x288 with 1 Axes>"
      ]
     },
     "metadata": {
      "needs_background": "light"
     },
     "output_type": "display_data"
    }
   ],
   "source": [
    "df_clean.price_per_mile.plot.box()"
   ]
  },
  {
   "cell_type": "markdown",
   "metadata": {},
   "source": [
    "There are some outliers. We'll cut out all the trips with a too high and too low 'price_per_mile'"
   ]
  },
  {
   "cell_type": "code",
   "execution_count": 60,
   "metadata": {},
   "outputs": [
    {
     "data": {
      "text/plain": [
       "<matplotlib.axes._subplots.AxesSubplot at 0x177653677b8>"
      ]
     },
     "execution_count": 60,
     "metadata": {},
     "output_type": "execute_result"
    },
    {
     "data": {
      "image/png": "[encoded data removed]",
      "text/plain": [
       "<Figure size 432x288 with 1 Axes>"
      ]
     },
     "metadata": {
      "needs_background": "light"
     },
     "output_type": "display_data"
    }
   ],
   "source": [
    "df_clean = df_clean.drop(df_clean[df_clean.price_per_mile > 25].index) # remove rows with 'price_per_mile' > 25\n",
    "df_clean = df_clean.drop(df_clean[df_clean.price_per_mile < 1].index) # remove rows with 'price_per_mile' < 1\n",
    "\n",
    "df_clean.price_per_mile.plot.hist(bins=100, title=\"Distribution of 'price_per_mile'\")"
   ]
  },
  {
   "cell_type": "markdown",
   "metadata": {},
   "source": [
    "Now that outliers are removed, we can recalculate the mean and the std for all the features."
   ]
  },
  {
   "cell_type": "code",
   "execution_count": 63,
   "metadata": {},
   "outputs": [
    {
     "data": {
      "text/html": [
       "<div>\n",
       "<style scoped>\n",
       "    .dataframe tbody tr th:only-of-type {\n",
       "        vertical-align: middle;\n",
       "    }\n",
       "\n",
       "    .dataframe tbody tr th {\n",
       "        vertical-align: top;\n",
       "    }\n",
       "\n",
       "    .dataframe thead th {\n",
       "        text-align: right;\n",
       "    }\n",
       "</style>\n",
       "<table border=\"1\" class=\"dataframe\">\n",
       "  <thead>\n",
       "    <tr style=\"text-align: right;\">\n",
       "      <th></th>\n",
       "      <th>trip_distance</th>\n",
       "      <th>fare_amount</th>\n",
       "      <th>total_amount</th>\n",
       "      <th>trip_duration</th>\n",
       "      <th>price_per_mile</th>\n",
       "    </tr>\n",
       "    <tr>\n",
       "      <th>Borough</th>\n",
       "      <th></th>\n",
       "      <th></th>\n",
       "      <th></th>\n",
       "      <th></th>\n",
       "      <th></th>\n",
       "    </tr>\n",
       "  </thead>\n",
       "  <tbody>\n",
       "    <tr>\n",
       "      <th>Bronx</th>\n",
       "      <td>4.971207</td>\n",
       "      <td>18.512439</td>\n",
       "      <td>21.021133</td>\n",
       "      <td>1157.658378</td>\n",
       "      <td>4.893393</td>\n",
       "    </tr>\n",
       "    <tr>\n",
       "      <th>Brooklyn</th>\n",
       "      <td>3.614051</td>\n",
       "      <td>14.399958</td>\n",
       "      <td>17.446112</td>\n",
       "      <td>921.736424</td>\n",
       "      <td>5.037699</td>\n",
       "    </tr>\n",
       "    <tr>\n",
       "      <th>Manhattan</th>\n",
       "      <td>2.345727</td>\n",
       "      <td>11.155125</td>\n",
       "      <td>14.076923</td>\n",
       "      <td>770.191032</td>\n",
       "      <td>6.123809</td>\n",
       "    </tr>\n",
       "    <tr>\n",
       "      <th>Queens</th>\n",
       "      <td>11.382569</td>\n",
       "      <td>35.127804</td>\n",
       "      <td>44.586043</td>\n",
       "      <td>1991.745040</td>\n",
       "      <td>3.478871</td>\n",
       "    </tr>\n",
       "    <tr>\n",
       "      <th>Staten Island</th>\n",
       "      <td>10.040268</td>\n",
       "      <td>32.527561</td>\n",
       "      <td>40.317195</td>\n",
       "      <td>1672.856098</td>\n",
       "      <td>4.070754</td>\n",
       "    </tr>\n",
       "  </tbody>\n",
       "</table>\n",
       "</div>"
      ],
      "text/plain": [
       "               trip_distance  fare_amount  total_amount  trip_duration  \\\n",
       "Borough                                                                  \n",
       "Bronx               4.971207    18.512439     21.021133    1157.658378   \n",
       "Brooklyn            3.614051    14.399958     17.446112     921.736424   \n",
       "Manhattan           2.345727    11.155125     14.076923     770.191032   \n",
       "Queens             11.382569    35.127804     44.586043    1991.745040   \n",
       "Staten Island      10.040268    32.527561     40.317195    1672.856098   \n",
       "\n",
       "               price_per_mile  \n",
       "Borough                        \n",
       "Bronx                4.893393  \n",
       "Brooklyn             5.037699  \n",
       "Manhattan            6.123809  \n",
       "Queens               3.478871  \n",
       "Staten Island        4.070754  "
      ]
     },
     "execution_count": 63,
     "metadata": {},
     "output_type": "execute_result"
    }
   ],
   "source": [
    "grouped_mean = df_clean.groupby(['Borough']).mean()\n",
    "grouped_mean = grouped_mean.drop(columns=['PULocationID','DOLocationID'])\n",
    "grouped_mean"
   ]
  },
  {
   "cell_type": "code",
   "execution_count": 65,
   "metadata": {},
   "outputs": [
    {
     "data": {
      "text/html": [
       "<div>\n",
       "<style scoped>\n",
       "    .dataframe tbody tr th:only-of-type {\n",
       "        vertical-align: middle;\n",
       "    }\n",
       "\n",
       "    .dataframe tbody tr th {\n",
       "        vertical-align: top;\n",
       "    }\n",
       "\n",
       "    .dataframe thead th {\n",
       "        text-align: right;\n",
       "    }\n",
       "</style>\n",
       "<table border=\"1\" class=\"dataframe\">\n",
       "  <thead>\n",
       "    <tr style=\"text-align: right;\">\n",
       "      <th></th>\n",
       "      <th>trip_distance</th>\n",
       "      <th>fare_amount</th>\n",
       "      <th>total_amount</th>\n",
       "      <th>trip_duration</th>\n",
       "      <th>price_per_mile</th>\n",
       "    </tr>\n",
       "    <tr>\n",
       "      <th>Borough</th>\n",
       "      <th></th>\n",
       "      <th></th>\n",
       "      <th></th>\n",
       "      <th></th>\n",
       "      <th></th>\n",
       "    </tr>\n",
       "  </thead>\n",
       "  <tbody>\n",
       "    <tr>\n",
       "      <th>Bronx</th>\n",
       "      <td>5.054078</td>\n",
       "      <td>15.021922</td>\n",
       "      <td>16.936273</td>\n",
       "      <td>967.177151</td>\n",
       "      <td>2.144588</td>\n",
       "    </tr>\n",
       "    <tr>\n",
       "      <th>Brooklyn</th>\n",
       "      <td>3.472215</td>\n",
       "      <td>10.468308</td>\n",
       "      <td>12.011114</td>\n",
       "      <td>697.510363</td>\n",
       "      <td>1.974194</td>\n",
       "    </tr>\n",
       "    <tr>\n",
       "      <th>Manhattan</th>\n",
       "      <td>2.641690</td>\n",
       "      <td>8.105399</td>\n",
       "      <td>10.149808</td>\n",
       "      <td>566.652197</td>\n",
       "      <td>2.351435</td>\n",
       "    </tr>\n",
       "    <tr>\n",
       "      <th>Queens</th>\n",
       "      <td>5.928385</td>\n",
       "      <td>15.571793</td>\n",
       "      <td>19.977542</td>\n",
       "      <td>1079.665442</td>\n",
       "      <td>1.368228</td>\n",
       "    </tr>\n",
       "    <tr>\n",
       "      <th>Staten Island</th>\n",
       "      <td>8.822457</td>\n",
       "      <td>25.857163</td>\n",
       "      <td>33.229536</td>\n",
       "      <td>1420.553090</td>\n",
       "      <td>1.906596</td>\n",
       "    </tr>\n",
       "  </tbody>\n",
       "</table>\n",
       "</div>"
      ],
      "text/plain": [
       "               trip_distance  fare_amount  total_amount  trip_duration  \\\n",
       "Borough                                                                  \n",
       "Bronx               5.054078    15.021922     16.936273     967.177151   \n",
       "Brooklyn            3.472215    10.468308     12.011114     697.510363   \n",
       "Manhattan           2.641690     8.105399     10.149808     566.652197   \n",
       "Queens              5.928385    15.571793     19.977542    1079.665442   \n",
       "Staten Island       8.822457    25.857163     33.229536    1420.553090   \n",
       "\n",
       "               price_per_mile  \n",
       "Borough                        \n",
       "Bronx                2.144588  \n",
       "Brooklyn             1.974194  \n",
       "Manhattan            2.351435  \n",
       "Queens               1.368228  \n",
       "Staten Island        1.906596  "
      ]
     },
     "execution_count": 65,
     "metadata": {},
     "output_type": "execute_result"
    }
   ],
   "source": [
    "grouped_std = df_clean.groupby(['Borough']).std()\n",
    "grouped_std = grouped_std.drop(columns=['PULocationID','DOLocationID'])\n",
    "grouped_std"
   ]
  },
  {
   "cell_type": "markdown",
   "metadata": {},
   "source": [
    "And if we plot the distributions of the various boroughs:"
   ]
  },
  {
   "cell_type": "code",
   "execution_count": 78,
   "metadata": {},
   "outputs": [
    {
     "data": {
      "image/png": "[encoded data removed]",
      "text/plain": [
       "<Figure size 432x288 with 1 Axes>"
      ]
     },
     "metadata": {
      "needs_background": "light"
     },
     "output_type": "display_data"
    }
   ],
   "source": [
    "sns.kdeplot(df_clean.price_per_mile[df_clean.Borough == \"Queens\"],label='Queens', bw=0.5)\n",
    "sns.kdeplot(df_clean.price_per_mile[df_clean.Borough == \"Manhattan\"],label='Manhattan', bw=0.5)\n",
    "sns.kdeplot(df_clean.price_per_mile[df_clean.Borough == \"Brooklyn\"],label='Brooklyn', bw=0.5)\n",
    "sns.kdeplot(df_clean.price_per_mile[df_clean.Borough == \"Bronx\"],label='Bronx', bw=0.5)\n",
    "sns.kdeplot(df_clean.price_per_mile[df_clean.Borough == \"Staten Island\"],label='Staten Island', bw=0.5)\n",
    "\n",
    "plt.xlabel('$/mile')\n",
    "plt.ylabel('KDE')\n",
    "plt.title('\\'price_per_mile\\' distribution over Boroughs')\n",
    "plt.show()"
   ]
  },
  {
   "cell_type": "markdown",
   "metadata": {},
   "source": [
    "Let's do a t-test on the 'price_per_mile' series\n",
    "- H0: means are the same\n",
    "- H1: means are different\n",
    "\n",
    "Our p-value treshold is p-value = 0.05"
   ]
  },
  {
   "cell_type": "code",
   "execution_count": 80,
   "metadata": {},
   "outputs": [
    {
     "data": {
      "text/html": [
       "<div>\n",
       "<style scoped>\n",
       "    .dataframe tbody tr th:only-of-type {\n",
       "        vertical-align: middle;\n",
       "    }\n",
       "\n",
       "    .dataframe tbody tr th {\n",
       "        vertical-align: top;\n",
       "    }\n",
       "\n",
       "    .dataframe thead th {\n",
       "        text-align: right;\n",
       "    }\n",
       "</style>\n",
       "<table border=\"1\" class=\"dataframe\">\n",
       "  <thead>\n",
       "    <tr style=\"text-align: right;\">\n",
       "      <th></th>\n",
       "      <th>Manhattan</th>\n",
       "      <th>Bronx</th>\n",
       "      <th>Brooklyn</th>\n",
       "      <th>Queens</th>\n",
       "      <th>Staten Island</th>\n",
       "    </tr>\n",
       "  </thead>\n",
       "  <tbody>\n",
       "    <tr>\n",
       "      <th>Manhattan</th>\n",
       "      <td>1.000000e+00</td>\n",
       "      <td>NaN</td>\n",
       "      <td>NaN</td>\n",
       "      <td>NaN</td>\n",
       "      <td>NaN</td>\n",
       "    </tr>\n",
       "    <tr>\n",
       "      <th>Bronx</th>\n",
       "      <td>0.000000e+00</td>\n",
       "      <td>1.000000e+00</td>\n",
       "      <td>NaN</td>\n",
       "      <td>NaN</td>\n",
       "      <td>NaN</td>\n",
       "    </tr>\n",
       "    <tr>\n",
       "      <th>Brooklyn</th>\n",
       "      <td>0.000000e+00</td>\n",
       "      <td>1.087040e-51</td>\n",
       "      <td>1.000000e+00</td>\n",
       "      <td>NaN</td>\n",
       "      <td>NaN</td>\n",
       "    </tr>\n",
       "    <tr>\n",
       "      <th>Queens</th>\n",
       "      <td>0.000000e+00</td>\n",
       "      <td>0.000000e+00</td>\n",
       "      <td>0.000000e+00</td>\n",
       "      <td>1.000000e+00</td>\n",
       "      <td>NaN</td>\n",
       "    </tr>\n",
       "    <tr>\n",
       "      <th>Staten Island</th>\n",
       "      <td>6.087846e-70</td>\n",
       "      <td>1.012173e-14</td>\n",
       "      <td>3.616196e-23</td>\n",
       "      <td>1.986167e-18</td>\n",
       "      <td>1.0</td>\n",
       "    </tr>\n",
       "  </tbody>\n",
       "</table>\n",
       "</div>"
      ],
      "text/plain": [
       "                  Manhattan         Bronx      Brooklyn        Queens  \\\n",
       "Manhattan      1.000000e+00           NaN           NaN           NaN   \n",
       "Bronx          0.000000e+00  1.000000e+00           NaN           NaN   \n",
       "Brooklyn       0.000000e+00  1.087040e-51  1.000000e+00           NaN   \n",
       "Queens         0.000000e+00  0.000000e+00  0.000000e+00  1.000000e+00   \n",
       "Staten Island  6.087846e-70  1.012173e-14  3.616196e-23  1.986167e-18   \n",
       "\n",
       "               Staten Island  \n",
       "Manhattan                NaN  \n",
       "Bronx                    NaN  \n",
       "Brooklyn                 NaN  \n",
       "Queens                   NaN  \n",
       "Staten Island            1.0  "
      ]
     },
     "execution_count": 80,
     "metadata": {},
     "output_type": "execute_result"
    }
   ],
   "source": [
    "ttest_matrix = pd.DataFrame(index=df_clean.Borough.unique(), columns=df_clean.Borough.unique())\n",
    "\n",
    "for col1 in df_clean.Borough.unique():\n",
    "    for col2 in df_clean.Borough.unique():\n",
    "        ttest_matrix.loc[col1,col2] = stats.ttest_ind(df_clean[df_clean.Borough == col1]['price_per_mile'], df_clean[df_clean.Borough == col2]['price_per_mile']).pvalue\n",
    "        if col1==col2:\n",
    "            break\n",
    "            \n",
    "ttest_matrix = ttest_matrix.apply(pd.to_numeric)\n",
    "ttest_matrix"
   ]
  },
  {
   "cell_type": "markdown",
   "metadata": {},
   "source": [
    "We consider pvalue = 0.05 as a treshold to reject the H0.\n",
    "Pvalues higher than 0.05 mean that Boroughs have the same mean (we accept the H0)\n",
    "Pvalues lower than 0.05 mean that Boroughs have different mean (we reject the H0)\n",
    "\n",
    "H0 is rejected for all the pairs."
   ]
  },
  {
   "cell_type": "markdown",
   "metadata": {},
   "source": [
    "Second part of CRQ1 asks us to adjust the price per mile taking in account the traffic.\n",
    "\n",
    "This is done creating a new feature dividing 'price_per_mile' by 'trip_duration.\n",
    "\n",
    "We create a new column with 'ppm_adj' with the adjusted price per mile."
   ]
  },
  {
   "cell_type": "code",
   "execution_count": 81,
   "metadata": {},
   "outputs": [
    {
     "data": {
      "text/html": [
       "<div>\n",
       "<style scoped>\n",
       "    .dataframe tbody tr th:only-of-type {\n",
       "        vertical-align: middle;\n",
       "    }\n",
       "\n",
       "    .dataframe tbody tr th {\n",
       "        vertical-align: top;\n",
       "    }\n",
       "\n",
       "    .dataframe thead th {\n",
       "        text-align: right;\n",
       "    }\n",
       "</style>\n",
       "<table border=\"1\" class=\"dataframe\">\n",
       "  <thead>\n",
       "    <tr style=\"text-align: right;\">\n",
       "      <th></th>\n",
       "      <th>tpep_pickup_datetime</th>\n",
       "      <th>tpep_dropoff_datetime</th>\n",
       "      <th>trip_distance</th>\n",
       "      <th>PULocationID</th>\n",
       "      <th>DOLocationID</th>\n",
       "      <th>...</th>\n",
       "      <th>total_amount</th>\n",
       "      <th>Borough</th>\n",
       "      <th>trip_duration</th>\n",
       "      <th>price_per_mile</th>\n",
       "      <th>ppm_adj</th>\n",
       "    </tr>\n",
       "  </thead>\n",
       "  <tbody>\n",
       "    <tr>\n",
       "      <th>2</th>\n",
       "      <td>2018-01-01 00:08:26</td>\n",
       "      <td>2018-01-01 00:14:21</td>\n",
       "      <td>0.8</td>\n",
       "      <td>262</td>\n",
       "      <td>141</td>\n",
       "      <td>...</td>\n",
       "      <td>8.30</td>\n",
       "      <td>Manhattan</td>\n",
       "      <td>355.0</td>\n",
       "      <td>7.500000</td>\n",
       "      <td>0.016901</td>\n",
       "    </tr>\n",
       "    <tr>\n",
       "      <th>8</th>\n",
       "      <td>2018-01-01 00:56:38</td>\n",
       "      <td>2018-01-01 01:01:05</td>\n",
       "      <td>1.0</td>\n",
       "      <td>238</td>\n",
       "      <td>24</td>\n",
       "      <td>...</td>\n",
       "      <td>8.50</td>\n",
       "      <td>Manhattan</td>\n",
       "      <td>267.0</td>\n",
       "      <td>5.500000</td>\n",
       "      <td>0.020599</td>\n",
       "    </tr>\n",
       "    <tr>\n",
       "      <th>9</th>\n",
       "      <td>2018-01-01 00:17:04</td>\n",
       "      <td>2018-01-01 00:22:24</td>\n",
       "      <td>0.7</td>\n",
       "      <td>170</td>\n",
       "      <td>170</td>\n",
       "      <td>...</td>\n",
       "      <td>6.80</td>\n",
       "      <td>Manhattan</td>\n",
       "      <td>320.0</td>\n",
       "      <td>7.857143</td>\n",
       "      <td>0.017188</td>\n",
       "    </tr>\n",
       "    <tr>\n",
       "      <th>10</th>\n",
       "      <td>2018-01-01 00:41:03</td>\n",
       "      <td>2018-01-01 00:46:49</td>\n",
       "      <td>0.6</td>\n",
       "      <td>162</td>\n",
       "      <td>229</td>\n",
       "      <td>...</td>\n",
       "      <td>8.15</td>\n",
       "      <td>Manhattan</td>\n",
       "      <td>346.0</td>\n",
       "      <td>9.166667</td>\n",
       "      <td>0.015896</td>\n",
       "    </tr>\n",
       "    <tr>\n",
       "      <th>11</th>\n",
       "      <td>2018-01-01 00:52:54</td>\n",
       "      <td>2018-01-01 01:17:33</td>\n",
       "      <td>3.5</td>\n",
       "      <td>141</td>\n",
       "      <td>113</td>\n",
       "      <td>...</td>\n",
       "      <td>17.80</td>\n",
       "      <td>Manhattan</td>\n",
       "      <td>1479.0</td>\n",
       "      <td>4.714286</td>\n",
       "      <td>0.011156</td>\n",
       "    </tr>\n",
       "  </tbody>\n",
       "</table>\n",
       "<p>5 rows × 11 columns</p>\n",
       "</div>"
      ],
      "text/plain": [
       "   tpep_pickup_datetime tpep_dropoff_datetime  trip_distance  PULocationID  \\\n",
       "2   2018-01-01 00:08:26   2018-01-01 00:14:21            0.8           262   \n",
       "8   2018-01-01 00:56:38   2018-01-01 01:01:05            1.0           238   \n",
       "9   2018-01-01 00:17:04   2018-01-01 00:22:24            0.7           170   \n",
       "10  2018-01-01 00:41:03   2018-01-01 00:46:49            0.6           162   \n",
       "11  2018-01-01 00:52:54   2018-01-01 01:17:33            3.5           141   \n",
       "\n",
       "    DOLocationID    ...     total_amount    Borough trip_duration  \\\n",
       "2            141    ...             8.30  Manhattan         355.0   \n",
       "8             24    ...             8.50  Manhattan         267.0   \n",
       "9            170    ...             6.80  Manhattan         320.0   \n",
       "10           229    ...             8.15  Manhattan         346.0   \n",
       "11           113    ...            17.80  Manhattan        1479.0   \n",
       "\n",
       "    price_per_mile   ppm_adj  \n",
       "2         7.500000  0.016901  \n",
       "8         5.500000  0.020599  \n",
       "9         7.857143  0.017188  \n",
       "10        9.166667  0.015896  \n",
       "11        4.714286  0.011156  \n",
       "\n",
       "[5 rows x 11 columns]"
      ]
     },
     "execution_count": 81,
     "metadata": {},
     "output_type": "execute_result"
    }
   ],
   "source": [
    "df_clean['ppm_adj'] = df_clean.fare_amount/df_clean.trip_duration\n",
    "\n",
    "df_clean.head()"
   ]
  },
  {
   "cell_type": "markdown",
   "metadata": {},
   "source": [
    "Let's plot the distribution of the new feature for each borough"
   ]
  },
  {
   "cell_type": "code",
   "execution_count": 82,
   "metadata": {},
   "outputs": [
    {
     "data": {
      "image/png": "[encoded data removed]",
      "text/plain": [
       "<Figure size 432x288 with 1 Axes>"
      ]
     },
     "metadata": {
      "needs_background": "light"
     },
     "output_type": "display_data"
    }
   ],
   "source": [
    "sns.kdeplot(df_clean.ppm_adj[df_clean.Borough == \"Queens\"],label='Queens', bw=0.5)\n",
    "sns.kdeplot(df_clean.ppm_adj[df_clean.Borough == \"Manhattan\"],label='Manhattan', bw=0.5)\n",
    "sns.kdeplot(df_clean.ppm_adj[df_clean.Borough == \"Brooklyn\"],label='Brooklyn', bw=0.5)\n",
    "sns.kdeplot(df_clean.ppm_adj[df_clean.Borough == \"Bronx\"],label='Bronx', bw=0.5)\n",
    "sns.kdeplot(df_clean.ppm_adj[df_clean.Borough == \"Staten Island\"],label='Staten Island', bw=0.5)\n",
    "\n",
    "# beautifying the labels\n",
    "plt.xlabel('$/miles s')\n",
    "plt.ylabel('KDE')\n",
    "plt.title('Price per mile adjusted distribution over Boroughs')\n",
    "plt.show()"
   ]
  },
  {
   "cell_type": "markdown",
   "metadata": {},
   "source": [
    "Now we can update the table with mean and std by borough adding the new columns"
   ]
  },
  {
   "cell_type": "code",
   "execution_count": 84,
   "metadata": {},
   "outputs": [
    {
     "data": {
      "text/html": [
       "<div>\n",
       "<style scoped>\n",
       "    .dataframe tbody tr th:only-of-type {\n",
       "        vertical-align: middle;\n",
       "    }\n",
       "\n",
       "    .dataframe tbody tr th {\n",
       "        vertical-align: top;\n",
       "    }\n",
       "\n",
       "    .dataframe thead th {\n",
       "        text-align: right;\n",
       "    }\n",
       "</style>\n",
       "<table border=\"1\" class=\"dataframe\">\n",
       "  <thead>\n",
       "    <tr style=\"text-align: right;\">\n",
       "      <th></th>\n",
       "      <th>trip_distance</th>\n",
       "      <th>fare_amount</th>\n",
       "      <th>total_amount</th>\n",
       "      <th>trip_duration</th>\n",
       "      <th>price_per_mile</th>\n",
       "      <th>ppm_adj</th>\n",
       "    </tr>\n",
       "    <tr>\n",
       "      <th>Borough</th>\n",
       "      <th></th>\n",
       "      <th></th>\n",
       "      <th></th>\n",
       "      <th></th>\n",
       "      <th></th>\n",
       "      <th></th>\n",
       "    </tr>\n",
       "  </thead>\n",
       "  <tbody>\n",
       "    <tr>\n",
       "      <th>Bronx</th>\n",
       "      <td>4.971207</td>\n",
       "      <td>18.512439</td>\n",
       "      <td>21.021133</td>\n",
       "      <td>1157.658378</td>\n",
       "      <td>4.893393</td>\n",
       "      <td>0.017581</td>\n",
       "    </tr>\n",
       "    <tr>\n",
       "      <th>Brooklyn</th>\n",
       "      <td>3.614051</td>\n",
       "      <td>14.399958</td>\n",
       "      <td>17.446112</td>\n",
       "      <td>921.736424</td>\n",
       "      <td>5.037699</td>\n",
       "      <td>0.017007</td>\n",
       "    </tr>\n",
       "    <tr>\n",
       "      <th>Manhattan</th>\n",
       "      <td>2.345727</td>\n",
       "      <td>11.155125</td>\n",
       "      <td>14.076923</td>\n",
       "      <td>770.191032</td>\n",
       "      <td>6.123809</td>\n",
       "      <td>0.015993</td>\n",
       "    </tr>\n",
       "    <tr>\n",
       "      <th>Queens</th>\n",
       "      <td>11.382569</td>\n",
       "      <td>35.127804</td>\n",
       "      <td>44.586043</td>\n",
       "      <td>1991.745040</td>\n",
       "      <td>3.478871</td>\n",
       "      <td>0.019331</td>\n",
       "    </tr>\n",
       "    <tr>\n",
       "      <th>Staten Island</th>\n",
       "      <td>10.040268</td>\n",
       "      <td>32.527561</td>\n",
       "      <td>40.317195</td>\n",
       "      <td>1672.856098</td>\n",
       "      <td>4.070754</td>\n",
       "      <td>0.026482</td>\n",
       "    </tr>\n",
       "  </tbody>\n",
       "</table>\n",
       "</div>"
      ],
      "text/plain": [
       "               trip_distance  fare_amount  total_amount  trip_duration  \\\n",
       "Borough                                                                  \n",
       "Bronx               4.971207    18.512439     21.021133    1157.658378   \n",
       "Brooklyn            3.614051    14.399958     17.446112     921.736424   \n",
       "Manhattan           2.345727    11.155125     14.076923     770.191032   \n",
       "Queens             11.382569    35.127804     44.586043    1991.745040   \n",
       "Staten Island      10.040268    32.527561     40.317195    1672.856098   \n",
       "\n",
       "               price_per_mile   ppm_adj  \n",
       "Borough                                  \n",
       "Bronx                4.893393  0.017581  \n",
       "Brooklyn             5.037699  0.017007  \n",
       "Manhattan            6.123809  0.015993  \n",
       "Queens               3.478871  0.019331  \n",
       "Staten Island        4.070754  0.026482  "
      ]
     },
     "execution_count": 84,
     "metadata": {},
     "output_type": "execute_result"
    }
   ],
   "source": [
    "grouped_mean = df_clean.groupby(['Borough']).mean()\n",
    "grouped_mean = grouped_mean.drop(columns=['PULocationID','DOLocationID'])\n",
    "grouped_mean"
   ]
  },
  {
   "cell_type": "code",
   "execution_count": 85,
   "metadata": {},
   "outputs": [
    {
     "data": {
      "text/html": [
       "<div>\n",
       "<style scoped>\n",
       "    .dataframe tbody tr th:only-of-type {\n",
       "        vertical-align: middle;\n",
       "    }\n",
       "\n",
       "    .dataframe tbody tr th {\n",
       "        vertical-align: top;\n",
       "    }\n",
       "\n",
       "    .dataframe thead th {\n",
       "        text-align: right;\n",
       "    }\n",
       "</style>\n",
       "<table border=\"1\" class=\"dataframe\">\n",
       "  <thead>\n",
       "    <tr style=\"text-align: right;\">\n",
       "      <th></th>\n",
       "      <th>trip_distance</th>\n",
       "      <th>fare_amount</th>\n",
       "      <th>total_amount</th>\n",
       "      <th>trip_duration</th>\n",
       "      <th>price_per_mile</th>\n",
       "      <th>ppm_adj</th>\n",
       "    </tr>\n",
       "    <tr>\n",
       "      <th>Borough</th>\n",
       "      <th></th>\n",
       "      <th></th>\n",
       "      <th></th>\n",
       "      <th></th>\n",
       "      <th></th>\n",
       "      <th></th>\n",
       "    </tr>\n",
       "  </thead>\n",
       "  <tbody>\n",
       "    <tr>\n",
       "      <th>Bronx</th>\n",
       "      <td>5.054078</td>\n",
       "      <td>15.021922</td>\n",
       "      <td>16.936273</td>\n",
       "      <td>967.177151</td>\n",
       "      <td>2.144588</td>\n",
       "      <td>0.010358</td>\n",
       "    </tr>\n",
       "    <tr>\n",
       "      <th>Brooklyn</th>\n",
       "      <td>3.472215</td>\n",
       "      <td>10.468308</td>\n",
       "      <td>12.011114</td>\n",
       "      <td>697.510363</td>\n",
       "      <td>1.974194</td>\n",
       "      <td>0.006978</td>\n",
       "    </tr>\n",
       "    <tr>\n",
       "      <th>Manhattan</th>\n",
       "      <td>2.641690</td>\n",
       "      <td>8.105399</td>\n",
       "      <td>10.149808</td>\n",
       "      <td>566.652197</td>\n",
       "      <td>2.351435</td>\n",
       "      <td>0.005356</td>\n",
       "    </tr>\n",
       "    <tr>\n",
       "      <th>Queens</th>\n",
       "      <td>5.928385</td>\n",
       "      <td>15.571793</td>\n",
       "      <td>19.977542</td>\n",
       "      <td>1079.665442</td>\n",
       "      <td>1.368228</td>\n",
       "      <td>0.009344</td>\n",
       "    </tr>\n",
       "    <tr>\n",
       "      <th>Staten Island</th>\n",
       "      <td>8.822457</td>\n",
       "      <td>25.857163</td>\n",
       "      <td>33.229536</td>\n",
       "      <td>1420.553090</td>\n",
       "      <td>1.906596</td>\n",
       "      <td>0.063955</td>\n",
       "    </tr>\n",
       "  </tbody>\n",
       "</table>\n",
       "</div>"
      ],
      "text/plain": [
       "               trip_distance  fare_amount  total_amount  trip_duration  \\\n",
       "Borough                                                                  \n",
       "Bronx               5.054078    15.021922     16.936273     967.177151   \n",
       "Brooklyn            3.472215    10.468308     12.011114     697.510363   \n",
       "Manhattan           2.641690     8.105399     10.149808     566.652197   \n",
       "Queens              5.928385    15.571793     19.977542    1079.665442   \n",
       "Staten Island       8.822457    25.857163     33.229536    1420.553090   \n",
       "\n",
       "               price_per_mile   ppm_adj  \n",
       "Borough                                  \n",
       "Bronx                2.144588  0.010358  \n",
       "Brooklyn             1.974194  0.006978  \n",
       "Manhattan            2.351435  0.005356  \n",
       "Queens               1.368228  0.009344  \n",
       "Staten Island        1.906596  0.063955  "
      ]
     },
     "execution_count": 85,
     "metadata": {},
     "output_type": "execute_result"
    }
   ],
   "source": [
    "grouped_std = df_clean.groupby(['Borough']).std()\n",
    "grouped_std = grouped_std.drop(columns=['PULocationID','DOLocationID'])\n",
    "grouped_std"
   ]
  },
  {
   "cell_type": "markdown",
   "metadata": {},
   "source": [
    "Finally, we can perform a t-test over the new feature.\n",
    "\n",
    "- H0: means are the same\n",
    "- H1: means are different\n",
    "\n",
    "P-value treshold is still pvalue = 0.05"
   ]
  },
  {
   "cell_type": "code",
   "execution_count": 86,
   "metadata": {},
   "outputs": [
    {
     "data": {
      "text/html": [
       "<div>\n",
       "<style scoped>\n",
       "    .dataframe tbody tr th:only-of-type {\n",
       "        vertical-align: middle;\n",
       "    }\n",
       "\n",
       "    .dataframe tbody tr th {\n",
       "        vertical-align: top;\n",
       "    }\n",
       "\n",
       "    .dataframe thead th {\n",
       "        text-align: right;\n",
       "    }\n",
       "</style>\n",
       "<table border=\"1\" class=\"dataframe\">\n",
       "  <thead>\n",
       "    <tr style=\"text-align: right;\">\n",
       "      <th></th>\n",
       "      <th>Manhattan</th>\n",
       "      <th>Bronx</th>\n",
       "      <th>Brooklyn</th>\n",
       "      <th>Queens</th>\n",
       "      <th>Staten Island</th>\n",
       "    </tr>\n",
       "  </thead>\n",
       "  <tbody>\n",
       "    <tr>\n",
       "      <th>Manhattan</th>\n",
       "      <td>1.0</td>\n",
       "      <td>NaN</td>\n",
       "      <td>NaN</td>\n",
       "      <td>NaN</td>\n",
       "      <td>NaN</td>\n",
       "    </tr>\n",
       "    <tr>\n",
       "      <th>Bronx</th>\n",
       "      <td>0.0</td>\n",
       "      <td>1.000000e+00</td>\n",
       "      <td>NaN</td>\n",
       "      <td>NaN</td>\n",
       "      <td>NaN</td>\n",
       "    </tr>\n",
       "    <tr>\n",
       "      <th>Brooklyn</th>\n",
       "      <td>0.0</td>\n",
       "      <td>9.175426e-61</td>\n",
       "      <td>1.000000e+00</td>\n",
       "      <td>NaN</td>\n",
       "      <td>NaN</td>\n",
       "    </tr>\n",
       "    <tr>\n",
       "      <th>Queens</th>\n",
       "      <td>0.0</td>\n",
       "      <td>0.000000e+00</td>\n",
       "      <td>0.000000e+00</td>\n",
       "      <td>1.000000e+00</td>\n",
       "      <td>NaN</td>\n",
       "    </tr>\n",
       "    <tr>\n",
       "      <th>Staten Island</th>\n",
       "      <td>0.0</td>\n",
       "      <td>3.743809e-51</td>\n",
       "      <td>1.236487e-157</td>\n",
       "      <td>8.242222e-54</td>\n",
       "      <td>1.0</td>\n",
       "    </tr>\n",
       "  </tbody>\n",
       "</table>\n",
       "</div>"
      ],
      "text/plain": [
       "               Manhattan         Bronx       Brooklyn        Queens  \\\n",
       "Manhattan            1.0           NaN            NaN           NaN   \n",
       "Bronx                0.0  1.000000e+00            NaN           NaN   \n",
       "Brooklyn             0.0  9.175426e-61   1.000000e+00           NaN   \n",
       "Queens               0.0  0.000000e+00   0.000000e+00  1.000000e+00   \n",
       "Staten Island        0.0  3.743809e-51  1.236487e-157  8.242222e-54   \n",
       "\n",
       "               Staten Island  \n",
       "Manhattan                NaN  \n",
       "Bronx                    NaN  \n",
       "Brooklyn                 NaN  \n",
       "Queens                   NaN  \n",
       "Staten Island            1.0  "
      ]
     },
     "execution_count": 86,
     "metadata": {},
     "output_type": "execute_result"
    }
   ],
   "source": [
    "ttest_matrix_adj = pd.DataFrame(index=df_clean.Borough.unique(), columns=df_clean.Borough.unique())\n",
    "\n",
    "for col1 in df_clean.Borough.unique():\n",
    "    for col2 in df_clean.Borough.unique():\n",
    "        ttest_matrix_adj.loc[col1,col2] = stats.ttest_ind(df_clean[df_clean.Borough == col1]['ppm_adj'], df_clean[df_clean.Borough == col2]['ppm_adj']).pvalue\n",
    "        if col1==col2:\n",
    "            break\n",
    "\n",
    "ttest_matrix_adj = ttest_matrix_adj.apply(pd.to_numeric)\n",
    "ttest_matrix_adj    "
   ]
  },
  {
   "cell_type": "markdown",
   "metadata": {},
   "source": [
    "We consider pvalue = 0.05 as a treshold to reject the H0.\n",
    "Pvalues higher than 0.05 mean that Boroughs have the same mean (we accept the H0)\n",
    "Pvalues lower than 0.05 mean that Boroughs have different mean (we reject the H0)\n",
    "\n",
    "It happened that again all the boroughs have different means, so there are boroughs more expensive than others"
   ]
  }
 ],
 "metadata": {
  "kernelspec": {
   "display_name": "Python 3",
   "language": "python",
   "name": "python3"
  },
  "language_info": {
   "codemirror_mode": {
    "name": "ipython",
    "version": 3
   },
   "file_extension": ".py",
   "mimetype": "text/x-python",
   "name": "python",
   "nbconvert_exporter": "python",
   "pygments_lexer": "ipython3",
   "version": "3.7.0"
  }
 },
 "nbformat": 4,
 "nbformat_minor": 2
}
